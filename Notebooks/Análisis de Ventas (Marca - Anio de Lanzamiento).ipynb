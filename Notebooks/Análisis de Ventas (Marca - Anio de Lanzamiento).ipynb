{
 "cells": [
  {
   "cell_type": "code",
   "execution_count": 2,
   "metadata": {},
   "outputs": [
    {
     "name": "stderr",
     "output_type": "stream",
     "text": [
      "c:\\python\\lib\\site-packages\\IPython\\core\\interactiveshell.py:2785: DtypeWarning: Columns (4) have mixed types. Specify dtype option on import or set low_memory=False.\n",
      "  interactivity=interactivity, compiler=compiler, result=result)\n"
     ]
    }
   ],
   "source": [
    "import pandas as pd\n",
    "import numpy as np\n",
    "import matplotlib.pyplot as plt\n",
    "import seaborn as sns\n",
    "import inline as inline\n",
    "\n",
    "%matplotlib inline\n",
    "\n",
    "\n",
    "pd.set_option('display.width', 400)\n",
    "pd.set_option('display.max_columns', 23)\n",
    "pd.set_option('display.max_rows', 100)\n",
    "\n",
    "pd.options.mode.chained_assignment = None\n",
    "\n",
    "plt.style.use('default') # haciendo los graficos un poco mas bonitos en matplotlib\n",
    "#plt.rcParams['figure.figsize'] = (20, 10)\n",
    "\n",
    "sns.set(style=\"whitegrid\") # seteando tipo de grid en seaborn\n",
    "\n",
    "df = pd.read_csv('events.csv')"
   ]
  },
  {
   "cell_type": "code",
   "execution_count": 3,
   "metadata": {},
   "outputs": [
    {
     "data": {
      "text/plain": [
       "Samsung Galaxy J5         88\n",
       "iPhone 5s                 84\n",
       "iPhone 6                  71\n",
       "Samsung Galaxy S6 Flat    39\n",
       "iPhone 6S                 37\n",
       "iPhone 5c                 33\n",
       "Motorola Moto G3 4G       30\n",
       "Motorola Moto G4 Plus     30\n",
       "Name: model, dtype: int64"
      ]
     },
     "execution_count": 3,
     "metadata": {},
     "output_type": "execute_result"
    }
   ],
   "source": [
    "df_model = df[df.model.notnull()][['person', 'model']]\n",
    "model_persons = df_model['person']                #  SERIE CON PERSONAS QEUE ESTA\n",
    "df_model_users = df.loc[df['person'].isin(model_persons), :]\n",
    "df_model_users_buys = df_model_users.loc[df['event'] == 'conversion']\n",
    "models_counts = df_model_users_buys['model'].value_counts().head(8)\n",
    "models_counts"
   ]
  },
  {
   "cell_type": "code",
   "execution_count": 46,
   "metadata": {},
   "outputs": [
    {
     "data": {
      "text/html": [
       "<div>\n",
       "<style scoped>\n",
       "    .dataframe tbody tr th:only-of-type {\n",
       "        vertical-align: middle;\n",
       "    }\n",
       "\n",
       "    .dataframe tbody tr th {\n",
       "        vertical-align: top;\n",
       "    }\n",
       "\n",
       "    .dataframe thead th {\n",
       "        text-align: right;\n",
       "    }\n",
       "</style>\n",
       "<table border=\"1\" class=\"dataframe\">\n",
       "  <thead>\n",
       "    <tr style=\"text-align: right;\">\n",
       "      <th></th>\n",
       "      <th>brand</th>\n",
       "      <th>sales</th>\n",
       "    </tr>\n",
       "  </thead>\n",
       "  <tbody>\n",
       "    <tr>\n",
       "      <th>0</th>\n",
       "      <td>Samsung</td>\n",
       "      <td>641</td>\n",
       "    </tr>\n",
       "    <tr>\n",
       "      <th>1</th>\n",
       "      <td>iPhone</td>\n",
       "      <td>323</td>\n",
       "    </tr>\n",
       "    <tr>\n",
       "      <th>2</th>\n",
       "      <td>Motorola</td>\n",
       "      <td>149</td>\n",
       "    </tr>\n",
       "    <tr>\n",
       "      <th>4</th>\n",
       "      <td>Sony</td>\n",
       "      <td>23</td>\n",
       "    </tr>\n",
       "    <tr>\n",
       "      <th>3</th>\n",
       "      <td>LG</td>\n",
       "      <td>20</td>\n",
       "    </tr>\n",
       "    <tr>\n",
       "      <th>6</th>\n",
       "      <td>Lenovo</td>\n",
       "      <td>14</td>\n",
       "    </tr>\n",
       "    <tr>\n",
       "      <th>5</th>\n",
       "      <td>Asus</td>\n",
       "      <td>2</td>\n",
       "    </tr>\n",
       "  </tbody>\n",
       "</table>\n",
       "</div>"
      ],
      "text/plain": [
       "      brand  sales\n",
       "0   Samsung    641\n",
       "1    iPhone    323\n",
       "2  Motorola    149\n",
       "4      Sony     23\n",
       "3        LG     20\n",
       "6    Lenovo     14\n",
       "5      Asus      2"
      ]
     },
     "execution_count": 46,
     "metadata": {},
     "output_type": "execute_result"
    }
   ],
   "source": [
    "sales_Samsung = sum(df_model_users_buys['model'].loc[df_model_users_buys['model'].str.contains('Samsung')].value_counts())\n",
    "sales_iPhone = sum(df_model_users_buys['model'].loc[df_model_users_buys['model'].str.contains('iPhone')].value_counts())\n",
    "sales_Motorola = sum(df_model_users_buys['model'].loc[df_model_users_buys['model'].str.contains('Motorola')].value_counts())\n",
    "sales_LG = sum(df_model_users_buys['model'].loc[df_model_users_buys['model'].str.contains('LG')].value_counts())\n",
    "sales_Sony = sum(df_model_users_buys['model'].loc[df_model_users_buys['model'].str.contains('Sony')].value_counts())\n",
    "sales_Asus = sum(df_model_users_buys['model'].loc[df_model_users_buys['model'].str.contains('Asus')].value_counts())\n",
    "sales_Lenovo = sum(df_model_users_buys['model'].loc[df_model_users_buys['model'].str.contains('Lenovo')].value_counts())\n",
    "\n",
    "df_brand_sales = pd.DataFrame({'brand': ['Samsung', 'iPhone', 'Motorola', 'LG', 'Sony', 'Asus', 'Lenovo'],\n",
    "                   'sales': [sales_Samsung, sales_iPhone, sales_Motorola, sales_LG, sales_Sony, sales_Asus, sales_Lenovo]})\n",
    "df_brand_sales.sort_values('sales', ascending=False)\n"
   ]
  },
  {
   "cell_type": "code",
   "execution_count": 4,
   "metadata": {},
   "outputs": [
    {
     "data": {
      "text/plain": [
       "Text(0, 0.5, 'Frequency')"
      ]
     },
     "execution_count": 4,
     "metadata": {},
     "output_type": "execute_result"
    },
    {
     "data": {
      "image/png": "[encoded data removed]",
      "text/plain": [
       "<Figure size 432x288 with 1 Axes>"
      ]
     },
     "metadata": {
      "needs_background": "light"
     },
     "output_type": "display_data"
    }
   ],
   "source": [
    "sales_Samsung = df_model_users_buys['model'].loc[df_model_users_buys['model'].str.contains('Samsung')].value_counts().head(15)\n",
    "\n",
    "g2 = sns.barplot(x=sales_Samsung.index, y=sales_Samsung.values, orient = 'v')\n",
    "plt.xticks(rotation=90)\n",
    "g2.set_title(\"Samsung model sales\", fontsize = 15)\n",
    "g2.set_xlabel(\"Model\", fontsize = 12)\n",
    "g2.set_ylabel(\"Frequency\", fontsize = 12)"
   ]
  },
  {
   "cell_type": "code",
   "execution_count": 5,
   "metadata": {},
   "outputs": [
    {
     "data": {
      "text/plain": [
       "Text(0, 0.5, 'Frequency')"
      ]
     },
     "execution_count": 5,
     "metadata": {},
     "output_type": "execute_result"
    },
    {
     "data": {
      "image/png": "[encoded data removed]",
      "text/plain": [
       "<Figure size 432x288 with 1 Axes>"
      ]
     },
     "metadata": {
      "needs_background": "light"
     },
     "output_type": "display_data"
    }
   ],
   "source": [
    "sales_iPhone = df_model_users_buys['model'].loc[df_model_users_buys['model'].str.contains('iPhone')].value_counts().head(15)\n",
    "\n",
    "g2 = sns.barplot(x=sales_iPhone.index, y=sales_iPhone.values, orient = 'v')\n",
    "plt.xticks(rotation=90)\n",
    "g2.set_title(\"iPhone model sales\", fontsize = 15)\n",
    "g2.set_xlabel(\"Model\", fontsize = 12)\n",
    "g2.set_ylabel(\"Frequency\", fontsize = 12)"
   ]
  },
  {
   "cell_type": "code",
   "execution_count": 6,
   "metadata": {},
   "outputs": [
    {
     "data": {
      "text/plain": [
       "Text(0, 0.5, 'Frequency')"
      ]
     },
     "execution_count": 6,
     "metadata": {},
     "output_type": "execute_result"
    },
    {
     "data": {
      "image/png": "[encoded data removed]",
      "text/plain": [
       "<Figure size 432x288 with 1 Axes>"
      ]
     },
     "metadata": {
      "needs_background": "light"
     },
     "output_type": "display_data"
    }
   ],
   "source": [
    "sales_Motorola = df_model_users_buys['model'].loc[df_model_users_buys['model'].str.contains('Motorola')].value_counts().head(15)\n",
    "\n",
    "g2 = sns.barplot(x=sales_Motorola.index, y=sales_Motorola.values, orient = 'v')\n",
    "plt.xticks(rotation=90)\n",
    "g2.set_title(\"Motorola model sales\", fontsize = 15)\n",
    "g2.set_xlabel(\"Model\", fontsize = 12)\n",
    "g2.set_ylabel(\"Frequency\", fontsize = 12)"
   ]
  },
  {
   "cell_type": "code",
   "execution_count": 47,
   "metadata": {},
   "outputs": [
    {
     "data": {
      "text/html": [
       "<div>\n",
       "<style scoped>\n",
       "    .dataframe tbody tr th:only-of-type {\n",
       "        vertical-align: middle;\n",
       "    }\n",
       "\n",
       "    .dataframe tbody tr th {\n",
       "        vertical-align: top;\n",
       "    }\n",
       "\n",
       "    .dataframe thead th {\n",
       "        text-align: right;\n",
       "    }\n",
       "</style>\n",
       "<table border=\"1\" class=\"dataframe\">\n",
       "  <thead>\n",
       "    <tr style=\"text-align: right;\">\n",
       "      <th></th>\n",
       "      <th>model</th>\n",
       "      <th>releaseYear</th>\n",
       "      <th>sales</th>\n",
       "      <th>brand</th>\n",
       "      <th>brand_sales</th>\n",
       "    </tr>\n",
       "  </thead>\n",
       "  <tbody>\n",
       "    <tr>\n",
       "      <th>Samsung Galaxy J5</th>\n",
       "      <td>Samsung Galaxy J5</td>\n",
       "      <td>2017</td>\n",
       "      <td>88</td>\n",
       "      <td>Samsung</td>\n",
       "      <td>641</td>\n",
       "    </tr>\n",
       "    <tr>\n",
       "      <th>iPhone 5s</th>\n",
       "      <td>iPhone 5s</td>\n",
       "      <td>2013</td>\n",
       "      <td>84</td>\n",
       "      <td>iPhone</td>\n",
       "      <td>323</td>\n",
       "    </tr>\n",
       "    <tr>\n",
       "      <th>iPhone 6</th>\n",
       "      <td>iPhone 6</td>\n",
       "      <td>2014</td>\n",
       "      <td>71</td>\n",
       "      <td>iPhone</td>\n",
       "      <td>323</td>\n",
       "    </tr>\n",
       "    <tr>\n",
       "      <th>Samsung Galaxy S6 Flat</th>\n",
       "      <td>Samsung Galaxy S6 Flat</td>\n",
       "      <td>2015</td>\n",
       "      <td>39</td>\n",
       "      <td>Samsung</td>\n",
       "      <td>641</td>\n",
       "    </tr>\n",
       "    <tr>\n",
       "      <th>iPhone 6S</th>\n",
       "      <td>iPhone 6S</td>\n",
       "      <td>2015</td>\n",
       "      <td>37</td>\n",
       "      <td>iPhone</td>\n",
       "      <td>323</td>\n",
       "    </tr>\n",
       "    <tr>\n",
       "      <th>iPhone 5c</th>\n",
       "      <td>iPhone 5c</td>\n",
       "      <td>2013</td>\n",
       "      <td>33</td>\n",
       "      <td>iPhone</td>\n",
       "      <td>323</td>\n",
       "    </tr>\n",
       "    <tr>\n",
       "      <th>Motorola Moto G3 4G</th>\n",
       "      <td>Motorola Moto G4 Plus</td>\n",
       "      <td>2016</td>\n",
       "      <td>30</td>\n",
       "      <td>Motorola</td>\n",
       "      <td>149</td>\n",
       "    </tr>\n",
       "    <tr>\n",
       "      <th>Motorola Moto G4 Plus</th>\n",
       "      <td>Motorola Moto G3 4G</td>\n",
       "      <td>2015</td>\n",
       "      <td>30</td>\n",
       "      <td>Motorola</td>\n",
       "      <td>149</td>\n",
       "    </tr>\n",
       "  </tbody>\n",
       "</table>\n",
       "</div>"
      ],
      "text/plain": [
       "                                         model  releaseYear  sales     brand brand_sales\n",
       "Samsung Galaxy J5            Samsung Galaxy J5         2017     88   Samsung         641\n",
       "iPhone 5s                            iPhone 5s         2013     84    iPhone         323\n",
       "iPhone 6                              iPhone 6         2014     71    iPhone         323\n",
       "Samsung Galaxy S6 Flat  Samsung Galaxy S6 Flat         2015     39   Samsung         641\n",
       "iPhone 6S                            iPhone 6S         2015     37    iPhone         323\n",
       "iPhone 5c                            iPhone 5c         2013     33    iPhone         323\n",
       "Motorola Moto G3 4G      Motorola Moto G4 Plus         2016     30  Motorola         149\n",
       "Motorola Moto G4 Plus      Motorola Moto G3 4G         2015     30  Motorola         149"
      ]
     },
     "execution_count": 47,
     "metadata": {},
     "output_type": "execute_result"
    }
   ],
   "source": [
    "df_releaseYear_model = pd.DataFrame({'model': ['Samsung Galaxy J5', 'iPhone 5s', 'iPhone 6', 'Samsung Galaxy S6 Flat',\n",
    "                                               'iPhone 6S','iPhone 5c','Motorola Moto G4 Plus', 'Motorola Moto G3 4G'],\n",
    "                   'releaseYear': [2017, 2013, 2014, 2015, 2015, 2013, 2016, 2015], 'sales': models_counts})\n",
    "\n",
    "conditions = [\n",
    "    df_releaseYear_model['model'].str.contains('Motorola'),\n",
    "    df_releaseYear_model['model'].str.contains('Samsung'),\n",
    "    df_releaseYear_model['model'].str.contains('iPhone')]\n",
    "\n",
    "choices = ['Motorola', 'Samsung', 'iPhone']\n",
    "sales_choices=[sales_Motorola, sales_Samsung, sales_iPhone]\n",
    "\n",
    "df_releaseYear_model['brand']= np.select(conditions, choices, default='Unknown')\n",
    "df_releaseYear_model['brand_sales']= np.select(conditions, sales_choices, default='Unknown')\n",
    "df_releaseYear_model"
   ]
  },
  {
   "cell_type": "code",
   "execution_count": 66,
   "metadata": {},
   "outputs": [
    {
     "data": {
      "image/png": "[encoded data removed]",
      "text/plain": [
       "<Figure size 432x288 with 1 Axes>"
      ]
     },
     "metadata": {
      "needs_background": "light"
     },
     "output_type": "display_data"
    }
   ],
   "source": [
    "plot = pd.crosstab(index=df_releaseYear_model['releaseYear'],\n",
    "            columns=df_releaseYear_model['brand'], values=df_releaseYear_model['sales'], aggfunc= np.sum).plot(kind='bar', stacked=True)\n",
    "\n"
   ]
  },
  {
   "cell_type": "code",
   "execution_count": 68,
   "metadata": {},
   "outputs": [
    {
     "data": {
      "text/plain": [
       "' Podríamos inferir que, a la hora de comprar productos electrónicos con más de 4 años de antiguedad\\nen el mercado, hay mmayor confianza en los de la línea iPhone. \\nTambién podríamos pensar que, siempre y cuando se trate de productos de los últimos 5 años, pesa más la marca que \\nel año de lanzamiento. El segundo producto más vendido en los 6 meses analizados es un iPhone de 2013'"
      ]
     },
     "execution_count": 68,
     "metadata": {},
     "output_type": "execute_result"
    }
   ],
   "source": [
    "\"\"\" Podríamos inferir que, a la hora de comprar productos electrónicos con más de 4 años de antiguedad\n",
    "en el mercado, hay mmayor confianza en los de la línea iPhone. \n",
    "También podríamos pensar que, siempre y cuando se trate de productos de los últimos 5 años, pesa más la marca que \n",
    "el año de lanzamiento. El segundo producto más vendido en los 6 meses analizados es un iPhone de 2013\"\"\""
   ]
  }
 ],
 "metadata": {
  "kernelspec": {
   "display_name": "Python 3",
   "language": "python",
   "name": "python3"
  },
  "language_info": {
   "codemirror_mode": {
    "name": "ipython",
    "version": 3
   },
   "file_extension": ".py",
   "mimetype": "text/x-python",
   "name": "python",
   "nbconvert_exporter": "python",
   "pygments_lexer": "ipython3",
   "version": "3.7.0"
  }
 },
 "nbformat": 4,
 "nbformat_minor": 2
}
