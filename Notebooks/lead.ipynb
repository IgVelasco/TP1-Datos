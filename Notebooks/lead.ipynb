{
 "cells": [
  {
   "cell_type": "code",
   "execution_count": 3,
   "metadata": {},
   "outputs": [
    {
     "data": {
      "application/javascript": [
       "\n",
       "IPython.keyboard_manager.command_shortcuts.add_shortcut('Ctrl-k', {\n",
       "    help : 'move up selected cells',\n",
       "    help_index : 'jupyter-notebook:move-selection-up',\n",
       "    handler : function (event) {\n",
       "        IPython.notebook.move_selection_up();\n",
       "        return false;\n",
       "    }}\n",
       ");\n",
       "\n",
       "IPython.keyboard_manager.command_shortcuts.add_shortcut('Ctrl-j', {\n",
       "    help : 'move down selected cells',\n",
       "    help_index : 'jupyter-notebook:move-selection-down',\n",
       "    handler :  function (event) {\n",
       "        IPython.notebook.move_selection_down();\n",
       "        return false;\n",
       "    }}\n",
       ");"
      ],
      "text/plain": [
       "<IPython.core.display.Javascript object>"
      ]
     },
     "metadata": {},
     "output_type": "display_data"
    }
   ],
   "source": [
    "\n",
    "%%javascript\n",
    "\n",
    "IPython.keyboard_manager.command_shortcuts.add_shortcut('Ctrl-k', {\n",
    "    help : 'move up selected cells',\n",
    "    help_index : 'jupyter-notebook:move-selection-up',\n",
    "    handler : function (event) {\n",
    "        IPython.notebook.move_selection_up();\n",
    "        return false;\n",
    "    }}\n",
    ");\n",
    "\n",
    "IPython.keyboard_manager.command_shortcuts.add_shortcut('Ctrl-j', {\n",
    "    help : 'move down selected cells',\n",
    "    help_index : 'jupyter-notebook:move-selection-down',\n",
    "    handler :  function (event) {\n",
    "        IPython.notebook.move_selection_down();\n",
    "        return false;\n",
    "    }}\n",
    ");"
   ]
  },
  {
   "cell_type": "markdown",
   "metadata": {},
   "source": [
    "\n"
   ]
  },
  {
   "cell_type": "code",
   "execution_count": 2,
   "metadata": {},
   "outputs": [],
   "source": [
    "import pandas as pd\n",
    "import numpy as np\n",
    "import matplotlib.pyplot as plt\n",
    "import seaborn as sns\n",
    "import inline as inline\n",
    "\n",
    "%matplotlib inline\n",
    "\n",
    "pd.set_option('display.width', 400)\n",
    "pd.set_option('display.max_columns', 23)\n",
    "pd.set_option('display.max_rows', 100)\n",
    "\n",
    "pd.options.mode.chained_assignment = None\n",
    "\n",
    "plt.style.use('default') # haciendo los graficos un poco mas bonitos en matplotlib\n",
    "#plt.rcParams['figure.figsize'] = (20, 10)\n",
    "\n",
    "sns.set(style=\"whitegrid\") # seteando tipo de grid en seaborn\n",
    "\n",
    "df = pd.read_csv('events.csv', low_memory = False)\n"
   ]
  },
  {
   "cell_type": "markdown",
   "metadata": {},
   "source": [
    "## Analisis del evento \"lead\"\n",
    "\n",
    "Veremos como se comporta los usuarios que accedieron a este evento de la pagina."
   ]
  },
  {
   "cell_type": "code",
   "execution_count": 3,
   "metadata": {
    "scrolled": true
   },
   "outputs": [
    {
     "data": {
      "text/html": [
       "<div>\n",
       "<style scoped>\n",
       "    .dataframe tbody tr th:only-of-type {\n",
       "        vertical-align: middle;\n",
       "    }\n",
       "\n",
       "    .dataframe tbody tr th {\n",
       "        vertical-align: top;\n",
       "    }\n",
       "\n",
       "    .dataframe thead th {\n",
       "        text-align: right;\n",
       "    }\n",
       "</style>\n",
       "<table border=\"1\" class=\"dataframe\">\n",
       "  <thead>\n",
       "    <tr style=\"text-align: right;\">\n",
       "      <th></th>\n",
       "      <th>timestamp</th>\n",
       "      <th>event</th>\n",
       "      <th>person</th>\n",
       "      <th>url</th>\n",
       "      <th>sku</th>\n",
       "      <th>model</th>\n",
       "      <th>condition</th>\n",
       "      <th>storage</th>\n",
       "      <th>color</th>\n",
       "      <th>skus</th>\n",
       "      <th>search_term</th>\n",
       "      <th>staticpage</th>\n",
       "      <th>campaign_source</th>\n",
       "      <th>search_engine</th>\n",
       "      <th>channel</th>\n",
       "      <th>new_vs_returning</th>\n",
       "      <th>city</th>\n",
       "      <th>region</th>\n",
       "      <th>country</th>\n",
       "      <th>device_type</th>\n",
       "      <th>screen_resolution</th>\n",
       "      <th>operating_system_version</th>\n",
       "      <th>browser_version</th>\n",
       "    </tr>\n",
       "  </thead>\n",
       "  <tbody>\n",
       "    <tr>\n",
       "      <th>count</th>\n",
       "      <td>63887</td>\n",
       "      <td>63887</td>\n",
       "      <td>63887</td>\n",
       "      <td>3881</td>\n",
       "      <td>34000</td>\n",
       "      <td>34448</td>\n",
       "      <td>34000</td>\n",
       "      <td>34000</td>\n",
       "      <td>34000</td>\n",
       "      <td>17265</td>\n",
       "      <td>3060</td>\n",
       "      <td>410</td>\n",
       "      <td>3882</td>\n",
       "      <td>2283</td>\n",
       "      <td>5529</td>\n",
       "      <td>5529</td>\n",
       "      <td>5529</td>\n",
       "      <td>5529</td>\n",
       "      <td>5529</td>\n",
       "      <td>5529</td>\n",
       "      <td>5529</td>\n",
       "      <td>5529</td>\n",
       "      <td>5529</td>\n",
       "    </tr>\n",
       "    <tr>\n",
       "      <th>unique</th>\n",
       "      <td>56926</td>\n",
       "      <td>11</td>\n",
       "      <td>291</td>\n",
       "      <td>148</td>\n",
       "      <td>1947</td>\n",
       "      <td>181</td>\n",
       "      <td>5</td>\n",
       "      <td>8</td>\n",
       "      <td>61</td>\n",
       "      <td>6736</td>\n",
       "      <td>733</td>\n",
       "      <td>12</td>\n",
       "      <td>19</td>\n",
       "      <td>3</td>\n",
       "      <td>6</td>\n",
       "      <td>2</td>\n",
       "      <td>278</td>\n",
       "      <td>27</td>\n",
       "      <td>5</td>\n",
       "      <td>3</td>\n",
       "      <td>47</td>\n",
       "      <td>35</td>\n",
       "      <td>81</td>\n",
       "    </tr>\n",
       "    <tr>\n",
       "      <th>top</th>\n",
       "      <td>2018-03-21 01:11:52</td>\n",
       "      <td>viewed product</td>\n",
       "      <td>71492f2b</td>\n",
       "      <td>/</td>\n",
       "      <td>2830.0</td>\n",
       "      <td>iPhone 6</td>\n",
       "      <td>Bom</td>\n",
       "      <td>16GB</td>\n",
       "      <td>Preto</td>\n",
       "      <td>3371,6357,6371,2777,3191,6791,2718,2725,6399,3...</td>\n",
       "      <td>J7</td>\n",
       "      <td>CustomerService</td>\n",
       "      <td>google</td>\n",
       "      <td>Google</td>\n",
       "      <td>Direct</td>\n",
       "      <td>Returning</td>\n",
       "      <td>Unknown</td>\n",
       "      <td>Sao Paulo</td>\n",
       "      <td>Brazil</td>\n",
       "      <td>Computer</td>\n",
       "      <td>360x640</td>\n",
       "      <td>Windows 7</td>\n",
       "      <td>Chrome 66.0</td>\n",
       "    </tr>\n",
       "    <tr>\n",
       "      <th>freq</th>\n",
       "      <td>6</td>\n",
       "      <td>32907</td>\n",
       "      <td>2771</td>\n",
       "      <td>1362</td>\n",
       "      <td>259</td>\n",
       "      <td>2558</td>\n",
       "      <td>14599</td>\n",
       "      <td>12286</td>\n",
       "      <td>8984</td>\n",
       "      <td>62</td>\n",
       "      <td>109</td>\n",
       "      <td>226</td>\n",
       "      <td>2258</td>\n",
       "      <td>2221</td>\n",
       "      <td>1830</td>\n",
       "      <td>5243</td>\n",
       "      <td>1006</td>\n",
       "      <td>1152</td>\n",
       "      <td>5376</td>\n",
       "      <td>2813</td>\n",
       "      <td>1949</td>\n",
       "      <td>1329</td>\n",
       "      <td>1032</td>\n",
       "    </tr>\n",
       "  </tbody>\n",
       "</table>\n",
       "</div>"
      ],
      "text/plain": [
       "                  timestamp           event    person   url     sku     model condition storage  color                                               skus search_term       staticpage campaign_source search_engine channel new_vs_returning     city     region country device_type screen_resolution operating_system_version browser_version\n",
       "count                 63887           63887     63887  3881   34000     34448     34000   34000  34000                                              17265        3060              410            3882          2283    5529             5529     5529       5529    5529        5529              5529                     5529            5529\n",
       "unique                56926              11       291   148    1947       181         5       8     61                                               6736         733               12              19             3       6                2      278         27       5           3                47                       35              81\n",
       "top     2018-03-21 01:11:52  viewed product  71492f2b     /  2830.0  iPhone 6       Bom    16GB  Preto  3371,6357,6371,2777,3191,6791,2718,2725,6399,3...          J7  CustomerService          google        Google  Direct        Returning  Unknown  Sao Paulo  Brazil    Computer           360x640               Windows 7      Chrome 66.0\n",
       "freq                      6           32907      2771  1362     259      2558     14599   12286   8984                                                 62         109              226            2258          2221    1830             5243     1006       1152    5376        2813              1949                     1329            1032"
      ]
     },
     "execution_count": 3,
     "metadata": {},
     "output_type": "execute_result"
    }
   ],
   "source": [
    "lead = (df.loc[df['event'] == 'lead'])['person']\n",
    "df_lead_users = df.loc[df.person.isin(lead)]\n",
    "df_lead_users.describe()"
   ]
  },
  {
   "cell_type": "markdown",
   "metadata": {},
   "source": [
    "Vemos que solo 291 personas lo utilizaron"
   ]
  },
  {
   "cell_type": "code",
   "execution_count": 16,
   "metadata": {
    "scrolled": true
   },
   "outputs": [
    {
     "data": {
      "text/plain": [
       "viewed product       32907\n",
       "brand listing         9439\n",
       "visited site          5529\n",
       "generic listing       4381\n",
       "ad campaign hit       3887\n",
       "searched products     3510\n",
       "search engine hit     2283\n",
       "checkout               969\n",
       "lead                   448\n",
       "staticpage             410\n",
       "conversion             124\n",
       "Name: event, dtype: int64"
      ]
     },
     "execution_count": 16,
     "metadata": {},
     "output_type": "execute_result"
    }
   ],
   "source": [
    "event_counts_lead= df_lead_users.event.value_counts()\n",
    "checkout_vs_conversion = event_counts_lead.drop(labels=['ad campaign hit', 'viewed product','staticpage','lead', 'brand listing'])\n",
    "event_counts_lead"
   ]
  },
  {
   "cell_type": "markdown",
   "metadata": {},
   "source": [
    "Tambien vemos que de esas 291 personas se realizaron 124 conversion lo que es un muy buen valor dada la proporcion"
   ]
  },
  {
   "cell_type": "code",
   "execution_count": 17,
   "metadata": {},
   "outputs": [
    {
     "data": {
      "text/plain": [
       "Text(0,0.5,'Event Name')"
      ]
     },
     "execution_count": 17,
     "metadata": {},
     "output_type": "execute_result"
    },
    {
     "data": {
      "image/png": "[encoded data removed]",
      "text/plain": [
       "<Figure size 640x480 with 1 Axes>"
      ]
     },
     "metadata": {},
     "output_type": "display_data"
    }
   ],
   "source": [
    "g = sns.barplot(x=checkout_vs_conversion.index, y=checkout_vs_conversion.values, orient='v')\n",
    "plt.xticks(rotation=90)\n",
    "\n",
    "g.set_title(\"Page Events on Google Campaign\", fontsize=15)\n",
    "g.set_xlabel(\"Quantity Of Events\", fontsize=12)\n",
    "g.set_ylabel(\"Event Name\", fontsize=12)"
   ]
  },
  {
   "cell_type": "markdown",
   "metadata": {},
   "source": [
    "De la misma forma estos valores siguen siendo bajos con respecto a los checkout"
   ]
  },
  {
   "cell_type": "code",
   "execution_count": 23,
   "metadata": {},
   "outputs": [
    {
     "data": {
      "text/plain": [
       "viewed product       32907\n",
       "brand listing         9439\n",
       "visited site          5529\n",
       "generic listing       4381\n",
       "ad campaign hit       3887\n",
       "searched products     3510\n",
       "search engine hit     2283\n",
       "checkout               969\n",
       "lead                   448\n",
       "staticpage             410\n",
       "conversion             124\n",
       "Name: event, dtype: int64"
      ]
     },
     "execution_count": 23,
     "metadata": {},
     "output_type": "execute_result"
    }
   ],
   "source": [
    "conversion_person_lead =(df_lead_users.loc[df_lead_users['event'] == 'conversion'])['person'].drop_duplicates()\n",
    "df_lead_users_conversion = df_lead_users.loc[df_lead_users['person'].isin(conversion_person_lead)]\n",
    "event_counts_lead_conversion= df_lead_users_conversion.event.value_counts()\n",
    "event_counts_lead= df_lead_users.event.value_counts()\n",
    "checkout_vs_conversion_lead = event_counts_lead_conversion.drop(labels=['ad campaign hit', 'viewed product','staticpage','lead', 'brand listing'])\n",
    "event_counts_lead\n"
   ]
  },
  {
   "cell_type": "code",
   "execution_count": 395,
   "metadata": {},
   "outputs": [
    {
     "data": {
      "text/plain": [
       "count          124\n",
       "unique          58\n",
       "top       a0d4baef\n",
       "freq            11\n",
       "Name: person, dtype: object"
      ]
     },
     "execution_count": 395,
     "metadata": {},
     "output_type": "execute_result"
    }
   ],
   "source": [
    "conversion_person_lead.describe()"
   ]
  },
  {
   "cell_type": "markdown",
   "metadata": {},
   "source": [
    "De las 291 personas 58 decidieron comprar, y al tener 124 compras vemos que muchos compraron mas de una vez!\n"
   ]
  },
  {
   "cell_type": "code",
   "execution_count": 25,
   "metadata": {},
   "outputs": [
    {
     "data": {
      "text/plain": [
       "Text(0,0.5,'Event Name')"
      ]
     },
     "execution_count": 25,
     "metadata": {},
     "output_type": "execute_result"
    },
    {
     "data": {
      "image/png": "[encoded data removed]",
      "text/plain": [
       "<Figure size 640x480 with 1 Axes>"
      ]
     },
     "metadata": {},
     "output_type": "display_data"
    }
   ],
   "source": [
    "g = sns.barplot(x=checkout_vs_conversion_lead.index, y=checkout_vs_conversion_lead.values, orient='v')\n",
    "g.set_title(\"Page Events on Google Campaign\", fontsize=15)\n",
    "g.set_xlabel(\"Quantity Of Events\", fontsize=12)\n",
    "g.set_ylabel(\"Event Name\", fontsize=12)"
   ]
  },
  {
   "cell_type": "markdown",
   "metadata": {},
   "source": [
    "Haciendo los mismos pasos que hicimos en la campaña la conversion sigue siendo notoriamente menor a los checkouts aunque sean personas que realizaron compras"
   ]
  },
  {
   "cell_type": "code",
   "execution_count": null,
   "metadata": {},
   "outputs": [],
   "source": []
  }
 ],
 "metadata": {
  "kernelspec": {
   "display_name": "Python 3",
   "language": "python",
   "name": "python3"
  },
  "language_info": {
   "codemirror_mode": {
    "name": "ipython",
    "version": 3
   },
   "file_extension": ".py",
   "mimetype": "text/x-python",
   "name": "python",
   "nbconvert_exporter": "python",
   "pygments_lexer": "ipython3",
   "version": "3.7.0"
  }
 },
 "nbformat": 4,
 "nbformat_minor": 1
}
