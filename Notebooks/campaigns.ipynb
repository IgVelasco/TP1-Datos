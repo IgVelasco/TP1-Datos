{
 "cells": [
  {
   "cell_type": "code",
<<<<<<< HEAD
   "execution_count": 33,
=======
   "execution_count": 12,
>>>>>>> 55e26261e6606502d6259637222a7ca3ce0edf83
   "metadata": {},
   "outputs": [
    {
     "data": {
      "application/javascript": [
       "\n",
       "IPython.keyboard_manager.command_shortcuts.add_shortcut('Ctrl-k', {\n",
       "    help : 'move up selected cells',\n",
       "    help_index : 'jupyter-notebook:move-selection-up',\n",
       "    handler : function (event) {\n",
       "        IPython.notebook.move_selection_up();\n",
       "        return false;\n",
       "    }}\n",
       ");\n",
       "\n",
       "IPython.keyboard_manager.command_shortcuts.add_shortcut('Ctrl-j', {\n",
       "    help : 'move down selected cells',\n",
       "    help_index : 'jupyter-notebook:move-selection-down',\n",
       "    handler :  function (event) {\n",
       "        IPython.notebook.move_selection_down();\n",
       "        return false;\n",
       "    }}\n",
       ");"
      ],
      "text/plain": [
       "<IPython.core.display.Javascript object>"
      ]
     },
     "metadata": {},
     "output_type": "display_data"
    }
   ],
   "source": [
    "\n",
    "%%javascript\n",
    "\n",
    "IPython.keyboard_manager.command_shortcuts.add_shortcut('Ctrl-k', {\n",
    "    help : 'move up selected cells',\n",
    "    help_index : 'jupyter-notebook:move-selection-up',\n",
    "    handler : function (event) {\n",
    "        IPython.notebook.move_selection_up();\n",
    "        return false;\n",
    "    }}\n",
    ");\n",
    "\n",
    "IPython.keyboard_manager.command_shortcuts.add_shortcut('Ctrl-j', {\n",
    "    help : 'move down selected cells',\n",
    "    help_index : 'jupyter-notebook:move-selection-down',\n",
    "    handler :  function (event) {\n",
    "        IPython.notebook.move_selection_down();\n",
    "        return false;\n",
    "    }}\n",
    ");"
   ]
  },
  {
   "cell_type": "markdown",
   "metadata": {},
   "source": [
    "\n"
   ]
  },
  {
   "cell_type": "code",
<<<<<<< HEAD
   "execution_count": 34,
   "metadata": {
    "scrolled": false
   },
=======
   "execution_count": 154,
   "metadata": {},
>>>>>>> 55e26261e6606502d6259637222a7ca3ce0edf83
   "outputs": [
    {
     "data": {
      "text/html": [
       "<div>\n",
       "<style scoped>\n",
       "    .dataframe tbody tr th:only-of-type {\n",
       "        vertical-align: middle;\n",
       "    }\n",
       "\n",
       "    .dataframe tbody tr th {\n",
       "        vertical-align: top;\n",
       "    }\n",
       "\n",
       "    .dataframe thead th {\n",
       "        text-align: right;\n",
       "    }\n",
       "</style>\n",
       "<table border=\"1\" class=\"dataframe\">\n",
       "  <thead>\n",
       "    <tr style=\"text-align: right;\">\n",
       "      <th></th>\n",
       "      <th>timestamp</th>\n",
       "      <th>event</th>\n",
       "      <th>person</th>\n",
       "      <th>url</th>\n",
       "      <th>sku</th>\n",
       "      <th>model</th>\n",
       "      <th>condition</th>\n",
       "      <th>storage</th>\n",
       "      <th>color</th>\n",
       "      <th>skus</th>\n",
       "      <th>search_term</th>\n",
       "      <th>staticpage</th>\n",
       "      <th>campaign_source</th>\n",
       "      <th>search_engine</th>\n",
       "      <th>channel</th>\n",
       "      <th>new_vs_returning</th>\n",
       "      <th>city</th>\n",
       "      <th>region</th>\n",
       "      <th>country</th>\n",
       "      <th>device_type</th>\n",
       "      <th>screen_resolution</th>\n",
       "      <th>operating_system_version</th>\n",
       "      <th>browser_version</th>\n",
       "    </tr>\n",
       "  </thead>\n",
       "  <tbody>\n",
       "    <tr>\n",
       "      <th>count</th>\n",
       "      <td>1011288</td>\n",
       "      <td>1011288</td>\n",
       "      <td>1011288</td>\n",
       "      <td>82756</td>\n",
       "      <td>563838</td>\n",
       "      <td>564284</td>\n",
       "      <td>563836</td>\n",
       "      <td>563836</td>\n",
       "      <td>563836</td>\n",
       "      <td>221699</td>\n",
       "      <td>48967</td>\n",
       "      <td>3598</td>\n",
       "      <td>82796</td>\n",
       "      <td>50957</td>\n",
       "      <td>87378</td>\n",
       "      <td>87378</td>\n",
       "      <td>87378</td>\n",
       "      <td>87378</td>\n",
       "      <td>87378</td>\n",
       "      <td>87378</td>\n",
       "      <td>87378</td>\n",
       "      <td>87378</td>\n",
       "      <td>87378</td>\n",
       "    </tr>\n",
       "    <tr>\n",
       "      <th>unique</th>\n",
       "      <td>793805</td>\n",
       "      <td>11</td>\n",
       "      <td>27624</td>\n",
       "      <td>227</td>\n",
       "      <td>3574</td>\n",
       "      <td>202</td>\n",
       "      <td>5</td>\n",
       "      <td>8</td>\n",
       "      <td>63</td>\n",
       "      <td>35310</td>\n",
       "      <td>5851</td>\n",
       "      <td>14</td>\n",
       "      <td>24</td>\n",
       "      <td>4</td>\n",
       "      <td>7</td>\n",
       "      <td>2</td>\n",
       "      <td>1939</td>\n",
       "      <td>93</td>\n",
       "      <td>46</td>\n",
       "      <td>4</td>\n",
       "      <td>282</td>\n",
       "      <td>121</td>\n",
       "      <td>343</td>\n",
       "    </tr>\n",
       "    <tr>\n",
       "      <th>top</th>\n",
       "      <td>2018-05-15 15:56:06</td>\n",
       "      <td>viewed product</td>\n",
       "      <td>71492f2b</td>\n",
       "      <td>/</td>\n",
       "      <td>2830.0</td>\n",
       "      <td>iPhone 6</td>\n",
       "      <td>Bom</td>\n",
       "      <td>16GB</td>\n",
       "      <td>Preto</td>\n",
       "      <td>2820,6706,6720,2750,6649,7251,6663,12604,7224,...</td>\n",
       "      <td>Iphone</td>\n",
       "      <td>CustomerService</td>\n",
       "      <td>google</td>\n",
       "      <td>Google</td>\n",
       "      <td>Paid</td>\n",
       "      <td>Returning</td>\n",
       "      <td>Unknown</td>\n",
       "      <td>Sao Paulo</td>\n",
       "      <td>Brazil</td>\n",
       "      <td>Smartphone</td>\n",
       "      <td>360x640</td>\n",
       "      <td>Windows 7</td>\n",
       "      <td>Chrome 66.0</td>\n",
       "    </tr>\n",
       "    <tr>\n",
       "      <th>freq</th>\n",
       "      <td>11</td>\n",
       "      <td>528931</td>\n",
       "      <td>2771</td>\n",
       "      <td>28323</td>\n",
       "      <td>4282</td>\n",
       "      <td>50916</td>\n",
       "      <td>243014</td>\n",
       "      <td>190833</td>\n",
       "      <td>132960</td>\n",
       "      <td>594</td>\n",
       "      <td>1207</td>\n",
       "      <td>1528</td>\n",
       "      <td>58153</td>\n",
       "      <td>50240</td>\n",
       "      <td>44193</td>\n",
       "      <td>60480</td>\n",
       "      <td>15819</td>\n",
       "      <td>24996</td>\n",
       "      <td>84308</td>\n",
       "      <td>44239</td>\n",
       "      <td>30009</td>\n",
       "      <td>19675</td>\n",
       "      <td>22611</td>\n",
       "    </tr>\n",
       "  </tbody>\n",
       "</table>\n",
       "</div>"
      ],
      "text/plain": [
       "                  timestamp           event    person    url     sku     model condition storage   color                                               skus search_term       staticpage campaign_source search_engine channel new_vs_returning     city     region country device_type screen_resolution operating_system_version browser_version\n",
       "count               1011288         1011288   1011288  82756  563838    564284    563836  563836  563836                                             221699       48967             3598           82796         50957   87378            87378    87378      87378   87378       87378             87378                    87378           87378\n",
       "unique               793805              11     27624    227    3574       202         5       8      63                                              35310        5851               14              24             4       7                2     1939         93      46           4               282                      121             343\n",
       "top     2018-05-15 15:56:06  viewed product  71492f2b      /  2830.0  iPhone 6       Bom    16GB   Preto  2820,6706,6720,2750,6649,7251,6663,12604,7224,...      Iphone  CustomerService          google        Google    Paid        Returning  Unknown  Sao Paulo  Brazil  Smartphone           360x640               Windows 7      Chrome 66.0\n",
       "freq                     11          528931      2771  28323    4282     50916    243014  190833  132960                                                594        1207             1528           58153         50240   44193            60480    15819      24996   84308       44239             30009                    19675           22611"
      ]
     },
<<<<<<< HEAD
     "execution_count": 34,
=======
     "execution_count": 154,
>>>>>>> 55e26261e6606502d6259637222a7ca3ce0edf83
     "metadata": {},
     "output_type": "execute_result"
    }
   ],
   "source": [
    "import pandas as pd\n",
    "import numpy as np\n",
    "import matplotlib.pyplot as plt\n",
    "import seaborn as sns\n",
    "\n",
    "%matplotlib inline\n",
    "\n",
    "pd.set_option('display.width', 400)\n",
    "pd.set_option('display.max_columns', 23)\n",
    "pd.set_option('display.max_rows', 100)\n",
    "\n",
    "pd.options.mode.chained_assignment = None\n",
    "\n",
    "plt.style.use('default') # haciendo los graficos un poco mas bonitos en matplotlib\n",
    "#plt.rcParams['figure.figsize'] = (20, 10)\n",
    "\n",
    "sns.set(style=\"whitegrid\") # seteando tipo de grid en seaborn\n",
    "\n",
    "df = pd.read_csv('events.csv', low_memory = False)\n",
    "\n",
    "df.describe()"
   ]
  },
  {
   "cell_type": "code",
<<<<<<< HEAD
   "execution_count": 35,
   "metadata": {
    "scrolled": false
   },
=======
   "execution_count": 66,
   "metadata": {},
>>>>>>> 55e26261e6606502d6259637222a7ca3ce0edf83
   "outputs": [
    {
     "data": {
      "text/html": [
       "<div>\n",
       "<style scoped>\n",
       "    .dataframe tbody tr th:only-of-type {\n",
       "        vertical-align: middle;\n",
       "    }\n",
       "\n",
       "    .dataframe tbody tr th {\n",
       "        vertical-align: top;\n",
       "    }\n",
       "\n",
       "    .dataframe thead th {\n",
       "        text-align: right;\n",
       "    }\n",
       "</style>\n",
       "<table border=\"1\" class=\"dataframe\">\n",
       "  <thead>\n",
       "    <tr style=\"text-align: right;\">\n",
       "      <th></th>\n",
       "      <th>person</th>\n",
       "      <th>campaign_source</th>\n",
       "      <th>timestamp</th>\n",
       "    </tr>\n",
       "  </thead>\n",
       "  <tbody>\n",
       "    <tr>\n",
       "      <th>count</th>\n",
       "      <td>21306</td>\n",
       "      <td>21306</td>\n",
       "      <td>21306</td>\n",
       "    </tr>\n",
       "    <tr>\n",
       "      <th>unique</th>\n",
       "      <td>21306</td>\n",
       "      <td>22</td>\n",
       "      <td>21216</td>\n",
       "    </tr>\n",
       "    <tr>\n",
       "      <th>top</th>\n",
<<<<<<< HEAD
       "      <td>2018-05-15 15:56:06</td>\n",
       "      <td>ad campaign hit</td>\n",
       "      <td>03b282fc</td>\n",
       "      <td>/</td>\n",
       "      <td>NaN</td>\n",
       "      <td>NaN</td>\n",
       "      <td>NaN</td>\n",
       "      <td>NaN</td>\n",
       "      <td>NaN</td>\n",
       "      <td>NaN</td>\n",
       "      <td>NaN</td>\n",
       "      <td>NaN</td>\n",
=======
       "      <td>897da1dd</td>\n",
>>>>>>> 55e26261e6606502d6259637222a7ca3ce0edf83
       "      <td>google</td>\n",
       "      <td>2018-05-15 15:56:06</td>\n",
       "    </tr>\n",
       "    <tr>\n",
       "      <th>freq</th>\n",
       "      <td>1</td>\n",
       "      <td>16699</td>\n",
       "      <td>3</td>\n",
       "    </tr>\n",
       "  </tbody>\n",
       "</table>\n",
       "</div>"
      ],
      "text/plain": [
<<<<<<< HEAD
       "                  timestamp            event    person    url  sku  model  condition  storage  color  skus  search_term  staticpage campaign_source  search_engine  channel  new_vs_returning  city  region  country  device_type  screen_resolution  operating_system_version  browser_version\n",
       "count                 21306            21306     21306  21285  0.0    0.0        0.0      0.0    0.0   0.0          0.0         0.0           21306            0.0      0.0               0.0   0.0     0.0      0.0          0.0                0.0                       0.0              0.0\n",
       "unique                21216                1     21306    198  0.0    0.0        0.0      0.0    0.0   0.0          0.0         0.0              22            0.0      0.0               0.0   0.0     0.0      0.0          0.0                0.0                       0.0              0.0\n",
       "top     2018-05-15 15:56:06  ad campaign hit  03b282fc      /  NaN    NaN        NaN      NaN    NaN   NaN          NaN         NaN          google            NaN      NaN               NaN   NaN     NaN      NaN          NaN                NaN                       NaN              NaN\n",
       "freq                      3            21306         1   7510  NaN    NaN        NaN      NaN    NaN   NaN          NaN         NaN           16699            NaN      NaN               NaN   NaN     NaN      NaN          NaN                NaN                       NaN              NaN"
      ]
     },
     "execution_count": 35,
=======
       "          person campaign_source            timestamp\n",
       "count      21306           21306                21306\n",
       "unique     21306              22                21216\n",
       "top     897da1dd          google  2018-05-15 15:56:06\n",
       "freq           1           16699                    3"
      ]
     },
     "execution_count": 66,
>>>>>>> 55e26261e6606502d6259637222a7ca3ce0edf83
     "metadata": {},
     "output_type": "execute_result"
    }
   ],
   "source": [
<<<<<<< HEAD
    "df_campaign_entries = df.loc[df['campaign_source'].notnull()]\n",
    "df_campaign_person = df_campaign_entries.drop_duplicates('person')\n",
    "df_campaign_person.describe()"
   ]
  },
  {
   "cell_type": "markdown",
   "metadata": {},
   "source": [
    "La cantidad de gente que entro a la pagina por campaña por lo menos una vez es 21306"
   ]
  },
  {
   "cell_type": "markdown",
   "metadata": {},
   "source": [
    "De los entries que son de campaign_source tenemos 82796"
=======
    "df_campaign = df[df.campaign_source.notnull()][['person', 'campaign_source', 'timestamp']].drop_duplicates('person')\n",
    "df_campaign.describe()"
>>>>>>> 55e26261e6606502d6259637222a7ca3ce0edf83
   ]
  },
  {
   "cell_type": "code",
<<<<<<< HEAD
   "execution_count": 36,
   "metadata": {
    "scrolled": true
   },
=======
   "execution_count": 151,
   "metadata": {},
>>>>>>> 55e26261e6606502d6259637222a7ca3ce0edf83
   "outputs": [
    {
     "data": {
      "text/html": [
       "<div>\n",
       "<style scoped>\n",
       "    .dataframe tbody tr th:only-of-type {\n",
       "        vertical-align: middle;\n",
       "    }\n",
       "\n",
       "    .dataframe tbody tr th {\n",
       "        vertical-align: top;\n",
       "    }\n",
       "\n",
       "    .dataframe thead th {\n",
       "        text-align: right;\n",
       "    }\n",
       "</style>\n",
       "<table border=\"1\" class=\"dataframe\">\n",
       "  <thead>\n",
       "    <tr style=\"text-align: right;\">\n",
       "      <th></th>\n",
       "      <th>timestamp</th>\n",
       "      <th>event</th>\n",
       "      <th>person</th>\n",
       "      <th>url</th>\n",
       "      <th>sku</th>\n",
       "      <th>model</th>\n",
       "      <th>condition</th>\n",
       "      <th>storage</th>\n",
       "      <th>color</th>\n",
       "      <th>skus</th>\n",
       "      <th>search_term</th>\n",
       "      <th>staticpage</th>\n",
       "      <th>campaign_source</th>\n",
       "      <th>search_engine</th>\n",
       "      <th>channel</th>\n",
       "      <th>new_vs_returning</th>\n",
       "      <th>city</th>\n",
       "      <th>region</th>\n",
       "      <th>country</th>\n",
       "      <th>device_type</th>\n",
       "      <th>screen_resolution</th>\n",
       "      <th>operating_system_version</th>\n",
       "      <th>browser_version</th>\n",
       "    </tr>\n",
       "  </thead>\n",
       "  <tbody>\n",
       "    <tr>\n",
       "      <th>count</th>\n",
       "      <td>559</td>\n",
       "      <td>559</td>\n",
       "      <td>559</td>\n",
       "      <td>0.0</td>\n",
       "      <td>559</td>\n",
       "      <td>559</td>\n",
       "      <td>559</td>\n",
       "      <td>559</td>\n",
       "      <td>559</td>\n",
       "      <td>0.0</td>\n",
       "      <td>0.0</td>\n",
       "      <td>0.0</td>\n",
       "      <td>0.0</td>\n",
       "      <td>0.0</td>\n",
       "      <td>0.0</td>\n",
       "      <td>0.0</td>\n",
       "      <td>0.0</td>\n",
       "      <td>0.0</td>\n",
       "      <td>0.0</td>\n",
       "      <td>0.0</td>\n",
       "      <td>0.0</td>\n",
       "      <td>0.0</td>\n",
       "      <td>0.0</td>\n",
       "    </tr>\n",
       "    <tr>\n",
       "      <th>unique</th>\n",
       "      <td>559</td>\n",
       "      <td>1</td>\n",
       "      <td>559</td>\n",
       "      <td>0.0</td>\n",
       "      <td>358</td>\n",
       "      <td>104</td>\n",
       "      <td>4</td>\n",
       "      <td>7</td>\n",
       "      <td>26</td>\n",
       "      <td>0.0</td>\n",
       "      <td>0.0</td>\n",
       "      <td>0.0</td>\n",
       "      <td>0.0</td>\n",
       "      <td>0.0</td>\n",
       "      <td>0.0</td>\n",
       "      <td>0.0</td>\n",
       "      <td>0.0</td>\n",
       "      <td>0.0</td>\n",
       "      <td>0.0</td>\n",
       "      <td>0.0</td>\n",
       "      <td>0.0</td>\n",
       "      <td>0.0</td>\n",
       "      <td>0.0</td>\n",
       "    </tr>\n",
       "    <tr>\n",
       "      <th>top</th>\n",
       "      <td>2018-04-29 13:18:15</td>\n",
       "      <td>conversion</td>\n",
       "      <td>69ed21aa</td>\n",
       "      <td>NaN</td>\n",
       "      <td>6371.0</td>\n",
       "      <td>iPhone 5s</td>\n",
       "      <td>Bom</td>\n",
       "      <td>16GB</td>\n",
       "      <td>Preto</td>\n",
       "      <td>NaN</td>\n",
       "      <td>NaN</td>\n",
       "      <td>NaN</td>\n",
       "      <td>NaN</td>\n",
       "      <td>NaN</td>\n",
       "      <td>NaN</td>\n",
       "      <td>NaN</td>\n",
       "      <td>NaN</td>\n",
       "      <td>NaN</td>\n",
       "      <td>NaN</td>\n",
       "      <td>NaN</td>\n",
       "      <td>NaN</td>\n",
       "      <td>NaN</td>\n",
       "      <td>NaN</td>\n",
       "    </tr>\n",
       "    <tr>\n",
       "      <th>freq</th>\n",
       "      <td>1</td>\n",
       "      <td>559</td>\n",
       "      <td>1</td>\n",
       "      <td>NaN</td>\n",
       "      <td>12</td>\n",
       "      <td>41</td>\n",
       "      <td>234</td>\n",
       "      <td>271</td>\n",
       "      <td>183</td>\n",
       "      <td>NaN</td>\n",
       "      <td>NaN</td>\n",
       "      <td>NaN</td>\n",
       "      <td>NaN</td>\n",
       "      <td>NaN</td>\n",
       "      <td>NaN</td>\n",
       "      <td>NaN</td>\n",
       "      <td>NaN</td>\n",
       "      <td>NaN</td>\n",
       "      <td>NaN</td>\n",
       "      <td>NaN</td>\n",
       "      <td>NaN</td>\n",
       "      <td>NaN</td>\n",
       "      <td>NaN</td>\n",
       "    </tr>\n",
       "  </tbody>\n",
       "</table>\n",
       "</div>"
      ],
      "text/plain": [
       "                  timestamp       event    person  url     sku      model condition storage  color  skus  search_term  staticpage  campaign_source  search_engine  channel  new_vs_returning  city  region  country  device_type  screen_resolution  operating_system_version  browser_version\n",
       "count                   559         559       559  0.0     559        559       559     559    559   0.0          0.0         0.0              0.0            0.0      0.0               0.0   0.0     0.0      0.0          0.0                0.0                       0.0              0.0\n",
       "unique                  559           1       559  0.0     358        104         4       7     26   0.0          0.0         0.0              0.0            0.0      0.0               0.0   0.0     0.0      0.0          0.0                0.0                       0.0              0.0\n",
       "top     2018-04-29 13:18:15  conversion  69ed21aa  NaN  6371.0  iPhone 5s       Bom    16GB  Preto   NaN          NaN         NaN              NaN            NaN      NaN               NaN   NaN     NaN      NaN          NaN                NaN                       NaN              NaN\n",
       "freq                      1         559         1  NaN      12         41       234     271    183   NaN          NaN         NaN              NaN            NaN      NaN               NaN   NaN     NaN      NaN          NaN                NaN                       NaN              NaN"
      ]
     },
<<<<<<< HEAD
     "execution_count": 36,
=======
     "execution_count": 151,
>>>>>>> 55e26261e6606502d6259637222a7ca3ce0edf83
     "metadata": {},
     "output_type": "execute_result"
    }
   ],
   "source": [
    "df_campaign_users = df.loc[df['person'].isin(df_campaign['person']), :]\n",
    "df_campaign_buys = df_campaign_users.loc[df_campaign_users['event'] == 'conversion']\n",
    "df_campaign_users_buys = df_campaign_buys.drop_duplicates('person')\n",
    "\n",
    "df_campaign_users_buys.describe()"
   ]
  },
  {
   "cell_type": "markdown",
   "metadata": {},
   "source": [
    "## Top Campañas"
   ]
  },
  {
   "cell_type": "code",
<<<<<<< HEAD
   "execution_count": 37,
=======
   "execution_count": 27,
>>>>>>> 55e26261e6606502d6259637222a7ca3ce0edf83
   "metadata": {},
   "outputs": [
    {
     "data": {
      "text/plain": [
<<<<<<< HEAD
       "count        21306\n",
       "unique       21306\n",
       "top       03b282fc\n",
       "freq             1\n",
       "Name: person, dtype: object"
      ]
     },
     "execution_count": 37,
=======
       "google              16699\n",
       "criteo               2831\n",
       "rtbhouse              371\n",
       "FacebookAds           292\n",
       "zanox                 254\n",
       "voxus                 212\n",
       "emblue                193\n",
       "bing                  159\n",
       "afilio                130\n",
       "buscape                39\n",
       "indexa                 26\n",
       "Facebook               20\n",
       "rakuten                19\n",
       "afiliado               16\n",
       "mercadopago            13\n",
       "datacrush              10\n",
       "blog                    9\n",
       "manifest                4\n",
       "yotpo                   4\n",
       "FacebookSocial          3\n",
       "MARKETING SOCIAL        1\n",
       "socialmedia             1\n",
       "Name: campaign_source, dtype: int64"
      ]
     },
     "execution_count": 27,
>>>>>>> 55e26261e6606502d6259637222a7ca3ce0edf83
     "metadata": {},
     "output_type": "execute_result"
    }
   ],
   "source": [
    "df_campaign['campaign_source'].value_counts()"
   ]
  },
  {
   "cell_type": "code",
   "execution_count": 69,
   "metadata": {},
   "outputs": [],
   "source": [
    "campaign_conversion = df_campaign.loc[df_campaign['person'].isin(df_campaign_buys['person'])]\n",
    "campaign_conversion = (campaign_conversion['campaign_source'].value_counts()).to_frame()\n",
    "campaign_conversion.columns = ['conversion']\n",
    "\n",
    "df_not_in_conversion_campaign = df_campaign.loc[~df_campaign['person'].isin(df_campaign_buys['person'])]\n",
    "campaign_no_conversion = df_not_in_conversion_campaign['campaign_source'].value_counts().to_frame()\n",
    "campaign_no_conversion.columns = ['no conversion']"
   ]
  },
  {
   "cell_type": "code",
<<<<<<< HEAD
   "execution_count": 38,
=======
   "execution_count": 71,
>>>>>>> 55e26261e6606502d6259637222a7ca3ce0edf83
   "metadata": {
    "scrolled": false
   },
   "outputs": [
    {
     "data": {
      "text/html": [
       "<div>\n",
       "<style scoped>\n",
       "    .dataframe tbody tr th:only-of-type {\n",
       "        vertical-align: middle;\n",
       "    }\n",
       "\n",
       "    .dataframe tbody tr th {\n",
       "        vertical-align: top;\n",
       "    }\n",
       "\n",
       "    .dataframe thead th {\n",
       "        text-align: right;\n",
       "    }\n",
       "</style>\n",
       "<table border=\"1\" class=\"dataframe\">\n",
       "  <thead>\n",
       "    <tr style=\"text-align: right;\">\n",
       "      <th></th>\n",
       "      <th>conversion</th>\n",
       "      <th>no conversion</th>\n",
       "      <th>total</th>\n",
       "      <th>porcentile</th>\n",
       "    </tr>\n",
       "  </thead>\n",
       "  <tbody>\n",
       "    <tr>\n",
       "      <th>google</th>\n",
       "      <td>403</td>\n",
       "      <td>16296</td>\n",
       "      <td>16699</td>\n",
       "      <td>2.413318</td>\n",
       "    </tr>\n",
       "    <tr>\n",
       "      <th>criteo</th>\n",
       "      <td>47</td>\n",
       "      <td>2784</td>\n",
       "      <td>2831</td>\n",
       "      <td>1.660191</td>\n",
       "    </tr>\n",
       "    <tr>\n",
       "      <th>rtbhouse</th>\n",
       "      <td>32</td>\n",
       "      <td>339</td>\n",
       "      <td>371</td>\n",
       "      <td>8.625337</td>\n",
       "    </tr>\n",
       "    <tr>\n",
       "      <th>zanox</th>\n",
       "      <td>21</td>\n",
       "      <td>233</td>\n",
       "      <td>254</td>\n",
       "      <td>8.267717</td>\n",
       "    </tr>\n",
       "    <tr>\n",
       "      <th>FacebookAds</th>\n",
       "      <td>15</td>\n",
       "      <td>277</td>\n",
       "      <td>292</td>\n",
       "      <td>5.136986</td>\n",
       "    </tr>\n",
       "    <tr>\n",
       "      <th>emblue</th>\n",
       "      <td>9</td>\n",
       "      <td>184</td>\n",
       "      <td>193</td>\n",
       "      <td>4.663212</td>\n",
       "    </tr>\n",
       "    <tr>\n",
       "      <th>bing</th>\n",
       "      <td>9</td>\n",
       "      <td>150</td>\n",
       "      <td>159</td>\n",
       "      <td>5.660377</td>\n",
       "    </tr>\n",
       "    <tr>\n",
       "      <th>afilio</th>\n",
       "      <td>8</td>\n",
       "      <td>122</td>\n",
       "      <td>130</td>\n",
       "      <td>6.153846</td>\n",
       "    </tr>\n",
       "    <tr>\n",
<<<<<<< HEAD
       "      <th>top</th>\n",
       "      <td>2018-01-10 18:59:05</td>\n",
       "      <td>conversion</td>\n",
       "      <td>252adec6</td>\n",
       "      <td>NaN</td>\n",
       "      <td>6371.0</td>\n",
       "      <td>Samsung Galaxy J5</td>\n",
       "      <td>Bom</td>\n",
       "      <td>16GB</td>\n",
       "      <td>Preto</td>\n",
       "      <td>NaN</td>\n",
       "      <td>NaN</td>\n",
       "      <td>NaN</td>\n",
       "      <td>NaN</td>\n",
       "      <td>NaN</td>\n",
       "      <td>NaN</td>\n",
       "      <td>NaN</td>\n",
       "      <td>NaN</td>\n",
       "      <td>NaN</td>\n",
       "      <td>NaN</td>\n",
       "      <td>NaN</td>\n",
       "      <td>NaN</td>\n",
       "      <td>NaN</td>\n",
       "      <td>NaN</td>\n",
=======
       "      <th>buscape</th>\n",
       "      <td>7</td>\n",
       "      <td>32</td>\n",
       "      <td>39</td>\n",
       "      <td>17.948718</td>\n",
>>>>>>> 55e26261e6606502d6259637222a7ca3ce0edf83
       "    </tr>\n",
       "    <tr>\n",
       "      <th>voxus</th>\n",
       "      <td>2</td>\n",
       "      <td>210</td>\n",
       "      <td>212</td>\n",
       "      <td>0.943396</td>\n",
       "    </tr>\n",
       "    <tr>\n",
       "      <th>indexa</th>\n",
       "      <td>2</td>\n",
       "      <td>24</td>\n",
       "      <td>26</td>\n",
       "      <td>7.692308</td>\n",
       "    </tr>\n",
       "    <tr>\n",
       "      <th>blog</th>\n",
       "      <td>2</td>\n",
       "      <td>7</td>\n",
       "      <td>9</td>\n",
       "      <td>22.222222</td>\n",
       "    </tr>\n",
       "    <tr>\n",
       "      <th>rakuten</th>\n",
       "      <td>1</td>\n",
       "      <td>18</td>\n",
       "      <td>19</td>\n",
       "      <td>5.263158</td>\n",
       "    </tr>\n",
       "    <tr>\n",
       "      <th>Facebook</th>\n",
       "      <td>1</td>\n",
       "      <td>19</td>\n",
       "      <td>20</td>\n",
       "      <td>5.000000</td>\n",
       "    </tr>\n",
       "  </tbody>\n",
       "</table>\n",
       "</div>"
      ],
      "text/plain": [
<<<<<<< HEAD
       "                  timestamp       event    person  url     sku              model condition storage  color  skus  search_term  staticpage  campaign_source  search_engine  channel  new_vs_returning  city  region  country  device_type  screen_resolution  operating_system_version  browser_version\n",
       "count                   962         962       962  0.0     962                962       962     962    962   0.0          0.0         0.0              0.0            0.0      0.0               0.0   0.0     0.0      0.0          0.0                0.0                       0.0              0.0\n",
       "unique                  962           1       559  0.0     414                107         4       8     27   0.0          0.0         0.0              0.0            0.0      0.0               0.0   0.0     0.0      0.0          0.0                0.0                       0.0              0.0\n",
       "top     2018-01-10 18:59:05  conversion  252adec6  NaN  6371.0  Samsung Galaxy J5       Bom    16GB  Preto   NaN          NaN         NaN              NaN            NaN      NaN               NaN   NaN     NaN      NaN          NaN                NaN                       NaN              NaN\n",
       "freq                      1         962        15  NaN      29                 71       448     469    295   NaN          NaN         NaN              NaN            NaN      NaN               NaN   NaN     NaN      NaN          NaN                NaN                       NaN              NaN"
      ]
     },
     "execution_count": 38,
=======
       "             conversion  no conversion  total  porcentile\n",
       "google              403          16296  16699    2.413318\n",
       "criteo               47           2784   2831    1.660191\n",
       "rtbhouse             32            339    371    8.625337\n",
       "zanox                21            233    254    8.267717\n",
       "FacebookAds          15            277    292    5.136986\n",
       "emblue                9            184    193    4.663212\n",
       "bing                  9            150    159    5.660377\n",
       "afilio                8            122    130    6.153846\n",
       "buscape               7             32     39   17.948718\n",
       "voxus                 2            210    212    0.943396\n",
       "indexa                2             24     26    7.692308\n",
       "blog                  2              7      9   22.222222\n",
       "rakuten               1             18     19    5.263158\n",
       "Facebook              1             19     20    5.000000"
      ]
     },
     "execution_count": 71,
>>>>>>> 55e26261e6606502d6259637222a7ca3ce0edf83
     "metadata": {},
     "output_type": "execute_result"
    }
   ],
   "source": [
    "table_campaign = campaign_conversion.join(campaign_no_conversion, how='left', lsuffix ='conversion', rsuffix ='no conversion')\n",
    "\n",
    "table_campaign[\"total\"] = table_campaign['conversion'] + table_campaign['no conversion']\n",
    "table_campaign['porcentile'] = (table_campaign['conversion']/table_campaign[\"total\"])*100\n",
    "table_campaign"
   ]
  },
  {
   "cell_type": "code",
<<<<<<< HEAD
   "execution_count": 39,
=======
   "execution_count": 86,
>>>>>>> 55e26261e6606502d6259637222a7ca3ce0edf83
   "metadata": {},
   "outputs": [
    {
     "data": {
      "text/html": [
       "<div>\n",
       "<style scoped>\n",
       "    .dataframe tbody tr th:only-of-type {\n",
       "        vertical-align: middle;\n",
       "    }\n",
       "\n",
       "    .dataframe tbody tr th {\n",
       "        vertical-align: top;\n",
       "    }\n",
       "\n",
       "    .dataframe thead th {\n",
       "        text-align: right;\n",
       "    }\n",
       "</style>\n",
       "<table border=\"1\" class=\"dataframe\">\n",
       "  <thead>\n",
       "    <tr style=\"text-align: right;\">\n",
       "      <th></th>\n",
       "      <th>month</th>\n",
       "      <th>conversions</th>\n",
       "    </tr>\n",
       "  </thead>\n",
       "  <tbody>\n",
       "    <tr>\n",
       "      <th>0</th>\n",
       "      <td>1</td>\n",
       "      <td>62</td>\n",
       "    </tr>\n",
       "    <tr>\n",
       "      <th>1</th>\n",
       "      <td>2</td>\n",
       "      <td>73</td>\n",
       "    </tr>\n",
       "    <tr>\n",
       "      <th>2</th>\n",
       "      <td>3</td>\n",
       "      <td>255</td>\n",
       "    </tr>\n",
       "    <tr>\n",
       "      <th>3</th>\n",
       "      <td>4</td>\n",
       "      <td>287</td>\n",
       "    </tr>\n",
       "    <tr>\n",
       "      <th>4</th>\n",
       "      <td>5</td>\n",
       "      <td>259</td>\n",
       "    </tr>\n",
       "    <tr>\n",
       "      <th>5</th>\n",
       "      <td>6</td>\n",
       "      <td>26</td>\n",
       "    </tr>\n",
       "  </tbody>\n",
       "</table>\n",
       "</div>"
      ],
      "text/plain": [
       "   month  conversions\n",
       "0      1           62\n",
       "1      2           73\n",
       "2      3          255\n",
       "3      4          287\n",
       "4      5          259\n",
       "5      6           26"
      ]
     },
     "execution_count": 39,
     "metadata": {},
     "output_type": "execute_result"
    }
   ],
   "source": [
<<<<<<< HEAD
    "df_conversion_campaign['timestamp'] = pd.to_datetime(df_conversion_campaign['timestamp'])\n",
    "df_conversion_campaign['month'] = df_conversion_campaign['timestamp'].dt.month\n",
    "df_conversion_campaign['count'] = 1\n",
    "df_conversion_month = df_conversion_campaign.groupby('month').agg({'count':'sum'}).reset_index()\n",
    "df_conversion_month.columns = ['month','conversions']\n",
    "df_conversion_month"
   ]
  },
  {
   "cell_type": "markdown",
   "metadata": {},
   "source": [
    "Estas son las compras en la pagina dado los meses por usuarios que alguna vez entraron a la pagina via campaña"
=======
    "df_campaign['timestamp'] = pd.to_datetime(df_campaign['timestamp'])\n",
    "df_campaign['month'] = df_campaign['timestamp'].dt.month\n",
    "df_campaign['count'] = 1\n",
    "df_campaign_month = df_campaign.groupby('month').agg({'count':'sum'})\n",
    "df_campaign_month.columns = ['people of campaign']"
>>>>>>> 55e26261e6606502d6259637222a7ca3ce0edf83
   ]
  },
  {
   "cell_type": "code",
<<<<<<< HEAD
   "execution_count": 40,
=======
   "execution_count": 87,
>>>>>>> 55e26261e6606502d6259637222a7ca3ce0edf83
   "metadata": {},
   "outputs": [],
   "source": [
    "df_campaign_users_buys['timestamp'] = pd.to_datetime(df_campaign_users_buys['timestamp'])\n",
    "df_campaign_users_buys['month'] = df_campaign_users_buys['timestamp'].dt.month\n",
    "df_campaign_users_buys['count'] = 1\n",
    "df_conversion_month = df_campaign_users_buys.groupby('month').agg({'count':'sum'})\n",
    "df_conversion_month.columns = ['conversions']\n"
   ]
  },
  {
   "cell_type": "code",
<<<<<<< HEAD
   "execution_count": 56,
   "metadata": {
    "scrolled": true
   },
=======
   "execution_count": 88,
   "metadata": {},
>>>>>>> 55e26261e6606502d6259637222a7ca3ce0edf83
   "outputs": [
    {
     "data": {
      "text/html": [
       "<div>\n",
       "<style scoped>\n",
       "    .dataframe tbody tr th:only-of-type {\n",
       "        vertical-align: middle;\n",
       "    }\n",
       "\n",
       "    .dataframe tbody tr th {\n",
       "        vertical-align: top;\n",
       "    }\n",
       "\n",
       "    .dataframe thead th {\n",
       "        text-align: right;\n",
       "    }\n",
       "</style>\n",
       "<table border=\"1\" class=\"dataframe\">\n",
       "  <thead>\n",
       "    <tr style=\"text-align: right;\">\n",
       "      <th></th>\n",
       "      <th>conversions</th>\n",
       "      <th>people of campaign</th>\n",
<<<<<<< HEAD
       "      <th>month</th>\n",
=======
>>>>>>> 55e26261e6606502d6259637222a7ca3ce0edf83
       "    </tr>\n",
       "    <tr>\n",
<<<<<<< HEAD
       "      <th>0</th>\n",
       "      <td>62</td>\n",
       "      <td>1696</td>\n",
       "      <td>Enero</td>\n",
=======
       "      <th>month</th>\n",
       "      <th></th>\n",
       "      <th></th>\n",
>>>>>>> 55e26261e6606502d6259637222a7ca3ce0edf83
       "    </tr>\n",
       "  </thead>\n",
       "  <tbody>\n",
       "    <tr>\n",
       "      <th>1</th>\n",
<<<<<<< HEAD
       "      <td>73</td>\n",
       "      <td>2339</td>\n",
       "      <td>Febrero</td>\n",
       "    </tr>\n",
       "    <tr>\n",
       "      <th>2</th>\n",
       "      <td>255</td>\n",
       "      <td>6865</td>\n",
       "      <td>Marzo</td>\n",
       "    </tr>\n",
       "    <tr>\n",
       "      <th>3</th>\n",
       "      <td>287</td>\n",
       "      <td>10880</td>\n",
       "      <td>Abril</td>\n",
       "    </tr>\n",
       "    <tr>\n",
       "      <th>4</th>\n",
       "      <td>259</td>\n",
       "      <td>38102</td>\n",
       "      <td>Mayo</td>\n",
       "    </tr>\n",
       "    <tr>\n",
       "      <th>5</th>\n",
       "      <td>26</td>\n",
       "      <td>22914</td>\n",
       "      <td>Junio</td>\n",
=======
       "      <td>45</td>\n",
       "      <td>392</td>\n",
       "    </tr>\n",
       "    <tr>\n",
       "      <th>2</th>\n",
       "      <td>44</td>\n",
       "      <td>416</td>\n",
       "    </tr>\n",
       "    <tr>\n",
       "      <th>3</th>\n",
       "      <td>150</td>\n",
       "      <td>942</td>\n",
       "    </tr>\n",
       "    <tr>\n",
       "      <th>4</th>\n",
       "      <td>152</td>\n",
       "      <td>1312</td>\n",
       "    </tr>\n",
       "    <tr>\n",
       "      <th>5</th>\n",
       "      <td>152</td>\n",
       "      <td>10041</td>\n",
       "    </tr>\n",
       "    <tr>\n",
       "      <th>6</th>\n",
       "      <td>16</td>\n",
       "      <td>8203</td>\n",
>>>>>>> 55e26261e6606502d6259637222a7ca3ce0edf83
       "    </tr>\n",
       "  </tbody>\n",
       "</table>\n",
       "</div>"
      ],
      "text/plain": [
<<<<<<< HEAD
       "   conversions  people of campaign    month\n",
       "0           62                1696    Enero\n",
       "1           73                2339  Febrero\n",
       "2          255                6865    Marzo\n",
       "3          287               10880    Abril\n",
       "4          259               38102     Mayo\n",
       "5           26               22914    Junio"
      ]
     },
     "execution_count": 56,
=======
       "       conversions  people of campaign\n",
       "month                                 \n",
       "1               45                 392\n",
       "2               44                 416\n",
       "3              150                 942\n",
       "4              152                1312\n",
       "5              152               10041\n",
       "6               16                8203"
      ]
     },
     "execution_count": 88,
>>>>>>> 55e26261e6606502d6259637222a7ca3ce0edf83
     "metadata": {},
     "output_type": "execute_result"
    }
   ],
   "source": [
<<<<<<< HEAD
    "month_conversions_people = pd.merge(df_campaign_month, df_conversion_month, on='month', how='inner')\n",
    "month_conversions_people\n",
    "month_conversions_people=month_conversions_people[['conversions','people of campaign']]\n",
    "month_conversions_people['month'] =['Enero', 'Febrero', 'Marzo', 'Abril', 'Mayo', 'Junio']\n",
=======
    "month_conversions_people = df_conversion_month.join(df_campaign_month, how='left', lsuffix ='conversion', rsuffix ='people of campaign')\n",
>>>>>>> 55e26261e6606502d6259637222a7ca3ce0edf83
    "month_conversions_people"
   ]
  },
  {
   "cell_type": "markdown",
   "metadata": {},
   "source": [
    "## Graph cantidad de entries de campaña"
   ]
  },
  {
   "cell_type": "code",
<<<<<<< HEAD
   "execution_count": 57,
=======
   "execution_count": 93,
>>>>>>> 55e26261e6606502d6259637222a7ca3ce0edf83
   "metadata": {},
   "outputs": [
    {
     "data": {
      "text/plain": [
       "google         46\n",
       "criteo          6\n",
       "zanox           3\n",
       "FacebookAds     3\n",
       "bing            2\n",
       "indexa          1\n",
       "buscape         1\n",
       "afilio          1\n",
       "Name: campaign_source, dtype: int64"
      ]
     },
<<<<<<< HEAD
     "execution_count": 57,
=======
     "execution_count": 93,
>>>>>>> 55e26261e6606502d6259637222a7ca3ce0edf83
     "metadata": {},
     "output_type": "execute_result"
    }
   ],
   "source": [
    "df_test = df_campaign.loc[df_campaign['month'] == 1]\n",
    "df_test = df_test.loc[df_test['person'].isin(df_campaign_users_buys['person'])]\n",
    "df_test.campaign_source.value_counts()"
   ]
  },
  {
   "cell_type": "code",
   "execution_count": 94,
   "metadata": {},
   "outputs": [
    {
     "data": {
<<<<<<< HEAD
      "image/png": "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\n",
=======
>>>>>>> 55e26261e6606502d6259637222a7ca3ce0edf83
      "text/plain": [
       "google         55\n",
       "rtbhouse        5\n",
       "criteo          3\n",
       "emblue          2\n",
       "afilio          2\n",
       "buscape         1\n",
       "FacebookAds     1\n",
       "Name: campaign_source, dtype: int64"
      ]
     },
     "execution_count": 94,
     "metadata": {},
     "output_type": "execute_result"
    }
   ],
   "source": [
    "df_test = df_campaign.loc[df_campaign['month'] == 2]\n",
    "df_test = df_test.loc[df_test['person'].isin(df_campaign_users_buys['person'])]\n",
    "df_test.campaign_source.value_counts()"
   ]
  },
  {
   "cell_type": "code",
   "execution_count": 95,
   "metadata": {},
   "outputs": [
    {
     "data": {
      "text/plain": [
       "google         107\n",
       "FacebookAds     10\n",
       "zanox            7\n",
       "criteo           6\n",
       "rtbhouse         5\n",
       "buscape          5\n",
       "afilio           3\n",
       "emblue           2\n",
       "bing             2\n",
       "Facebook         1\n",
       "indexa           1\n",
       "Name: campaign_source, dtype: int64"
      ]
     },
     "execution_count": 95,
     "metadata": {},
     "output_type": "execute_result"
    }
   ],
   "source": [
    "df_test = df_campaign.loc[df_campaign['month'] == 3]\n",
    "df_test = df_test.loc[df_test['person'].isin(df_campaign_users_buys['person'])]\n",
    "df_test.campaign_source.value_counts()"
   ]
  },
  {
   "cell_type": "code",
<<<<<<< HEAD
   "execution_count": 58,
=======
   "execution_count": 96,
>>>>>>> 55e26261e6606502d6259637222a7ca3ce0edf83
   "metadata": {},
   "outputs": [
    {
     "data": {
      "text/plain": [
       "google         96\n",
       "criteo         18\n",
       "rtbhouse        7\n",
       "emblue          4\n",
       "zanox           4\n",
       "blog            2\n",
       "bing            1\n",
       "FacebookAds     1\n",
       "Name: campaign_source, dtype: int64"
      ]
     },
<<<<<<< HEAD
     "execution_count": 58,
=======
     "execution_count": 96,
>>>>>>> 55e26261e6606502d6259637222a7ca3ce0edf83
     "metadata": {},
     "output_type": "execute_result"
    }
   ],
   "source": [
    "df_test = df_campaign.loc[df_campaign['month'] == 4]\n",
    "df_test = df_test.loc[df_test['person'].isin(df_campaign_users_buys['person'])]\n",
    "df_test.campaign_source.value_counts()"
   ]
  },
  {
   "cell_type": "code",
   "execution_count": 97,
   "metadata": {},
   "outputs": [
    {
     "data": {
<<<<<<< HEAD
      "image/png": "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\n",
=======
>>>>>>> 55e26261e6606502d6259637222a7ca3ce0edf83
      "text/plain": [
       "google      87\n",
       "criteo      13\n",
       "rtbhouse    12\n",
       "zanox        4\n",
       "bing         3\n",
       "voxus        2\n",
       "afilio       2\n",
       "emblue       1\n",
       "Name: campaign_source, dtype: int64"
      ]
     },
     "execution_count": 97,
     "metadata": {},
     "output_type": "execute_result"
    }
   ],
   "source": [
<<<<<<< HEAD
    "g =sns.barplot(x=\"month\", y=\"conversions\", data=month_conversions_people)\n",
    "g.set_xlabel(\"Mes\", fontsize=15)\n",
    "g.set_ylabel(\"Ventas\",fontsize=15)\n",
    "g.set_title(\"Compras de personas involucradas en campaña al sitio\", fontsize=15)\n"
=======
    "df_test = df_campaign.loc[df_campaign['month'] == 5]\n",
    "df_test = df_test.loc[df_test['person'].isin(df_campaign_users_buys['person'])]\n",
    "df_test.campaign_source.value_counts()"
>>>>>>> 55e26261e6606502d6259637222a7ca3ce0edf83
   ]
  },
  {
   "cell_type": "code",
   "execution_count": null,
   "metadata": {},
   "outputs": [],
   "source": []
  }
 ],
 "metadata": {
  "kernelspec": {
   "display_name": "Python 3",
   "language": "python",
   "name": "python3"
  },
  "language_info": {
   "codemirror_mode": {
    "name": "ipython",
    "version": 3
   },
   "file_extension": ".py",
   "mimetype": "text/x-python",
   "name": "python",
   "nbconvert_exporter": "python",
   "pygments_lexer": "ipython3",
   "version": "3.7.0"
  }
 },
 "nbformat": 4,
 "nbformat_minor": 1
}
