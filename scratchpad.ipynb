{
 "cells": [
  {
   "cell_type": "code",
   "execution_count": 2,
   "metadata": {},
   "outputs": [
    {
     "data": {
      "text/plain": [
       "<IPython.core.display.Javascript object>"
      ]
     },
     "metadata": {},
     "output_type": "display_data"
    }
   ],
   "source": [
    "\n",
    "%%javascript\n",
    "\n",
    "IPython.keyboard_manager.command_shortcuts.add_shortcut('Ctrl-k', {\n",
    "    help : 'move up selected cells',\n",
    "    help_index : 'jupyter-notebook:move-selection-up',\n",
    "    handler : function (event) {\n",
    "        IPython.notebook.move_selection_up();\n",
    "        return false;\n",
    "    }}\n",
    ");\n",
    "\n",
    "IPython.keyboard_manager.command_shortcuts.add_shortcut('Ctrl-j', {\n",
    "    help : 'move down selected cells',\n",
    "    help_index : 'jupyter-notebook:move-selection-down',\n",
    "    handler :  function (event) {\n",
    "        IPython.notebook.move_selection_down();\n",
    "        return false;\n",
    "    }}\n",
    ");"
   ]
  },
  {
   "cell_type": "markdown",
   "metadata": {},
   "source": [
    "\n"
   ]
  },
  {
   "cell_type": "code",
   "execution_count": 3,
   "metadata": {},
   "outputs": [
    {
     "name": "stderr",
     "output_type": "stream",
     "text": [
      "C:\\Users\\nacho\\AppData\\Local\\Programs\\Python\\Python37\\lib\\site-packages\\IPython\\core\\interactiveshell.py:2705: DtypeWarning: Columns (4) have mixed types. Specify dtype option on import or set low_memory=False.\n",
      "  interactivity=interactivity, compiler=compiler, result=result)\n"
     ]
    }
   ],
   "source": [
    "import pandas as pd\n",
    "import numpy as np\n",
    "import matplotlib.pyplot as plt\n",
    "import seaborn as sns\n",
    "import inline as inline\n",
    "\n",
    "%matplotlib inline\n",
    "\n",
    "pd.set_option('display.width', 400)\n",
    "pd.set_option('display.max_columns', 23)\n",
    "pd.set_option('display.max_rows', 100)\n",
    "\n",
    "plt.style.use('default') # haciendo los graficos un poco mas bonitos en matplotlib\n",
    "#plt.rcParams['figure.figsize'] = (20, 10)\n",
    "\n",
    "sns.set(style=\"whitegrid\") # seteando tipo de grid en seaborn\n",
    "\n",
    "df = pd.read_csv('events.csv')\n"
   ]
  },
  {
   "cell_type": "code",
   "execution_count": 4,
   "metadata": {},
   "outputs": [
    {
     "data": {
      "text/html": [
       "<div>\n",
       "<style scoped>\n",
       "    .dataframe tbody tr th:only-of-type {\n",
       "        vertical-align: middle;\n",
       "    }\n",
       "\n",
       "    .dataframe tbody tr th {\n",
       "        vertical-align: top;\n",
       "    }\n",
       "\n",
       "    .dataframe thead th {\n",
       "        text-align: right;\n",
       "    }\n",
       "</style>\n",
       "<table border=\"1\" class=\"dataframe\">\n",
       "  <thead>\n",
       "    <tr style=\"text-align: right;\">\n",
       "      <th></th>\n",
       "      <th>timestamp</th>\n",
       "      <th>event</th>\n",
       "      <th>person</th>\n",
       "      <th>url</th>\n",
       "      <th>sku</th>\n",
       "      <th>model</th>\n",
       "      <th>condition</th>\n",
       "      <th>storage</th>\n",
       "      <th>color</th>\n",
       "      <th>skus</th>\n",
       "      <th>search_term</th>\n",
       "      <th>staticpage</th>\n",
       "      <th>campaign_source</th>\n",
       "      <th>search_engine</th>\n",
       "      <th>channel</th>\n",
       "      <th>new_vs_returning</th>\n",
       "      <th>city</th>\n",
       "      <th>region</th>\n",
       "      <th>country</th>\n",
       "      <th>device_type</th>\n",
       "      <th>screen_resolution</th>\n",
       "      <th>operating_system_version</th>\n",
       "      <th>browser_version</th>\n",
       "    </tr>\n",
       "  </thead>\n",
       "  <tbody>\n",
       "    <tr>\n",
       "      <th>count</th>\n",
       "      <td>1011288</td>\n",
       "      <td>1011288</td>\n",
       "      <td>1011288</td>\n",
       "      <td>82756</td>\n",
       "      <td>563838.0</td>\n",
       "      <td>564284</td>\n",
       "      <td>563836</td>\n",
       "      <td>563836</td>\n",
       "      <td>563836</td>\n",
       "      <td>221699</td>\n",
       "      <td>48967</td>\n",
       "      <td>3598</td>\n",
       "      <td>82796</td>\n",
       "      <td>50957</td>\n",
       "      <td>87378</td>\n",
       "      <td>87378</td>\n",
       "      <td>87378</td>\n",
       "      <td>87378</td>\n",
       "      <td>87378</td>\n",
       "      <td>87378</td>\n",
       "      <td>87378</td>\n",
       "      <td>87378</td>\n",
       "      <td>87378</td>\n",
       "    </tr>\n",
       "    <tr>\n",
       "      <th>unique</th>\n",
       "      <td>793805</td>\n",
       "      <td>11</td>\n",
       "      <td>27624</td>\n",
       "      <td>227</td>\n",
       "      <td>3885.0</td>\n",
       "      <td>202</td>\n",
       "      <td>5</td>\n",
       "      <td>8</td>\n",
       "      <td>63</td>\n",
       "      <td>35310</td>\n",
       "      <td>5851</td>\n",
       "      <td>14</td>\n",
       "      <td>24</td>\n",
       "      <td>4</td>\n",
       "      <td>7</td>\n",
       "      <td>2</td>\n",
       "      <td>1939</td>\n",
       "      <td>93</td>\n",
       "      <td>46</td>\n",
       "      <td>4</td>\n",
       "      <td>282</td>\n",
       "      <td>121</td>\n",
       "      <td>343</td>\n",
       "    </tr>\n",
       "    <tr>\n",
       "      <th>top</th>\n",
       "      <td>2018-05-15 15:56:06</td>\n",
       "      <td>viewed product</td>\n",
       "      <td>71492f2b</td>\n",
       "      <td>/</td>\n",
       "      <td>2830.0</td>\n",
       "      <td>iPhone 6</td>\n",
       "      <td>Bom</td>\n",
       "      <td>16GB</td>\n",
       "      <td>Preto</td>\n",
       "      <td>2820,6706,6720,2750,6649,7251,6663,12604,7224,...</td>\n",
       "      <td>Iphone</td>\n",
       "      <td>CustomerService</td>\n",
       "      <td>google</td>\n",
       "      <td>Google</td>\n",
       "      <td>Paid</td>\n",
       "      <td>Returning</td>\n",
       "      <td>Unknown</td>\n",
       "      <td>Sao Paulo</td>\n",
       "      <td>Brazil</td>\n",
       "      <td>Smartphone</td>\n",
       "      <td>360x640</td>\n",
       "      <td>Windows 7</td>\n",
       "      <td>Chrome 66.0</td>\n",
       "    </tr>\n",
       "    <tr>\n",
       "      <th>freq</th>\n",
       "      <td>11</td>\n",
       "      <td>528931</td>\n",
       "      <td>2771</td>\n",
       "      <td>28323</td>\n",
       "      <td>4311.0</td>\n",
       "      <td>50916</td>\n",
       "      <td>243014</td>\n",
       "      <td>190833</td>\n",
       "      <td>132960</td>\n",
       "      <td>594</td>\n",
       "      <td>1207</td>\n",
       "      <td>1528</td>\n",
       "      <td>58153</td>\n",
       "      <td>50240</td>\n",
       "      <td>44193</td>\n",
       "      <td>60480</td>\n",
       "      <td>15819</td>\n",
       "      <td>24996</td>\n",
       "      <td>84308</td>\n",
       "      <td>44239</td>\n",
       "      <td>30009</td>\n",
       "      <td>19675</td>\n",
       "      <td>22611</td>\n",
       "    </tr>\n",
       "  </tbody>\n",
       "</table>\n",
       "</div>"
      ],
      "text/plain": [
       "                  timestamp           event    person    url       sku     model condition storage   color                                               skus search_term       staticpage campaign_source search_engine channel new_vs_returning     city     region country device_type screen_resolution operating_system_version browser_version\n",
       "count               1011288         1011288   1011288  82756  563838.0    564284    563836  563836  563836                                             221699       48967             3598           82796         50957   87378            87378    87378      87378   87378       87378             87378                    87378           87378\n",
       "unique               793805              11     27624    227    3885.0       202         5       8      63                                              35310        5851               14              24             4       7                2     1939         93      46           4               282                      121             343\n",
       "top     2018-05-15 15:56:06  viewed product  71492f2b      /    2830.0  iPhone 6       Bom    16GB   Preto  2820,6706,6720,2750,6649,7251,6663,12604,7224,...      Iphone  CustomerService          google        Google    Paid        Returning  Unknown  Sao Paulo  Brazil  Smartphone           360x640               Windows 7      Chrome 66.0\n",
       "freq                     11          528931      2771  28323    4311.0     50916    243014  190833  132960                                                594        1207             1528           58153         50240   44193            60480    15819      24996   84308       44239             30009                    19675           22611"
      ]
     },
     "execution_count": 4,
     "metadata": {},
     "output_type": "execute_result"
    }
   ],
   "source": [
    "df.describe()        "
   ]
  },
  {
   "cell_type": "code",
   "execution_count": 5,
   "metadata": {},
   "outputs": [],
   "source": [
    "df_campaign = df[df.campaign_source.notnull()][['person', 'campaign_source']]\n",
    "campaign_persons = df_campaign['person']                #  SERIE CON PERSONAS QEUE ESTA\n",
    "df_campaign_users = df.loc[df['person'].isin(campaign_persons), :]\n",
    "df_campaign_users_buys = df_campaign_users.loc[df['event'] == 'conversion']"
   ]
  },
  {
   "cell_type": "markdown",
   "metadata": {},
   "source": [
    "Top Campañas"
   ]
  },
  {
   "cell_type": "code",
   "execution_count": 6,
   "metadata": {},
   "outputs": [
    {
     "data": {
      "text/plain": [
       "google              58153\n",
       "criteo               9694\n",
       "rtbhouse             8550\n",
       "zanox                1673\n",
       "emblue               1352\n",
       "FacebookAds           764\n",
       "afilio                692\n",
       "bing                  484\n",
       "voxus                 432\n",
       "rakuten               310\n",
       "indexa                154\n",
       "buscape               141\n",
       "manifest              126\n",
       "Facebook               77\n",
       "datacrush              60\n",
       "blog                   37\n",
       "afiliado               34\n",
       "yotpo                  25\n",
       "mercadopago            18\n",
       "FacebookSocial          8\n",
       "MARKETING SOCIAL        7\n",
       "onsite                  3\n",
       "Google Social           1\n",
       "socialmedia             1\n",
       "Name: campaign_source, dtype: int64"
      ]
     },
     "execution_count": 6,
     "metadata": {},
     "output_type": "execute_result"
    }
   ],
   "source": [
    "df_campaign['campaign_source'].value_counts()"
   ]
  },
  {
   "cell_type": "markdown",
   "metadata": {},
   "source": [
    "##                     Google"
   ]
  },
  {
   "cell_type": "code",
   "execution_count": 7,
   "metadata": {},
   "outputs": [],
   "source": [
    "df_google_persons = df_campaign.loc[df_campaign['campaign_source'] == 'google']\n",
    "person_google = df_google_persons['person']\n",
    "df_google = df.loc[df['person'].isin(person_google), :]\n",
    "df_google = df.loc[df['event'] != 'ad campaign hit', :]\n"
   ]
  },
  {
   "cell_type": "code",
   "execution_count": 8,
   "metadata": {},
   "outputs": [
    {
     "data": {
      "text/html": [
       "<div>\n",
       "<style scoped>\n",
       "    .dataframe tbody tr th:only-of-type {\n",
       "        vertical-align: middle;\n",
       "    }\n",
       "\n",
       "    .dataframe tbody tr th {\n",
       "        vertical-align: top;\n",
       "    }\n",
       "\n",
       "    .dataframe thead th {\n",
       "        text-align: right;\n",
       "    }\n",
       "</style>\n",
       "<table border=\"1\" class=\"dataframe\">\n",
       "  <thead>\n",
       "    <tr style=\"text-align: right;\">\n",
       "      <th></th>\n",
       "      <th>timestamp</th>\n",
       "      <th>event</th>\n",
       "      <th>person</th>\n",
       "      <th>url</th>\n",
       "      <th>sku</th>\n",
       "      <th>model</th>\n",
       "      <th>condition</th>\n",
       "      <th>storage</th>\n",
       "      <th>color</th>\n",
       "      <th>skus</th>\n",
       "      <th>search_term</th>\n",
       "      <th>staticpage</th>\n",
       "      <th>campaign_source</th>\n",
       "      <th>search_engine</th>\n",
       "      <th>channel</th>\n",
       "      <th>new_vs_returning</th>\n",
       "      <th>city</th>\n",
       "      <th>region</th>\n",
       "      <th>country</th>\n",
       "      <th>device_type</th>\n",
       "      <th>screen_resolution</th>\n",
       "      <th>operating_system_version</th>\n",
       "      <th>browser_version</th>\n",
       "    </tr>\n",
       "  </thead>\n",
       "  <tbody>\n",
       "    <tr>\n",
       "      <th>count</th>\n",
       "      <td>928461</td>\n",
       "      <td>928461</td>\n",
       "      <td>928461</td>\n",
       "      <td>0.0</td>\n",
       "      <td>563838.0</td>\n",
       "      <td>564284</td>\n",
       "      <td>563836</td>\n",
       "      <td>563836</td>\n",
       "      <td>563836</td>\n",
       "      <td>221699</td>\n",
       "      <td>48967</td>\n",
       "      <td>3598</td>\n",
       "      <td>0.0</td>\n",
       "      <td>50957</td>\n",
       "      <td>87378</td>\n",
       "      <td>87378</td>\n",
       "      <td>87378</td>\n",
       "      <td>87378</td>\n",
       "      <td>87378</td>\n",
       "      <td>87378</td>\n",
       "      <td>87378</td>\n",
       "      <td>87378</td>\n",
       "      <td>87378</td>\n",
       "    </tr>\n",
       "    <tr>\n",
       "      <th>unique</th>\n",
       "      <td>778132</td>\n",
       "      <td>10</td>\n",
       "      <td>27624</td>\n",
       "      <td>0.0</td>\n",
       "      <td>3885.0</td>\n",
       "      <td>202</td>\n",
       "      <td>5</td>\n",
       "      <td>8</td>\n",
       "      <td>63</td>\n",
       "      <td>35310</td>\n",
       "      <td>5851</td>\n",
       "      <td>14</td>\n",
       "      <td>0.0</td>\n",
       "      <td>4</td>\n",
       "      <td>7</td>\n",
       "      <td>2</td>\n",
       "      <td>1939</td>\n",
       "      <td>93</td>\n",
       "      <td>46</td>\n",
       "      <td>4</td>\n",
       "      <td>282</td>\n",
       "      <td>121</td>\n",
       "      <td>343</td>\n",
       "    </tr>\n",
       "    <tr>\n",
       "      <th>top</th>\n",
       "      <td>2018-06-11 17:09:47</td>\n",
       "      <td>viewed product</td>\n",
       "      <td>6b07be7b</td>\n",
       "      <td>NaN</td>\n",
       "      <td>2830.0</td>\n",
       "      <td>iPhone 6</td>\n",
       "      <td>Bom</td>\n",
       "      <td>16GB</td>\n",
       "      <td>Preto</td>\n",
       "      <td>2820,6706,6720,2750,6649,7251,6663,12604,7224,...</td>\n",
       "      <td>Iphone</td>\n",
       "      <td>CustomerService</td>\n",
       "      <td>NaN</td>\n",
       "      <td>Google</td>\n",
       "      <td>Paid</td>\n",
       "      <td>Returning</td>\n",
       "      <td>Unknown</td>\n",
       "      <td>Sao Paulo</td>\n",
       "      <td>Brazil</td>\n",
       "      <td>Smartphone</td>\n",
       "      <td>360x640</td>\n",
       "      <td>Windows 7</td>\n",
       "      <td>Chrome 66.0</td>\n",
       "    </tr>\n",
       "    <tr>\n",
       "      <th>freq</th>\n",
       "      <td>9</td>\n",
       "      <td>528931</td>\n",
       "      <td>2711</td>\n",
       "      <td>NaN</td>\n",
       "      <td>4311.0</td>\n",
       "      <td>50916</td>\n",
       "      <td>243014</td>\n",
       "      <td>190833</td>\n",
       "      <td>132960</td>\n",
       "      <td>594</td>\n",
       "      <td>1207</td>\n",
       "      <td>1528</td>\n",
       "      <td>NaN</td>\n",
       "      <td>50240</td>\n",
       "      <td>44193</td>\n",
       "      <td>60480</td>\n",
       "      <td>15819</td>\n",
       "      <td>24996</td>\n",
       "      <td>84308</td>\n",
       "      <td>44239</td>\n",
       "      <td>30009</td>\n",
       "      <td>19675</td>\n",
       "      <td>22611</td>\n",
       "    </tr>\n",
       "  </tbody>\n",
       "</table>\n",
       "</div>"
      ],
      "text/plain": [
       "                  timestamp           event    person  url       sku     model condition storage   color                                               skus search_term       staticpage  campaign_source search_engine channel new_vs_returning     city     region country device_type screen_resolution operating_system_version browser_version\n",
       "count                928461          928461    928461  0.0  563838.0    564284    563836  563836  563836                                             221699       48967             3598              0.0         50957   87378            87378    87378      87378   87378       87378             87378                    87378           87378\n",
       "unique               778132              10     27624  0.0    3885.0       202         5       8      63                                              35310        5851               14              0.0             4       7                2     1939         93      46           4               282                      121             343\n",
       "top     2018-06-11 17:09:47  viewed product  6b07be7b  NaN    2830.0  iPhone 6       Bom    16GB   Preto  2820,6706,6720,2750,6649,7251,6663,12604,7224,...      Iphone  CustomerService              NaN        Google    Paid        Returning  Unknown  Sao Paulo  Brazil  Smartphone           360x640               Windows 7      Chrome 66.0\n",
       "freq                      9          528931      2711  NaN    4311.0     50916    243014  190833  132960                                                594        1207             1528              NaN         50240   44193            60480    15819      24996   84308       44239             30009                    19675           22611"
      ]
     },
     "execution_count": 8,
     "metadata": {},
     "output_type": "execute_result"
    }
   ],
   "source": [
    "\n",
    "df_google.describe()"
   ]
  },
  {
   "cell_type": "code",
   "execution_count": 9,
   "metadata": {},
   "outputs": [
    {
     "data": {
      "text/plain": [
       "viewed product       528931\n",
       "brand listing         98635\n",
       "visited site          87378\n",
       "generic listing       67534\n",
       "searched products     56073\n",
       "search engine hit     50957\n",
       "checkout              33735\n",
       "staticpage             3598\n",
       "conversion             1172\n",
       "lead                    448\n",
       "Name: event, dtype: int64"
      ]
     },
     "execution_count": 9,
     "metadata": {},
     "output_type": "execute_result"
    }
   ],
   "source": [
    "event_counts = df_google['event'].value_counts()\n",
    "event_counts"
   ]
  },
  {
   "cell_type": "code",
   "execution_count": null,
   "metadata": {},
   "outputs": [],
   "source": []
  },
  {
   "cell_type": "code",
   "execution_count": 10,
   "metadata": {},
   "outputs": [
    {
     "data": {
      "text/plain": [
       "Text(0,0.5,'Event Name')"
      ]
     },
     "execution_count": 10,
     "metadata": {},
     "output_type": "execute_result"
    },
    {
     "data": {
      "image/png": "[encoded data removed]",
      "text/plain": [
       "<Figure size 640x480 with 1 Axes>"
      ]
     },
     "metadata": {},
     "output_type": "display_data"
    }
   ],
   "source": [
    "g = sns.barplot(x=event_counts.values, y=event_counts.index, orient='h')\n",
    "g.set_title(\"Page Events on Google Campaign\", fontsize=15)\n",
    "g.set_xlabel(\"Quantity Of Events\", fontsize=12)\n",
    "g.set_ylabel(\"Event Name\", fontsize=12)\n"
   ]
  },
  {
   "cell_type": "code",
   "execution_count": 11,
   "metadata": {},
   "outputs": [],
   "source": [
    "checkout_vs_conversion = event_counts.drop(labels=['viewed product','staticpage','lead', 'brand listing', 'visited site','generic listing','searched products', 'search engine hit'])"
   ]
  },
  {
   "cell_type": "code",
   "execution_count": 12,
   "metadata": {
    "scrolled": false
   },
   "outputs": [
    {
     "data": {
      "text/plain": [
       "Text(0,0.5,'Event Name')"
      ]
     },
     "execution_count": 12,
     "metadata": {},
     "output_type": "execute_result"
    },
    {
     "data": {
      "image/png": "[encoded data removed]",
      "text/plain": [
       "<Figure size 640x480 with 1 Axes>"
      ]
     },
     "metadata": {},
     "output_type": "display_data"
    }
   ],
   "source": [
    "g = sns.barplot(x=checkout_vs_conversion.index, y=checkout_vs_conversion.values, orient='v')\n",
    "g.set_title(\"Page Events on Google Campaign\", fontsize=15)\n",
    "g.set_xlabel(\"Quantity Of Events\", fontsize=12)\n",
    "g.set_ylabel(\"Event Name\", fontsize=12)"
   ]
  },
  {
   "cell_type": "markdown",
   "metadata": {},
   "source": [
    "-Personas que compraron"
   ]
  },
  {
   "cell_type": "code",
   "execution_count": 13,
   "metadata": {},
   "outputs": [
    {
     "data": {
      "text/html": [
       "<div>\n",
       "<style scoped>\n",
       "    .dataframe tbody tr th:only-of-type {\n",
       "        vertical-align: middle;\n",
       "    }\n",
       "\n",
       "    .dataframe tbody tr th {\n",
       "        vertical-align: top;\n",
       "    }\n",
       "\n",
       "    .dataframe thead th {\n",
       "        text-align: right;\n",
       "    }\n",
       "</style>\n",
       "<table border=\"1\" class=\"dataframe\">\n",
       "  <thead>\n",
       "    <tr style=\"text-align: right;\">\n",
       "      <th></th>\n",
       "      <th>timestamp</th>\n",
       "      <th>event</th>\n",
       "      <th>person</th>\n",
       "      <th>url</th>\n",
       "      <th>sku</th>\n",
       "      <th>model</th>\n",
       "      <th>condition</th>\n",
       "      <th>storage</th>\n",
       "      <th>color</th>\n",
       "      <th>skus</th>\n",
       "      <th>search_term</th>\n",
       "      <th>staticpage</th>\n",
       "      <th>campaign_source</th>\n",
       "      <th>search_engine</th>\n",
       "      <th>channel</th>\n",
       "      <th>new_vs_returning</th>\n",
       "      <th>city</th>\n",
       "      <th>region</th>\n",
       "      <th>country</th>\n",
       "      <th>device_type</th>\n",
       "      <th>screen_resolution</th>\n",
       "      <th>operating_system_version</th>\n",
       "      <th>browser_version</th>\n",
       "    </tr>\n",
       "  </thead>\n",
       "  <tbody>\n",
       "    <tr>\n",
       "      <th>115</th>\n",
       "      <td>2018-01-18 00:19:28</td>\n",
       "      <td>generic listing</td>\n",
       "      <td>00204059</td>\n",
       "      <td>NaN</td>\n",
       "      <td>NaN</td>\n",
       "      <td>NaN</td>\n",
       "      <td>NaN</td>\n",
       "      <td>NaN</td>\n",
       "      <td>NaN</td>\n",
       "      <td>3889,3853,3961,7071,7083,7028,1429,4033,12674,...</td>\n",
       "      <td>NaN</td>\n",
       "      <td>NaN</td>\n",
       "      <td>NaN</td>\n",
       "      <td>NaN</td>\n",
       "      <td>NaN</td>\n",
       "      <td>NaN</td>\n",
       "      <td>NaN</td>\n",
       "      <td>NaN</td>\n",
       "      <td>NaN</td>\n",
       "      <td>NaN</td>\n",
       "      <td>NaN</td>\n",
       "      <td>NaN</td>\n",
       "      <td>NaN</td>\n",
       "    </tr>\n",
       "    <tr>\n",
       "      <th>116</th>\n",
       "      <td>2018-01-18 00:19:39</td>\n",
       "      <td>visited site</td>\n",
       "      <td>00204059</td>\n",
       "      <td>NaN</td>\n",
       "      <td>NaN</td>\n",
       "      <td>NaN</td>\n",
       "      <td>NaN</td>\n",
       "      <td>NaN</td>\n",
       "      <td>NaN</td>\n",
       "      <td>NaN</td>\n",
       "      <td>NaN</td>\n",
       "      <td>NaN</td>\n",
       "      <td>NaN</td>\n",
       "      <td>NaN</td>\n",
       "      <td>Direct</td>\n",
       "      <td>New</td>\n",
       "      <td>Unknown</td>\n",
       "      <td>Unknown</td>\n",
       "      <td>Unknown</td>\n",
       "      <td>Computer</td>\n",
       "      <td>1024x600</td>\n",
       "      <td>Windows 7</td>\n",
       "      <td>Chrome 63.0</td>\n",
       "    </tr>\n",
       "    <tr>\n",
       "      <th>117</th>\n",
       "      <td>2018-01-31 16:54:28</td>\n",
       "      <td>generic listing</td>\n",
       "      <td>00204059</td>\n",
       "      <td>NaN</td>\n",
       "      <td>NaN</td>\n",
       "      <td>NaN</td>\n",
       "      <td>NaN</td>\n",
       "      <td>NaN</td>\n",
       "      <td>NaN</td>\n",
       "      <td>3853,12730,4033,12674,6959,4056,11022,13670,33...</td>\n",
       "      <td>NaN</td>\n",
       "      <td>NaN</td>\n",
       "      <td>NaN</td>\n",
       "      <td>NaN</td>\n",
       "      <td>NaN</td>\n",
       "      <td>NaN</td>\n",
       "      <td>NaN</td>\n",
       "      <td>NaN</td>\n",
       "      <td>NaN</td>\n",
       "      <td>NaN</td>\n",
       "      <td>NaN</td>\n",
       "      <td>NaN</td>\n",
       "      <td>NaN</td>\n",
       "    </tr>\n",
       "    <tr>\n",
       "      <th>118</th>\n",
       "      <td>2018-01-31 16:54:29</td>\n",
       "      <td>visited site</td>\n",
       "      <td>00204059</td>\n",
       "      <td>NaN</td>\n",
       "      <td>NaN</td>\n",
       "      <td>NaN</td>\n",
       "      <td>NaN</td>\n",
       "      <td>NaN</td>\n",
       "      <td>NaN</td>\n",
       "      <td>NaN</td>\n",
       "      <td>NaN</td>\n",
       "      <td>NaN</td>\n",
       "      <td>NaN</td>\n",
       "      <td>NaN</td>\n",
       "      <td>Social</td>\n",
       "      <td>Returning</td>\n",
       "      <td>Unknown</td>\n",
       "      <td>Unknown</td>\n",
       "      <td>Unknown</td>\n",
       "      <td>Computer</td>\n",
       "      <td>1024x600</td>\n",
       "      <td>Windows 7</td>\n",
       "      <td>Chrome 63.0</td>\n",
       "    </tr>\n",
       "    <tr>\n",
       "      <th>120</th>\n",
       "      <td>2018-01-31 16:54:39</td>\n",
       "      <td>brand listing</td>\n",
       "      <td>00204059</td>\n",
       "      <td>NaN</td>\n",
       "      <td>NaN</td>\n",
       "      <td>NaN</td>\n",
       "      <td>NaN</td>\n",
       "      <td>NaN</td>\n",
       "      <td>NaN</td>\n",
       "      <td>2691,2692,2694,2830,2693,2699,178,171,1302,283...</td>\n",
       "      <td>NaN</td>\n",
       "      <td>NaN</td>\n",
       "      <td>NaN</td>\n",
       "      <td>NaN</td>\n",
       "      <td>NaN</td>\n",
       "      <td>NaN</td>\n",
       "      <td>NaN</td>\n",
       "      <td>NaN</td>\n",
       "      <td>NaN</td>\n",
       "      <td>NaN</td>\n",
       "      <td>NaN</td>\n",
       "      <td>NaN</td>\n",
       "      <td>NaN</td>\n",
       "    </tr>\n",
       "  </tbody>\n",
       "</table>\n",
       "</div>"
      ],
      "text/plain": [
       "               timestamp            event    person  url  sku model condition storage color                                               skus search_term staticpage campaign_source search_engine channel new_vs_returning     city   region  country device_type screen_resolution operating_system_version browser_version\n",
       "115  2018-01-18 00:19:28  generic listing  00204059  NaN  NaN   NaN       NaN     NaN   NaN  3889,3853,3961,7071,7083,7028,1429,4033,12674,...         NaN        NaN             NaN           NaN     NaN              NaN      NaN      NaN      NaN         NaN               NaN                      NaN             NaN\n",
       "116  2018-01-18 00:19:39     visited site  00204059  NaN  NaN   NaN       NaN     NaN   NaN                                                NaN         NaN        NaN             NaN           NaN  Direct              New  Unknown  Unknown  Unknown    Computer          1024x600               Windows 7      Chrome 63.0\n",
       "117  2018-01-31 16:54:28  generic listing  00204059  NaN  NaN   NaN       NaN     NaN   NaN  3853,12730,4033,12674,6959,4056,11022,13670,33...         NaN        NaN             NaN           NaN     NaN              NaN      NaN      NaN      NaN         NaN               NaN                      NaN             NaN\n",
       "118  2018-01-31 16:54:29     visited site  00204059  NaN  NaN   NaN       NaN     NaN   NaN                                                NaN         NaN        NaN             NaN           NaN  Social        Returning  Unknown  Unknown  Unknown    Computer          1024x600               Windows 7      Chrome 63.0\n",
       "120  2018-01-31 16:54:39    brand listing  00204059  NaN  NaN   NaN       NaN     NaN   NaN  2691,2692,2694,2830,2693,2699,178,171,1302,283...         NaN        NaN             NaN           NaN     NaN              NaN      NaN      NaN      NaN         NaN               NaN                      NaN             NaN"
      ]
     },
     "execution_count": 13,
     "metadata": {},
     "output_type": "execute_result"
    }
   ],
   "source": [
    "persons_google_conversion = (df_google.loc[df['event'] == 'conversion'])['person']\n",
    "df_google_conversion = df.loc[df['person'].isin(persons_google_conversion)]\n",
    "df_google_conversion = df_google_conversion.loc[df_google_conversion['event'] != 'ad campaign hit', :]\n",
    "df_google_conversion.head(5)"
   ]
  },
  {
   "cell_type": "code",
   "execution_count": 14,
   "metadata": {},
   "outputs": [],
   "source": [
    "event_counts_google = df_google_conversion['event'].value_counts()"
   ]
  },
  {
   "cell_type": "code",
   "execution_count": 15,
   "metadata": {},
   "outputs": [
    {
     "data": {
      "text/html": [
       "<div>\n",
       "<style scoped>\n",
       "    .dataframe tbody tr th:only-of-type {\n",
       "        vertical-align: middle;\n",
       "    }\n",
       "\n",
       "    .dataframe tbody tr th {\n",
       "        vertical-align: top;\n",
       "    }\n",
       "\n",
       "    .dataframe thead th {\n",
       "        text-align: right;\n",
       "    }\n",
       "</style>\n",
       "<table border=\"1\" class=\"dataframe\">\n",
       "  <thead>\n",
       "    <tr style=\"text-align: right;\">\n",
       "      <th></th>\n",
       "      <th>timestamp</th>\n",
       "      <th>event</th>\n",
       "      <th>person</th>\n",
       "      <th>url</th>\n",
       "      <th>sku</th>\n",
       "      <th>model</th>\n",
       "      <th>condition</th>\n",
       "      <th>storage</th>\n",
       "      <th>color</th>\n",
       "      <th>skus</th>\n",
       "      <th>search_term</th>\n",
       "      <th>staticpage</th>\n",
       "      <th>campaign_source</th>\n",
       "      <th>search_engine</th>\n",
       "      <th>channel</th>\n",
       "      <th>new_vs_returning</th>\n",
       "      <th>city</th>\n",
       "      <th>region</th>\n",
       "      <th>country</th>\n",
       "      <th>device_type</th>\n",
       "      <th>screen_resolution</th>\n",
       "      <th>operating_system_version</th>\n",
       "      <th>browser_version</th>\n",
       "    </tr>\n",
       "  </thead>\n",
       "  <tbody>\n",
       "    <tr>\n",
       "      <th>count</th>\n",
       "      <td>118903</td>\n",
       "      <td>118903</td>\n",
       "      <td>118903</td>\n",
       "      <td>0.0</td>\n",
       "      <td>65246.0</td>\n",
       "      <td>65365</td>\n",
       "      <td>65246</td>\n",
       "      <td>65246</td>\n",
       "      <td>65246</td>\n",
       "      <td>34332</td>\n",
       "      <td>6796</td>\n",
       "      <td>1353</td>\n",
       "      <td>0.0</td>\n",
       "      <td>5080</td>\n",
       "      <td>12654</td>\n",
       "      <td>12654</td>\n",
       "      <td>12654</td>\n",
       "      <td>12654</td>\n",
       "      <td>12654</td>\n",
       "      <td>12654</td>\n",
       "      <td>12654</td>\n",
       "      <td>12654</td>\n",
       "      <td>12654</td>\n",
       "    </tr>\n",
       "    <tr>\n",
       "      <th>unique</th>\n",
       "      <td>109066</td>\n",
       "      <td>10</td>\n",
       "      <td>716</td>\n",
       "      <td>0.0</td>\n",
       "      <td>2470.0</td>\n",
       "      <td>187</td>\n",
       "      <td>5</td>\n",
       "      <td>8</td>\n",
       "      <td>61</td>\n",
       "      <td>10718</td>\n",
       "      <td>1426</td>\n",
       "      <td>12</td>\n",
       "      <td>0.0</td>\n",
       "      <td>3</td>\n",
       "      <td>7</td>\n",
       "      <td>2</td>\n",
       "      <td>491</td>\n",
       "      <td>40</td>\n",
       "      <td>8</td>\n",
       "      <td>4</td>\n",
       "      <td>55</td>\n",
       "      <td>44</td>\n",
       "      <td>115</td>\n",
       "    </tr>\n",
       "    <tr>\n",
       "      <th>top</th>\n",
       "      <td>2018-05-08 12:33:30</td>\n",
       "      <td>viewed product</td>\n",
       "      <td>6b07be7b</td>\n",
       "      <td>NaN</td>\n",
       "      <td>2830.0</td>\n",
       "      <td>iPhone 5s</td>\n",
       "      <td>Bom</td>\n",
       "      <td>16GB</td>\n",
       "      <td>Preto</td>\n",
       "      <td>3371,6357,6371,2777,3191,6791,2718,2725,6399,3...</td>\n",
       "      <td>32gb</td>\n",
       "      <td>CustomerService</td>\n",
       "      <td>NaN</td>\n",
       "      <td>Google</td>\n",
       "      <td>Direct</td>\n",
       "      <td>Returning</td>\n",
       "      <td>Unknown</td>\n",
       "      <td>Sao Paulo</td>\n",
       "      <td>Brazil</td>\n",
       "      <td>Computer</td>\n",
       "      <td>360x640</td>\n",
       "      <td>Windows 7</td>\n",
       "      <td>Chrome 66.0</td>\n",
       "    </tr>\n",
       "    <tr>\n",
       "      <th>freq</th>\n",
       "      <td>8</td>\n",
       "      <td>60919</td>\n",
       "      <td>2711</td>\n",
       "      <td>NaN</td>\n",
       "      <td>397.0</td>\n",
       "      <td>4810</td>\n",
       "      <td>27493</td>\n",
       "      <td>25616</td>\n",
       "      <td>17982</td>\n",
       "      <td>77</td>\n",
       "      <td>162</td>\n",
       "      <td>901</td>\n",
       "      <td>NaN</td>\n",
       "      <td>4974</td>\n",
       "      <td>4583</td>\n",
       "      <td>12023</td>\n",
       "      <td>2423</td>\n",
       "      <td>3734</td>\n",
       "      <td>12208</td>\n",
       "      <td>7161</td>\n",
       "      <td>4107</td>\n",
       "      <td>3486</td>\n",
       "      <td>2383</td>\n",
       "    </tr>\n",
       "  </tbody>\n",
       "</table>\n",
       "</div>"
      ],
      "text/plain": [
       "                  timestamp           event    person  url      sku      model condition storage  color                                               skus search_term       staticpage  campaign_source search_engine channel new_vs_returning     city     region country device_type screen_resolution operating_system_version browser_version\n",
       "count                118903          118903    118903  0.0  65246.0      65365     65246   65246  65246                                              34332        6796             1353              0.0          5080   12654            12654    12654      12654   12654       12654             12654                    12654           12654\n",
       "unique               109066              10       716  0.0   2470.0        187         5       8     61                                              10718        1426               12              0.0             3       7                2      491         40       8           4                55                       44             115\n",
       "top     2018-05-08 12:33:30  viewed product  6b07be7b  NaN   2830.0  iPhone 5s       Bom    16GB  Preto  3371,6357,6371,2777,3191,6791,2718,2725,6399,3...        32gb  CustomerService              NaN        Google  Direct        Returning  Unknown  Sao Paulo  Brazil    Computer           360x640               Windows 7      Chrome 66.0\n",
       "freq                      8           60919      2711  NaN    397.0       4810     27493   25616  17982                                                 77         162              901              NaN          4974    4583            12023     2423       3734   12208        7161              4107                     3486            2383"
      ]
     },
     "execution_count": 15,
     "metadata": {},
     "output_type": "execute_result"
    }
   ],
   "source": [
    "df_google_conversion.describe()"
   ]
  },
  {
   "cell_type": "code",
   "execution_count": null,
   "metadata": {},
   "outputs": [],
   "source": []
  },
  {
   "cell_type": "code",
   "execution_count": 16,
   "metadata": {},
   "outputs": [
    {
     "data": {
      "text/plain": [
       "Text(0,0.5,'Event Name')"
      ]
     },
     "execution_count": 16,
     "metadata": {},
     "output_type": "execute_result"
    },
    {
     "data": {
      "image/png": "[encoded data removed]",
      "text/plain": [
       "<Figure size 640x480 with 1 Axes>"
      ]
     },
     "metadata": {},
     "output_type": "display_data"
    }
   ],
   "source": [
    "g = sns.barplot(x=event_counts.values, y=event_counts.index, orient='h')\n",
    "g.set_title(\"Page Events on Google Campaign\", fontsize=15)\n",
    "g.set_xlabel(\"Quantity Of Events\", fontsize=12)\n",
    "g.set_ylabel(\"Event Name\", fontsize=12)"
   ]
  },
  {
   "cell_type": "code",
   "execution_count": 17,
   "metadata": {
    "scrolled": true
   },
   "outputs": [],
   "source": [
    "df_google_conversion['sum']=1"
   ]
  },
  {
   "cell_type": "code",
   "execution_count": 18,
   "metadata": {},
   "outputs": [],
   "source": [
    "event_sum = df_google_conversion.groupby('person').agg({'sum':'sum'})"
   ]
  },
  {
   "cell_type": "code",
   "execution_count": 19,
   "metadata": {},
   "outputs": [
    {
     "data": {
      "text/html": [
       "<div>\n",
       "<style scoped>\n",
       "    .dataframe tbody tr th:only-of-type {\n",
       "        vertical-align: middle;\n",
       "    }\n",
       "\n",
       "    .dataframe tbody tr th {\n",
       "        vertical-align: top;\n",
       "    }\n",
       "\n",
       "    .dataframe thead th {\n",
       "        text-align: right;\n",
       "    }\n",
       "</style>\n",
       "<table border=\"1\" class=\"dataframe\">\n",
       "  <thead>\n",
       "    <tr style=\"text-align: right;\">\n",
       "      <th></th>\n",
       "      <th>sum</th>\n",
       "    </tr>\n",
       "  </thead>\n",
       "  <tbody>\n",
       "    <tr>\n",
       "      <th>count</th>\n",
       "      <td>716.000000</td>\n",
       "    </tr>\n",
       "    <tr>\n",
       "      <th>mean</th>\n",
       "      <td>166.065642</td>\n",
       "    </tr>\n",
       "    <tr>\n",
       "      <th>std</th>\n",
       "      <td>228.854459</td>\n",
       "    </tr>\n",
       "    <tr>\n",
       "      <th>min</th>\n",
       "      <td>2.000000</td>\n",
       "    </tr>\n",
       "    <tr>\n",
       "      <th>25%</th>\n",
       "      <td>27.000000</td>\n",
       "    </tr>\n",
       "    <tr>\n",
       "      <th>50%</th>\n",
       "      <td>95.000000</td>\n",
       "    </tr>\n",
       "    <tr>\n",
       "      <th>75%</th>\n",
       "      <td>225.250000</td>\n",
       "    </tr>\n",
       "    <tr>\n",
       "      <th>max</th>\n",
       "      <td>2711.000000</td>\n",
       "    </tr>\n",
       "  </tbody>\n",
       "</table>\n",
       "</div>"
      ],
      "text/plain": [
       "               sum\n",
       "count   716.000000\n",
       "mean    166.065642\n",
       "std     228.854459\n",
       "min       2.000000\n",
       "25%      27.000000\n",
       "50%      95.000000\n",
       "75%     225.250000\n",
       "max    2711.000000"
      ]
     },
     "execution_count": 19,
     "metadata": {},
     "output_type": "execute_result"
    }
   ],
   "source": [
    "event_sum.describe()"
   ]
  },
  {
   "cell_type": "code",
   "execution_count": 20,
   "metadata": {},
   "outputs": [],
   "source": [
    "checkout_vs_conversion = event_counts_google.drop(labels=['viewed product','staticpage','lead', 'brand listing', 'visited site','generic listing','searched products', 'search engine hit'])"
   ]
  },
  {
   "cell_type": "code",
   "execution_count": 21,
   "metadata": {},
   "outputs": [
    {
     "data": {
      "text/plain": [
       "Text(0,0.5,'Event Name')"
      ]
     },
     "execution_count": 21,
     "metadata": {},
     "output_type": "execute_result"
    },
    {
     "data": {
      "image/png": "[encoded data removed]",
      "text/plain": [
       "<Figure size 640x480 with 1 Axes>"
      ]
     },
     "metadata": {},
     "output_type": "display_data"
    }
   ],
   "source": [
    "g = sns.barplot(x=checkout_vs_conversion.index, y=checkout_vs_conversion.values, orient='v')\n",
    "g.set_title(\"Page Events on Google Campaign\", fontsize=15)\n",
    "g.set_xlabel(\"Quantity Of Events\", fontsize=12)\n",
    "g.set_ylabel(\"Event Name\", fontsize=12)"
   ]
  },
  {
   "cell_type": "markdown",
   "metadata": {},
   "source": [
    "## Smartphone"
   ]
  },
  {
   "cell_type": "code",
   "execution_count": 22,
   "metadata": {},
   "outputs": [
    {
     "data": {
      "text/plain": [
       "timestamp                   2018-06-04 19:33:46\n",
       "event                              visited site\n",
       "person                                 5ecf68e8\n",
       "url                                         NaN\n",
       "sku                                         NaN\n",
       "model                                       NaN\n",
       "condition                                   NaN\n",
       "storage                                     NaN\n",
       "color                                       NaN\n",
       "skus                                        NaN\n",
       "search_term                                 NaN\n",
       "staticpage                                  NaN\n",
       "campaign_source                             NaN\n",
       "search_engine                               NaN\n",
       "channel                                    Paid\n",
       "new_vs_returning                            New\n",
       "city                                Sao Goncalo\n",
       "region                           Rio de Janeiro\n",
       "country                                  Brazil\n",
       "device_type                          Smartphone\n",
       "screen_resolution                     1920x1080\n",
       "operating_system_version              Android 5\n",
       "browser_version                Chrome Mobile 39\n",
       "Name: 360715, dtype: object"
      ]
     },
     "execution_count": 22,
     "metadata": {},
     "output_type": "execute_result"
    }
   ],
   "source": [
    "s_smartphone = (df.loc[df['device_type'] == 'Smartphone'])['screen_resolution']\n",
    "df.iloc[360715]"
   ]
  },
  {
   "cell_type": "code",
   "execution_count": null,
   "metadata": {},
   "outputs": [],
   "source": []
  },
  {
   "cell_type": "code",
   "execution_count": null,
   "metadata": {},
   "outputs": [],
   "source": []
  },
  {
   "cell_type": "markdown",
   "metadata": {},
   "source": [
    "## lead"
   ]
  },
  {
   "cell_type": "code",
   "execution_count": 23,
   "metadata": {},
   "outputs": [
    {
     "data": {
      "text/html": [
       "<div>\n",
       "<style scoped>\n",
       "    .dataframe tbody tr th:only-of-type {\n",
       "        vertical-align: middle;\n",
       "    }\n",
       "\n",
       "    .dataframe tbody tr th {\n",
       "        vertical-align: top;\n",
       "    }\n",
       "\n",
       "    .dataframe thead th {\n",
       "        text-align: right;\n",
       "    }\n",
       "</style>\n",
       "<table border=\"1\" class=\"dataframe\">\n",
       "  <thead>\n",
       "    <tr style=\"text-align: right;\">\n",
       "      <th></th>\n",
       "      <th>timestamp</th>\n",
       "      <th>event</th>\n",
       "      <th>person</th>\n",
       "      <th>url</th>\n",
       "      <th>sku</th>\n",
       "      <th>model</th>\n",
       "      <th>condition</th>\n",
       "      <th>storage</th>\n",
       "      <th>color</th>\n",
       "      <th>skus</th>\n",
       "      <th>search_term</th>\n",
       "      <th>staticpage</th>\n",
       "      <th>campaign_source</th>\n",
       "      <th>search_engine</th>\n",
       "      <th>channel</th>\n",
       "      <th>new_vs_returning</th>\n",
       "      <th>city</th>\n",
       "      <th>region</th>\n",
       "      <th>country</th>\n",
       "      <th>device_type</th>\n",
       "      <th>screen_resolution</th>\n",
       "      <th>operating_system_version</th>\n",
       "      <th>browser_version</th>\n",
       "    </tr>\n",
       "  </thead>\n",
       "  <tbody>\n",
       "    <tr>\n",
       "      <th>count</th>\n",
       "      <td>63887</td>\n",
       "      <td>63887</td>\n",
       "      <td>63887</td>\n",
       "      <td>3881</td>\n",
       "      <td>34000.0</td>\n",
       "      <td>34448</td>\n",
       "      <td>34000</td>\n",
       "      <td>34000</td>\n",
       "      <td>34000</td>\n",
       "      <td>17265</td>\n",
       "      <td>3060</td>\n",
       "      <td>410</td>\n",
       "      <td>3882</td>\n",
       "      <td>2283</td>\n",
       "      <td>5529</td>\n",
       "      <td>5529</td>\n",
       "      <td>5529</td>\n",
       "      <td>5529</td>\n",
       "      <td>5529</td>\n",
       "      <td>5529</td>\n",
       "      <td>5529</td>\n",
       "      <td>5529</td>\n",
       "      <td>5529</td>\n",
       "    </tr>\n",
       "    <tr>\n",
       "      <th>unique</th>\n",
       "      <td>56926</td>\n",
       "      <td>11</td>\n",
       "      <td>291</td>\n",
       "      <td>148</td>\n",
       "      <td>2117.0</td>\n",
       "      <td>181</td>\n",
       "      <td>5</td>\n",
       "      <td>8</td>\n",
       "      <td>61</td>\n",
       "      <td>6736</td>\n",
       "      <td>733</td>\n",
       "      <td>12</td>\n",
       "      <td>19</td>\n",
       "      <td>3</td>\n",
       "      <td>6</td>\n",
       "      <td>2</td>\n",
       "      <td>278</td>\n",
       "      <td>27</td>\n",
       "      <td>5</td>\n",
       "      <td>3</td>\n",
       "      <td>47</td>\n",
       "      <td>35</td>\n",
       "      <td>81</td>\n",
       "    </tr>\n",
       "    <tr>\n",
       "      <th>top</th>\n",
       "      <td>2018-03-21 01:11:52</td>\n",
       "      <td>viewed product</td>\n",
       "      <td>71492f2b</td>\n",
       "      <td>/</td>\n",
       "      <td>2830.0</td>\n",
       "      <td>iPhone 6</td>\n",
       "      <td>Bom</td>\n",
       "      <td>16GB</td>\n",
       "      <td>Preto</td>\n",
       "      <td>3371,6357,6371,2777,3191,6791,2718,2725,6399,3...</td>\n",
       "      <td>J7</td>\n",
       "      <td>CustomerService</td>\n",
       "      <td>google</td>\n",
       "      <td>Google</td>\n",
       "      <td>Direct</td>\n",
       "      <td>Returning</td>\n",
       "      <td>Unknown</td>\n",
       "      <td>Sao Paulo</td>\n",
       "      <td>Brazil</td>\n",
       "      <td>Computer</td>\n",
       "      <td>360x640</td>\n",
       "      <td>Windows 7</td>\n",
       "      <td>Chrome 66.0</td>\n",
       "    </tr>\n",
       "    <tr>\n",
       "      <th>freq</th>\n",
       "      <td>6</td>\n",
       "      <td>32907</td>\n",
       "      <td>2771</td>\n",
       "      <td>1362</td>\n",
       "      <td>255.0</td>\n",
       "      <td>2558</td>\n",
       "      <td>14599</td>\n",
       "      <td>12286</td>\n",
       "      <td>8984</td>\n",
       "      <td>62</td>\n",
       "      <td>109</td>\n",
       "      <td>226</td>\n",
       "      <td>2258</td>\n",
       "      <td>2221</td>\n",
       "      <td>1830</td>\n",
       "      <td>5243</td>\n",
       "      <td>1006</td>\n",
       "      <td>1152</td>\n",
       "      <td>5376</td>\n",
       "      <td>2813</td>\n",
       "      <td>1949</td>\n",
       "      <td>1329</td>\n",
       "      <td>1032</td>\n",
       "    </tr>\n",
       "  </tbody>\n",
       "</table>\n",
       "</div>"
      ],
      "text/plain": [
       "                  timestamp           event    person   url      sku     model condition storage  color                                               skus search_term       staticpage campaign_source search_engine channel new_vs_returning     city     region country device_type screen_resolution operating_system_version browser_version\n",
       "count                 63887           63887     63887  3881  34000.0     34448     34000   34000  34000                                              17265        3060              410            3882          2283    5529             5529     5529       5529    5529        5529              5529                     5529            5529\n",
       "unique                56926              11       291   148   2117.0       181         5       8     61                                               6736         733               12              19             3       6                2      278         27       5           3                47                       35              81\n",
       "top     2018-03-21 01:11:52  viewed product  71492f2b     /   2830.0  iPhone 6       Bom    16GB  Preto  3371,6357,6371,2777,3191,6791,2718,2725,6399,3...          J7  CustomerService          google        Google  Direct        Returning  Unknown  Sao Paulo  Brazil    Computer           360x640               Windows 7      Chrome 66.0\n",
       "freq                      6           32907      2771  1362    255.0      2558     14599   12286   8984                                                 62         109              226            2258          2221    1830             5243     1006       1152    5376        2813              1949                     1329            1032"
      ]
     },
     "execution_count": 23,
     "metadata": {},
     "output_type": "execute_result"
    }
   ],
   "source": [
    "lead = (df.loc[df['event'] == 'lead'])['person']\n",
    "df_lead_users = df.loc[df.person.isin(lead)]\n",
    "df_lead_users.describe()"
   ]
  },
  {
   "cell_type": "code",
   "execution_count": 24,
   "metadata": {
    "scrolled": true
   },
   "outputs": [],
   "source": [
    "event_counts = df_lead_users.event.value_counts()\n",
    "checkout_vs_conversion = event_counts.drop(labels=['ad campaign hit', 'viewed product','staticpage','lead', 'brand listing', 'visited site','generic listing','searched products', 'search engine hit'])\n"
   ]
  },
  {
   "cell_type": "code",
   "execution_count": 25,
   "metadata": {},
   "outputs": [
    {
     "data": {
      "text/plain": [
       "Text(0,0.5,'Event Name')"
      ]
     },
     "execution_count": 25,
     "metadata": {},
     "output_type": "execute_result"
    },
    {
     "data": {
      "image/png": "[encoded data removed]",
      "text/plain": [
       "<Figure size 640x480 with 1 Axes>"
      ]
     },
     "metadata": {},
     "output_type": "display_data"
    }
   ],
   "source": [
    "g = sns.barplot(x=checkout_vs_conversion.index, y=checkout_vs_conversion.values, orient='v')\n",
    "g.set_title(\"Page Events on Google Campaign\", fontsize=15)\n",
    "g.set_xlabel(\"Quantity Of Events\", fontsize=12)\n",
    "g.set_ylabel(\"Event Name\", fontsize=12)"
   ]
  },
  {
   "cell_type": "code",
   "execution_count": null,
   "metadata": {},
   "outputs": [],
   "source": []
  },
  {
   "cell_type": "code",
   "execution_count": null,
   "metadata": {},
   "outputs": [],
   "source": []
  },
  {
   "cell_type": "markdown",
   "metadata": {},
   "source": [
    "## New Vs Returning"
   ]
  },
  {
   "cell_type": "code",
   "execution_count": 26,
   "metadata": {},
   "outputs": [
    {
     "data": {
      "text/plain": [
       "Returning    60479\n",
       "New          26898\n",
       "Name: new_vs_returning, dtype: int64"
      ]
     },
     "execution_count": 26,
     "metadata": {},
     "output_type": "execute_result"
    }
   ],
   "source": [
    "s_new = (df.loc[df.new_vs_returning == 'New'])['person']\n",
    "df_new_that_returned = df.loc[df.person.isin(s_new)]\n",
    "df_new_that_returned['new_vs_returning'].value_counts()"
   ]
  },
  {
   "cell_type": "markdown",
   "metadata": {},
   "source": [
    "## Search engine hit con conversion"
   ]
  },
  {
   "cell_type": "code",
   "execution_count": 27,
   "metadata": {},
   "outputs": [
    {
     "data": {
      "text/html": [
       "<div>\n",
       "<style scoped>\n",
       "    .dataframe tbody tr th:only-of-type {\n",
       "        vertical-align: middle;\n",
       "    }\n",
       "\n",
       "    .dataframe tbody tr th {\n",
       "        vertical-align: top;\n",
       "    }\n",
       "\n",
       "    .dataframe thead th {\n",
       "        text-align: right;\n",
       "    }\n",
       "</style>\n",
       "<table border=\"1\" class=\"dataframe\">\n",
       "  <thead>\n",
       "    <tr style=\"text-align: right;\">\n",
       "      <th></th>\n",
       "      <th>timestamp</th>\n",
       "      <th>event</th>\n",
       "      <th>person</th>\n",
       "      <th>url</th>\n",
       "      <th>sku</th>\n",
       "      <th>model</th>\n",
       "      <th>condition</th>\n",
       "      <th>storage</th>\n",
       "      <th>color</th>\n",
       "      <th>skus</th>\n",
       "      <th>search_term</th>\n",
       "      <th>staticpage</th>\n",
       "      <th>campaign_source</th>\n",
       "      <th>search_engine</th>\n",
       "      <th>channel</th>\n",
       "      <th>new_vs_returning</th>\n",
       "      <th>city</th>\n",
       "      <th>region</th>\n",
       "      <th>country</th>\n",
       "      <th>device_type</th>\n",
       "      <th>screen_resolution</th>\n",
       "      <th>operating_system_version</th>\n",
       "      <th>browser_version</th>\n",
       "    </tr>\n",
       "  </thead>\n",
       "  <tbody>\n",
       "    <tr>\n",
       "      <th>count</th>\n",
       "      <td>832957</td>\n",
       "      <td>832957</td>\n",
       "      <td>832957</td>\n",
       "      <td>62463</td>\n",
       "      <td>462042.0</td>\n",
       "      <td>462417</td>\n",
       "      <td>462042</td>\n",
       "      <td>462042</td>\n",
       "      <td>462042</td>\n",
       "      <td>185702</td>\n",
       "      <td>41595</td>\n",
       "      <td>3036</td>\n",
       "      <td>62497</td>\n",
       "      <td>50957</td>\n",
       "      <td>67899</td>\n",
       "      <td>67899</td>\n",
       "      <td>67899</td>\n",
       "      <td>67899</td>\n",
       "      <td>67899</td>\n",
       "      <td>67899</td>\n",
       "      <td>67899</td>\n",
       "      <td>67899</td>\n",
       "      <td>67899</td>\n",
       "    </tr>\n",
       "    <tr>\n",
       "      <th>unique</th>\n",
       "      <td>663576</td>\n",
       "      <td>11</td>\n",
       "      <td>17205</td>\n",
       "      <td>219</td>\n",
       "      <td>3745.0</td>\n",
       "      <td>202</td>\n",
       "      <td>5</td>\n",
       "      <td>8</td>\n",
       "      <td>63</td>\n",
       "      <td>31808</td>\n",
       "      <td>5093</td>\n",
       "      <td>14</td>\n",
       "      <td>22</td>\n",
       "      <td>4</td>\n",
       "      <td>7</td>\n",
       "      <td>2</td>\n",
       "      <td>1733</td>\n",
       "      <td>78</td>\n",
       "      <td>38</td>\n",
       "      <td>4</td>\n",
       "      <td>219</td>\n",
       "      <td>110</td>\n",
       "      <td>264</td>\n",
       "    </tr>\n",
       "    <tr>\n",
       "      <th>top</th>\n",
       "      <td>2018-06-14 15:43:38</td>\n",
       "      <td>viewed product</td>\n",
       "      <td>6b07be7b</td>\n",
       "      <td>/</td>\n",
       "      <td>2830.0</td>\n",
       "      <td>iPhone 6</td>\n",
       "      <td>Bom</td>\n",
       "      <td>16GB</td>\n",
       "      <td>Preto</td>\n",
       "      <td>2820,6706,6720,2750,6649,7251,6663,12604,7224,...</td>\n",
       "      <td>Iphone</td>\n",
       "      <td>CustomerService</td>\n",
       "      <td>google</td>\n",
       "      <td>Google</td>\n",
       "      <td>Paid</td>\n",
       "      <td>Returning</td>\n",
       "      <td>Unknown</td>\n",
       "      <td>Sao Paulo</td>\n",
       "      <td>Brazil</td>\n",
       "      <td>Computer</td>\n",
       "      <td>360x640</td>\n",
       "      <td>Windows 7</td>\n",
       "      <td>Chrome 66.0</td>\n",
       "    </tr>\n",
       "    <tr>\n",
       "      <th>freq</th>\n",
       "      <td>9</td>\n",
       "      <td>438604</td>\n",
       "      <td>2770</td>\n",
       "      <td>24545</td>\n",
       "      <td>3518.0</td>\n",
       "      <td>42070</td>\n",
       "      <td>195444</td>\n",
       "      <td>155702</td>\n",
       "      <td>107175</td>\n",
       "      <td>494</td>\n",
       "      <td>1002</td>\n",
       "      <td>1334</td>\n",
       "      <td>47022</td>\n",
       "      <td>50240</td>\n",
       "      <td>32785</td>\n",
       "      <td>50732</td>\n",
       "      <td>12149</td>\n",
       "      <td>19931</td>\n",
       "      <td>65551</td>\n",
       "      <td>33994</td>\n",
       "      <td>23389</td>\n",
       "      <td>15858</td>\n",
       "      <td>18025</td>\n",
       "    </tr>\n",
       "  </tbody>\n",
       "</table>\n",
       "</div>"
      ],
      "text/plain": [
       "                  timestamp           event    person    url       sku     model condition storage   color                                               skus search_term       staticpage campaign_source search_engine channel new_vs_returning     city     region country device_type screen_resolution operating_system_version browser_version\n",
       "count                832957          832957    832957  62463  462042.0    462417    462042  462042  462042                                             185702       41595             3036           62497         50957   67899            67899    67899      67899   67899       67899             67899                    67899           67899\n",
       "unique               663576              11     17205    219    3745.0       202         5       8      63                                              31808        5093               14              22             4       7                2     1733         78      38           4               219                      110             264\n",
       "top     2018-06-14 15:43:38  viewed product  6b07be7b      /    2830.0  iPhone 6       Bom    16GB   Preto  2820,6706,6720,2750,6649,7251,6663,12604,7224,...      Iphone  CustomerService          google        Google    Paid        Returning  Unknown  Sao Paulo  Brazil    Computer           360x640               Windows 7      Chrome 66.0\n",
       "freq                      9          438604      2770  24545    3518.0     42070    195444  155702  107175                                                494        1002             1334           47022         50240   32785            50732    12149      19931   65551       33994             23389                    15858           18025"
      ]
     },
     "execution_count": 27,
     "metadata": {},
     "output_type": "execute_result"
    }
   ],
   "source": [
    "s_search = (df.loc[df['event'] == 'search engine hit'])['person']\n",
    "df_search_engine_hit = df.loc[df['person'].isin(s_search)]\n",
    "df_search_engine_hit.describe()\n"
   ]
  },
  {
   "cell_type": "code",
   "execution_count": 28,
   "metadata": {},
   "outputs": [
    {
     "data": {
      "text/plain": [
       "viewed product       438604\n",
       "brand listing         82190\n",
       "visited site          67899\n",
       "ad campaign hit       62520\n",
       "generic listing       56596\n",
       "search engine hit     50957\n",
       "searched products     47342\n",
       "checkout              22545\n",
       "staticpage             3036\n",
       "conversion              893\n",
       "lead                    375\n",
       "Name: event, dtype: int64"
      ]
     },
     "execution_count": 28,
     "metadata": {},
     "output_type": "execute_result"
    }
   ],
   "source": [
    "df_search_engine_hit['event'].value_counts()"
   ]
  },
  {
   "cell_type": "code",
   "execution_count": null,
   "metadata": {},
   "outputs": [],
   "source": []
  },
  {
   "cell_type": "markdown",
   "metadata": {},
   "source": [
    "# Teléfonos más buscados vs. los más comprados."
   ]
  },
  {
   "cell_type": "markdown",
   "metadata": {},
   "source": [
    "## Brasil"
   ]
  },
  {
   "cell_type": "markdown",
   "metadata": {},
   "source": [
    "El país con más información en el dataframe es Brasil. Procederemos a buscar cuáles son los 10 smartphones mas buscados por sus habitantes."
   ]
  },
  {
   "cell_type": "code",
   "execution_count": 4,
   "metadata": {},
   "outputs": [],
   "source": [
    "df_grouped_by_country = df.groupby('country')\n",
    "brazilians = df_grouped_by_country.get_group('Brazil')['person']\n",
    "df_brazilians = df.loc[df['person'].isin(brazilians),:]\n",
    "top10_models_brazil = df_brazilians['model'].value_counts().head(10)"
   ]
  },
  {
   "cell_type": "code",
   "execution_count": 5,
   "metadata": {},
   "outputs": [
    {
     "data": {
      "text/plain": [
       "Text(0,0.5,'Frequency')"
      ]
     },
     "execution_count": 5,
     "metadata": {},
     "output_type": "execute_result"
    },
    {
     "data": {
      "image/png": "[encoded data removed]",
      "text/plain": [
       "<Figure size 432x288 with 1 Axes>"
      ]
     },
     "metadata": {},
     "output_type": "display_data"
    }
   ],
   "source": [
    "g = sns.barplot(x=top10_models_brazil.index, y=top10_models_brazil.values, orient = 'v')\n",
    "plt.xticks(rotation=90)\n",
    "g.set_title(\"Top 10 smartphones wanted in Brazil\", fontsize = 15)\n",
    "g.set_xlabel(\"Model\", fontsize = 12)\n",
    "g.set_ylabel(\"Frequency\", fontsize = 12)"
   ]
  },
  {
   "cell_type": "markdown",
   "metadata": {},
   "source": [
    "El gráfico de arriba muestra los 10 smartphones más buscados por los habitantes de Brasil. Ahora, buscaremos los 10 teléfonos mas vendidos alli, para ver si hay alguna coincidencia."
   ]
  },
  {
   "cell_type": "code",
   "execution_count": 6,
   "metadata": {},
   "outputs": [
    {
     "data": {
      "text/plain": [
       "Text(0,0.5,'Frequency')"
      ]
     },
     "execution_count": 6,
     "metadata": {},
     "output_type": "execute_result"
    },
    {
     "data": {
      "image/png": "[encoded data removed]",
      "text/plain": [
       "<Figure size 432x288 with 1 Axes>"
      ]
     },
     "metadata": {},
     "output_type": "display_data"
    }
   ],
   "source": [
    "brazilians_who_bought = df_brazilians.loc[df_brazilians['event'] == 'conversion', :]\n",
    "top10_buy_brazil = brazilians_who_bought['model'].value_counts().head(10)\n",
    "g2 = sns.barplot(x=top10_buy_brazil.index, y=top10_buy_brazil.values, orient = 'v')\n",
    "plt.xticks(rotation=90)\n",
    "g2.set_title(\"Top 10 smartphones bought in Brazil\", fontsize = 15)\n",
    "g2.set_xlabel(\"Model\", fontsize = 12)\n",
    "g2.set_ylabel(\"Frequency\", fontsize = 12)"
   ]
  },
  {
   "cell_type": "markdown",
   "metadata": {},
   "source": [
    "Se puede ver que el modelo Samsung Galaxy J5 no es el modelo mas buscado, pero si es el mas vendido. Por otra parte, iPhone 5s y iPhone 6 se mantienen en el podio, tanto de los mas buscados como los mas vendidos."
   ]
  },
  {
   "cell_type": "markdown",
   "metadata": {},
   "source": [
    "# United States"
   ]
  },
  {
   "cell_type": "markdown",
   "metadata": {},
   "source": [
    "Procederemos a hacer el mismo analisis sobre los datos extraidos de los habitantes estadounidenses."
   ]
  },
  {
   "cell_type": "code",
   "execution_count": 16,
   "metadata": {},
   "outputs": [],
   "source": [
    "usa = df_grouped_by_country.get_group('United States')['person']\n",
    "df_usa = df.loc[df['person'].isin(usa),:]\n",
    "top10_models_usa = df_usa['model'].value_counts().head(10)"
   ]
  },
  {
   "cell_type": "code",
   "execution_count": 17,
   "metadata": {},
   "outputs": [
    {
     "data": {
      "text/plain": [
       "Text(0,0.5,'Frequency')"
      ]
     },
     "execution_count": 17,
     "metadata": {},
     "output_type": "execute_result"
    },
    {
     "data": {
      "image/png": "[encoded data removed]",
      "text/plain": [
       "<Figure size 432x288 with 1 Axes>"
      ]
     },
     "metadata": {},
     "output_type": "display_data"
    }
   ],
   "source": [
    "g1 = sns.barplot(x=top10_models_usa.index, y=top10_models_usa.values, orient = 'v')\n",
    "plt.xticks(rotation=90)\n",
    "g1.set_title(\"Top 10 smartphones wanted in United States\", fontsize = 15)\n",
    "g1.set_xlabel(\"Model\", fontsize = 12)\n",
    "g1.set_ylabel(\"Frequency\", fontsize = 12)"
   ]
  },
  {
   "cell_type": "code",
   "execution_count": 9,
   "metadata": {},
   "outputs": [
    {
     "data": {
      "text/plain": [
       "Text(0,0.5,'Frequency')"
      ]
     },
     "execution_count": 9,
     "metadata": {},
     "output_type": "execute_result"
    },
    {
     "data": {
      "image/png": "[encoded data removed]",
      "text/plain": [
       "<Figure size 432x288 with 1 Axes>"
      ]
     },
     "metadata": {},
     "output_type": "display_data"
    }
   ],
   "source": [
    "americans_who_bought = df_americans.loc[df_americans['event'] == 'conversion', :]\n",
    "top10_buy_usa = americans_who_bought['model'].value_counts().head(10)\n",
    "g3 = sns.barplot(x=top10_buy_usa.index, y=top10_buy_usa.values, orient = 'v')\n",
    "plt.xticks(rotation=90)\n",
    "g3.set_title(\"Top 10 smartphones bought in United States \", fontsize = 15)\n",
    "g3.set_xlabel(\"Model\", fontsize = 12)\n",
    "g3.set_ylabel(\"Frequency\", fontsize = 12)"
   ]
  },
  {
   "cell_type": "markdown",
   "metadata": {},
   "source": [
    "## Teléfonos vendidos por mes."
   ]
  },
  {
   "cell_type": "code",
   "execution_count": 10,
   "metadata": {},
   "outputs": [
    {
     "data": {
      "text/html": [
       "<div>\n",
       "<style scoped>\n",
       "    .dataframe tbody tr th:only-of-type {\n",
       "        vertical-align: middle;\n",
       "    }\n",
       "\n",
       "    .dataframe tbody tr th {\n",
       "        vertical-align: top;\n",
       "    }\n",
       "\n",
       "    .dataframe thead th {\n",
       "        text-align: right;\n",
       "    }\n",
       "</style>\n",
       "<table border=\"1\" class=\"dataframe\">\n",
       "  <thead>\n",
       "    <tr style=\"text-align: right;\">\n",
       "      <th></th>\n",
       "      <th>timestamp</th>\n",
       "      <th>event</th>\n",
       "      <th>condition</th>\n",
       "      <th>model</th>\n",
       "    </tr>\n",
       "  </thead>\n",
       "  <tbody>\n",
       "    <tr>\n",
       "      <th>220</th>\n",
       "      <td>2018-03-20 17:46:12</td>\n",
       "      <td>conversion</td>\n",
       "      <td>Muito Bom</td>\n",
       "      <td>Motorola Moto X2</td>\n",
       "    </tr>\n",
       "    <tr>\n",
       "      <th>2282</th>\n",
       "      <td>2018-04-26 22:28:53</td>\n",
       "      <td>conversion</td>\n",
       "      <td>Muito Bom</td>\n",
       "      <td>Samsung Galaxy Core Plus Duos TV</td>\n",
       "    </tr>\n",
       "    <tr>\n",
       "      <th>2547</th>\n",
       "      <td>2018-06-10 14:37:50</td>\n",
       "      <td>conversion</td>\n",
       "      <td>Muito Bom</td>\n",
       "      <td>Samsung Galaxy S6 Flat</td>\n",
       "    </tr>\n",
       "    <tr>\n",
       "      <th>4245</th>\n",
       "      <td>2018-03-16 13:50:25</td>\n",
       "      <td>conversion</td>\n",
       "      <td>Bom</td>\n",
       "      <td>iPhone 5s</td>\n",
       "    </tr>\n",
       "    <tr>\n",
       "      <th>6985</th>\n",
       "      <td>2018-02-09 22:07:07</td>\n",
       "      <td>conversion</td>\n",
       "      <td>Bom</td>\n",
       "      <td>Samsung Galaxy J5</td>\n",
       "    </tr>\n",
       "  </tbody>\n",
       "</table>\n",
       "</div>"
      ],
      "text/plain": [
       "                timestamp       event  condition  \\\n",
       "220   2018-03-20 17:46:12  conversion  Muito Bom   \n",
       "2282  2018-04-26 22:28:53  conversion  Muito Bom   \n",
       "2547  2018-06-10 14:37:50  conversion  Muito Bom   \n",
       "4245  2018-03-16 13:50:25  conversion        Bom   \n",
       "6985  2018-02-09 22:07:07  conversion        Bom   \n",
       "\n",
       "                                 model  \n",
       "220                   Motorola Moto X2  \n",
       "2282  Samsung Galaxy Core Plus Duos TV  \n",
       "2547            Samsung Galaxy S6 Flat  \n",
       "4245                         iPhone 5s  \n",
       "6985                 Samsung Galaxy J5  "
      ]
     },
     "execution_count": 10,
     "metadata": {},
     "output_type": "execute_result"
    }
   ],
   "source": [
    "df_conversions = df.loc[df['event'] == 'conversion', : ]\n",
    "df_conversions = df_conversions[['timestamp', 'event', 'condition', 'model']]\n",
    "df_conversions.head()"
   ]
  },
  {
   "cell_type": "code",
   "execution_count": 20,
   "metadata": {},
   "outputs": [
    {
     "data": {
      "text/html": [
       "<div>\n",
       "<style scoped>\n",
       "    .dataframe tbody tr th:only-of-type {\n",
       "        vertical-align: middle;\n",
       "    }\n",
       "\n",
       "    .dataframe tbody tr th {\n",
       "        vertical-align: top;\n",
       "    }\n",
       "\n",
       "    .dataframe thead th {\n",
       "        text-align: right;\n",
       "    }\n",
       "</style>\n",
       "<table border=\"1\" class=\"dataframe\">\n",
       "  <thead>\n",
       "    <tr style=\"text-align: right;\">\n",
       "      <th>day</th>\n",
       "      <th>Friday</th>\n",
       "      <th>Monday</th>\n",
       "      <th>Saturday</th>\n",
       "      <th>Sunday</th>\n",
       "      <th>Thursday</th>\n",
       "      <th>Tuesday</th>\n",
       "      <th>Wednesday</th>\n",
       "    </tr>\n",
       "    <tr>\n",
       "      <th>month</th>\n",
       "      <th></th>\n",
       "      <th></th>\n",
       "      <th></th>\n",
       "      <th></th>\n",
       "      <th></th>\n",
       "      <th></th>\n",
       "      <th></th>\n",
       "    </tr>\n",
       "  </thead>\n",
       "  <tbody>\n",
       "    <tr>\n",
       "      <th>1</th>\n",
       "      <td>7</td>\n",
       "      <td>9</td>\n",
       "      <td>4</td>\n",
       "      <td>6</td>\n",
       "      <td>6</td>\n",
       "      <td>13</td>\n",
       "      <td>18</td>\n",
       "    </tr>\n",
       "    <tr>\n",
       "      <th>2</th>\n",
       "      <td>11</td>\n",
       "      <td>11</td>\n",
       "      <td>12</td>\n",
       "      <td>3</td>\n",
       "      <td>20</td>\n",
       "      <td>11</td>\n",
       "      <td>6</td>\n",
       "    </tr>\n",
       "    <tr>\n",
       "      <th>3</th>\n",
       "      <td>38</td>\n",
       "      <td>41</td>\n",
       "      <td>34</td>\n",
       "      <td>26</td>\n",
       "      <td>36</td>\n",
       "      <td>57</td>\n",
       "      <td>33</td>\n",
       "    </tr>\n",
       "    <tr>\n",
       "      <th>4</th>\n",
       "      <td>51</td>\n",
       "      <td>58</td>\n",
       "      <td>25</td>\n",
       "      <td>39</td>\n",
       "      <td>46</td>\n",
       "      <td>54</td>\n",
       "      <td>43</td>\n",
       "    </tr>\n",
       "    <tr>\n",
       "      <th>5</th>\n",
       "      <td>49</td>\n",
       "      <td>54</td>\n",
       "      <td>21</td>\n",
       "      <td>23</td>\n",
       "      <td>70</td>\n",
       "      <td>62</td>\n",
       "      <td>72</td>\n",
       "    </tr>\n",
       "    <tr>\n",
       "      <th>6</th>\n",
       "      <td>19</td>\n",
       "      <td>11</td>\n",
       "      <td>10</td>\n",
       "      <td>6</td>\n",
       "      <td>22</td>\n",
       "      <td>18</td>\n",
       "      <td>17</td>\n",
       "    </tr>\n",
       "  </tbody>\n",
       "</table>\n",
       "</div>"
      ],
      "text/plain": [
       "day    Friday  Monday  Saturday  Sunday  Thursday  Tuesday  Wednesday\n",
       "month                                                                \n",
       "1           7       9         4       6         6       13         18\n",
       "2          11      11        12       3        20       11          6\n",
       "3          38      41        34      26        36       57         33\n",
       "4          51      58        25      39        46       54         43\n",
       "5          49      54        21      23        70       62         72\n",
       "6          19      11        10       6        22       18         17"
      ]
     },
     "execution_count": 20,
     "metadata": {},
     "output_type": "execute_result"
    }
   ],
   "source": [
    "df_conversions['date'] = pd.to_datetime(df_conversions['timestamp'])\n",
    "df_conversions['month'] = df_conversions['date'].dt.month\n",
    "df_conversions['day'] = df_conversions['date'].dt.weekday_name\n",
    "df_conversions['counter'] = 1\n",
    "ct = pd.crosstab(df_conversions.month, df_conversions.day)\n",
    "ct.head(10)"
   ]
  },
  {
   "cell_type": "code",
   "execution_count": 23,
   "metadata": {},
   "outputs": [
    {
     "data": {
      "text/plain": [
       "Text(52,0.5,'Month')"
      ]
     },
     "execution_count": 23,
     "metadata": {},
     "output_type": "execute_result"
    },
    {
     "data": {
      "image/png": "[encoded data removed]",
      "text/plain": [
       "<Figure size 576x576 with 2 Axes>"
      ]
     },
     "metadata": {},
     "output_type": "display_data"
    }
   ],
   "source": [
    "plt.subplots(figsize=(8,8))\n",
    "grafico_dia_mes=sns.heatmap(ct,linewidths=.5,fmt=\"d\",annot=True,cmap=\"BuPu\")\n",
    "grafico_dia_mes.set_title(\"Sales per day\",fontsize=20)\n",
    "grafico_dia_mes.set_xlabel(\"Day\",fontsize=12)\n",
    "grafico_dia_mes.set_ylabel(\"Month\",fontsize=12)"
   ]
  },
  {
   "cell_type": "markdown",
   "metadata": {},
   "source": [
    "En el gráfico se puede ver algo que llamaría la atención, y es que los dias Sabados y Domingos no tienen tantas ventas como el resto de los dias de la semana. Por ejemplo, en el mes 5 los dias Sabado se vendieron 21 productos, y los Miercoles, en cambio, se vendieron 72 productos."
   ]
  },
  {
   "cell_type": "markdown",
   "metadata": {},
   "source": [
    "Ahora, analizaremos en que condiciones se compran los 10 productos mas vendidos a nivel global."
   ]
  },
  {
   "cell_type": "code",
   "execution_count": 46,
   "metadata": {},
   "outputs": [],
   "source": [
    "used_articles = df_conversions.groupby('model')\n",
    "used_articles = used_articles['counter'].sum()\n",
    "used_articles = used_articles.sort_values(ascending = False)\n",
    "used_articles = used_articles.head(10)\n",
    "articles_conditions = df_conversions.loc[df_conversions['condition'].isin(['Bom', 'Excelente', 'Muito Bom', 'Novo']), : ]\n",
    "crosstab_aux = articles_conditions.loc[df_conversions['model'].isin(used_articles.index), :]"
   ]
  },
  {
   "cell_type": "code",
   "execution_count": 47,
   "metadata": {},
   "outputs": [
    {
     "data": {
      "text/html": [
       "<div>\n",
       "<style scoped>\n",
       "    .dataframe tbody tr th:only-of-type {\n",
       "        vertical-align: middle;\n",
       "    }\n",
       "\n",
       "    .dataframe tbody tr th {\n",
       "        vertical-align: top;\n",
       "    }\n",
       "\n",
       "    .dataframe thead th {\n",
       "        text-align: right;\n",
       "    }\n",
       "</style>\n",
       "<table border=\"1\" class=\"dataframe\">\n",
       "  <thead>\n",
       "    <tr style=\"text-align: right;\">\n",
       "      <th>model</th>\n",
       "      <th>Motorola Moto G3 4G</th>\n",
       "      <th>Motorola Moto G4 Plus</th>\n",
       "      <th>Samsung Galaxy A5</th>\n",
       "      <th>Samsung Galaxy J5</th>\n",
       "      <th>Samsung Galaxy J7</th>\n",
       "      <th>Samsung Galaxy S6 Flat</th>\n",
       "      <th>iPhone 5c</th>\n",
       "      <th>iPhone 5s</th>\n",
       "      <th>iPhone 6</th>\n",
       "      <th>iPhone 6S</th>\n",
       "    </tr>\n",
       "    <tr>\n",
       "      <th>condition</th>\n",
       "      <th></th>\n",
       "      <th></th>\n",
       "      <th></th>\n",
       "      <th></th>\n",
       "      <th></th>\n",
       "      <th></th>\n",
       "      <th></th>\n",
       "      <th></th>\n",
       "      <th></th>\n",
       "      <th></th>\n",
       "    </tr>\n",
       "  </thead>\n",
       "  <tbody>\n",
       "    <tr>\n",
       "      <th>Bom</th>\n",
       "      <td>24</td>\n",
       "      <td>11</td>\n",
       "      <td>13</td>\n",
       "      <td>55</td>\n",
       "      <td>9</td>\n",
       "      <td>29</td>\n",
       "      <td>28</td>\n",
       "      <td>34</td>\n",
       "      <td>26</td>\n",
       "      <td>12</td>\n",
       "    </tr>\n",
       "    <tr>\n",
       "      <th>Excelente</th>\n",
       "      <td>2</td>\n",
       "      <td>7</td>\n",
       "      <td>1</td>\n",
       "      <td>7</td>\n",
       "      <td>6</td>\n",
       "      <td>4</td>\n",
       "      <td>2</td>\n",
       "      <td>12</td>\n",
       "      <td>12</td>\n",
       "      <td>12</td>\n",
       "    </tr>\n",
       "    <tr>\n",
       "      <th>Muito Bom</th>\n",
       "      <td>4</td>\n",
       "      <td>12</td>\n",
       "      <td>13</td>\n",
       "      <td>26</td>\n",
       "      <td>13</td>\n",
       "      <td>6</td>\n",
       "      <td>3</td>\n",
       "      <td>29</td>\n",
       "      <td>23</td>\n",
       "      <td>12</td>\n",
       "    </tr>\n",
       "  </tbody>\n",
       "</table>\n",
       "</div>"
      ],
      "text/plain": [
       "model      Motorola Moto G3 4G  Motorola Moto G4 Plus  Samsung Galaxy A5  \\\n",
       "condition                                                                  \n",
       "Bom                         24                     11                 13   \n",
       "Excelente                    2                      7                  1   \n",
       "Muito Bom                    4                     12                 13   \n",
       "\n",
       "model      Samsung Galaxy J5  Samsung Galaxy J7  Samsung Galaxy S6 Flat  \\\n",
       "condition                                                                 \n",
       "Bom                       55                  9                      29   \n",
       "Excelente                  7                  6                       4   \n",
       "Muito Bom                 26                 13                       6   \n",
       "\n",
       "model      iPhone 5c  iPhone 5s  iPhone 6  iPhone 6S  \n",
       "condition                                             \n",
       "Bom               28         34        26         12  \n",
       "Excelente          2         12        12         12  \n",
       "Muito Bom          3         29        23         12  "
      ]
     },
     "execution_count": 47,
     "metadata": {},
     "output_type": "execute_result"
    }
   ],
   "source": [
    "model_condition = pd.crosstab(crosstab_aux.condition, crosstab_aux.model)\n",
    "model_condition.head()"
   ]
  },
  {
   "cell_type": "code",
   "execution_count": 49,
   "metadata": {},
   "outputs": [
    {
     "data": {
      "text/plain": [
       "Text(52,0.5,'Condition')"
      ]
     },
     "execution_count": 49,
     "metadata": {},
     "output_type": "execute_result"
    },
    {
     "data": {
      "image/png": "[encoded data removed]",
      "text/plain": [
       "<Figure size 576x576 with 2 Axes>"
      ]
     },
     "metadata": {},
     "output_type": "display_data"
    }
   ],
   "source": [
    "plt.subplots(figsize=(8,8))\n",
    "grafico_modelo_condicion=sns.heatmap(model_condition,linewidths=.5,fmt=\"d\",annot=True,cmap=\"nipy_spectral_r\")\n",
    "plt.xticks(rotation=90)\n",
    "plt.yticks(rotation=0)\n",
    "grafico_modelo_condicion.set_title(\"Condition of top 10 smartphones sold\",fontsize=20)\n",
    "grafico_modelo_condicion.set_xlabel(\"Model\",fontsize=12)\n",
    "grafico_modelo_condicion.set_ylabel(\"Condition\",fontsize=12)"
   ]
  },
  {
   "cell_type": "markdown",
   "metadata": {},
   "source": [
    "Se puede ver que la gente prefiere comprar teléfonos que estan en buen estado, pero no en su mejor estado."
   ]
  },
  {
   "cell_type": "code",
   "execution_count": null,
   "metadata": {},
   "outputs": [],
   "source": []
  }
 ],
 "metadata": {
  "kernelspec": {
   "display_name": "Python 3",
   "language": "python",
   "name": "python3"
  },
  "language_info": {
   "codemirror_mode": {
    "name": "ipython",
    "version": 3
   },
   "file_extension": ".py",
   "mimetype": "text/x-python",
   "name": "python",
   "nbconvert_exporter": "python",
   "pygments_lexer": "ipython3",
   "version": "3.6.5"
  }
 },
 "nbformat": 4,
 "nbformat_minor": 2
}
