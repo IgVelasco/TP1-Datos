{
 "cells": [
  {
   "cell_type": "code",
   "execution_count": 2,
   "metadata": {},
   "outputs": [
    {
     "data": {
      "text/plain": [
       "<IPython.core.display.Javascript object>"
      ]
     },
     "metadata": {},
     "output_type": "display_data"
    }
   ],
   "source": [
    "\n",
    "%%javascript\n",
    "\n",
    "IPython.keyboard_manager.command_shortcuts.add_shortcut('Ctrl-k', {\n",
    "    help : 'move up selected cells',\n",
    "    help_index : 'jupyter-notebook:move-selection-up',\n",
    "    handler : function (event) {\n",
    "        IPython.notebook.move_selection_up();\n",
    "        return false;\n",
    "    }}\n",
    ");\n",
    "\n",
    "IPython.keyboard_manager.command_shortcuts.add_shortcut('Ctrl-j', {\n",
    "    help : 'move down selected cells',\n",
    "    help_index : 'jupyter-notebook:move-selection-down',\n",
    "    handler :  function (event) {\n",
    "        IPython.notebook.move_selection_down();\n",
    "        return false;\n",
    "    }}\n",
    ");"
   ]
  },
  {
   "cell_type": "markdown",
   "metadata": {},
   "source": [
    "\n"
   ]
  },
  {
   "cell_type": "code",
   "execution_count": 3,
   "metadata": {},
   "outputs": [
    {
     "name": "stderr",
     "output_type": "stream",
     "text": [
      "C:\\Users\\nacho\\AppData\\Local\\Programs\\Python\\Python37\\lib\\site-packages\\IPython\\core\\interactiveshell.py:2705: DtypeWarning: Columns (4) have mixed types. Specify dtype option on import or set low_memory=False.\n",
      "  interactivity=interactivity, compiler=compiler, result=result)\n"
     ]
    }
   ],
   "source": [
    "import pandas as pd\n",
    "import numpy as np\n",
    "import matplotlib.pyplot as plt\n",
    "import seaborn as sns\n",
    "import inline as inline\n",
    "\n",
    "%matplotlib inline\n",
    "\n",
    "pd.set_option('display.width', 400)\n",
    "pd.set_option('display.max_columns', 23)\n",
    "pd.set_option('display.max_rows', 100)\n",
    "\n",
    "plt.style.use('default') # haciendo los graficos un poco mas bonitos en matplotlib\n",
    "#plt.rcParams['figure.figsize'] = (20, 10)\n",
    "\n",
    "sns.set(style=\"whitegrid\") # seteando tipo de grid en seaborn\n",
    "\n",
    "df = pd.read_csv('events.csv')\n"
   ]
  },
  {
   "cell_type": "code",
   "execution_count": 4,
   "metadata": {},
   "outputs": [
    {
     "data": {
      "text/html": [
       "<div>\n",
       "<style scoped>\n",
       "    .dataframe tbody tr th:only-of-type {\n",
       "        vertical-align: middle;\n",
       "    }\n",
       "\n",
       "    .dataframe tbody tr th {\n",
       "        vertical-align: top;\n",
       "    }\n",
       "\n",
       "    .dataframe thead th {\n",
       "        text-align: right;\n",
       "    }\n",
       "</style>\n",
       "<table border=\"1\" class=\"dataframe\">\n",
       "  <thead>\n",
       "    <tr style=\"text-align: right;\">\n",
       "      <th></th>\n",
       "      <th>timestamp</th>\n",
       "      <th>event</th>\n",
       "      <th>person</th>\n",
       "      <th>url</th>\n",
       "      <th>sku</th>\n",
       "      <th>model</th>\n",
       "      <th>condition</th>\n",
       "      <th>storage</th>\n",
       "      <th>color</th>\n",
       "      <th>skus</th>\n",
       "      <th>search_term</th>\n",
       "      <th>staticpage</th>\n",
       "      <th>campaign_source</th>\n",
       "      <th>search_engine</th>\n",
       "      <th>channel</th>\n",
       "      <th>new_vs_returning</th>\n",
       "      <th>city</th>\n",
       "      <th>region</th>\n",
       "      <th>country</th>\n",
       "      <th>device_type</th>\n",
       "      <th>screen_resolution</th>\n",
       "      <th>operating_system_version</th>\n",
       "      <th>browser_version</th>\n",
       "    </tr>\n",
       "  </thead>\n",
       "  <tbody>\n",
       "    <tr>\n",
       "      <th>count</th>\n",
       "      <td>1011288</td>\n",
       "      <td>1011288</td>\n",
       "      <td>1011288</td>\n",
       "      <td>82756</td>\n",
       "      <td>563838.0</td>\n",
       "      <td>564284</td>\n",
       "      <td>563836</td>\n",
       "      <td>563836</td>\n",
       "      <td>563836</td>\n",
       "      <td>221699</td>\n",
       "      <td>48967</td>\n",
       "      <td>3598</td>\n",
       "      <td>82796</td>\n",
       "      <td>50957</td>\n",
       "      <td>87378</td>\n",
       "      <td>87378</td>\n",
       "      <td>87378</td>\n",
       "      <td>87378</td>\n",
       "      <td>87378</td>\n",
       "      <td>87378</td>\n",
       "      <td>87378</td>\n",
       "      <td>87378</td>\n",
       "      <td>87378</td>\n",
       "    </tr>\n",
       "    <tr>\n",
       "      <th>unique</th>\n",
       "      <td>793805</td>\n",
       "      <td>11</td>\n",
       "      <td>27624</td>\n",
       "      <td>227</td>\n",
       "      <td>3885.0</td>\n",
       "      <td>202</td>\n",
       "      <td>5</td>\n",
       "      <td>8</td>\n",
       "      <td>63</td>\n",
       "      <td>35310</td>\n",
       "      <td>5851</td>\n",
       "      <td>14</td>\n",
       "      <td>24</td>\n",
       "      <td>4</td>\n",
       "      <td>7</td>\n",
       "      <td>2</td>\n",
       "      <td>1939</td>\n",
       "      <td>93</td>\n",
       "      <td>46</td>\n",
       "      <td>4</td>\n",
       "      <td>282</td>\n",
       "      <td>121</td>\n",
       "      <td>343</td>\n",
       "    </tr>\n",
       "    <tr>\n",
       "      <th>top</th>\n",
       "      <td>2018-05-15 15:56:06</td>\n",
       "      <td>viewed product</td>\n",
       "      <td>71492f2b</td>\n",
       "      <td>/</td>\n",
       "      <td>2830.0</td>\n",
       "      <td>iPhone 6</td>\n",
       "      <td>Bom</td>\n",
       "      <td>16GB</td>\n",
       "      <td>Preto</td>\n",
       "      <td>2820,6706,6720,2750,6649,7251,6663,12604,7224,...</td>\n",
       "      <td>Iphone</td>\n",
       "      <td>CustomerService</td>\n",
       "      <td>google</td>\n",
       "      <td>Google</td>\n",
       "      <td>Paid</td>\n",
       "      <td>Returning</td>\n",
       "      <td>Unknown</td>\n",
       "      <td>Sao Paulo</td>\n",
       "      <td>Brazil</td>\n",
       "      <td>Smartphone</td>\n",
       "      <td>360x640</td>\n",
       "      <td>Windows 7</td>\n",
       "      <td>Chrome 66.0</td>\n",
       "    </tr>\n",
       "    <tr>\n",
       "      <th>freq</th>\n",
       "      <td>11</td>\n",
       "      <td>528931</td>\n",
       "      <td>2771</td>\n",
       "      <td>28323</td>\n",
       "      <td>4311.0</td>\n",
       "      <td>50916</td>\n",
       "      <td>243014</td>\n",
       "      <td>190833</td>\n",
       "      <td>132960</td>\n",
       "      <td>594</td>\n",
       "      <td>1207</td>\n",
       "      <td>1528</td>\n",
       "      <td>58153</td>\n",
       "      <td>50240</td>\n",
       "      <td>44193</td>\n",
       "      <td>60480</td>\n",
       "      <td>15819</td>\n",
       "      <td>24996</td>\n",
       "      <td>84308</td>\n",
       "      <td>44239</td>\n",
       "      <td>30009</td>\n",
       "      <td>19675</td>\n",
       "      <td>22611</td>\n",
       "    </tr>\n",
       "  </tbody>\n",
       "</table>\n",
       "</div>"
      ],
      "text/plain": [
       "                  timestamp           event    person    url       sku     model condition storage   color                                               skus search_term       staticpage campaign_source search_engine channel new_vs_returning     city     region country device_type screen_resolution operating_system_version browser_version\n",
       "count               1011288         1011288   1011288  82756  563838.0    564284    563836  563836  563836                                             221699       48967             3598           82796         50957   87378            87378    87378      87378   87378       87378             87378                    87378           87378\n",
       "unique               793805              11     27624    227    3885.0       202         5       8      63                                              35310        5851               14              24             4       7                2     1939         93      46           4               282                      121             343\n",
       "top     2018-05-15 15:56:06  viewed product  71492f2b      /    2830.0  iPhone 6       Bom    16GB   Preto  2820,6706,6720,2750,6649,7251,6663,12604,7224,...      Iphone  CustomerService          google        Google    Paid        Returning  Unknown  Sao Paulo  Brazil  Smartphone           360x640               Windows 7      Chrome 66.0\n",
       "freq                     11          528931      2771  28323    4311.0     50916    243014  190833  132960                                                594        1207             1528           58153         50240   44193            60480    15819      24996   84308       44239             30009                    19675           22611"
      ]
     },
     "execution_count": 4,
     "metadata": {},
     "output_type": "execute_result"
    }
   ],
   "source": [
    "df.describe()        "
   ]
  },
  {
   "cell_type": "code",
   "execution_count": 5,
   "metadata": {},
   "outputs": [],
   "source": [
    "df_campaign = df[df.campaign_source.notnull()][['person', 'campaign_source']]\n",
    "campaign_persons = df_campaign['person']                #  SERIE CON PERSONAS QEUE ESTA\n",
    "df_campaign_users = df.loc[df['person'].isin(campaign_persons), :]\n",
    "df_campaign_users_buys = df_campaign_users.loc[df['event'] == 'conversion']"
   ]
  },
  {
   "cell_type": "markdown",
   "metadata": {},
   "source": [
    "Top Campañas"
   ]
  },
  {
   "cell_type": "code",
   "execution_count": 6,
   "metadata": {},
   "outputs": [
    {
     "data": {
      "text/plain": [
       "google              58153\n",
       "criteo               9694\n",
       "rtbhouse             8550\n",
       "zanox                1673\n",
       "emblue               1352\n",
       "FacebookAds           764\n",
       "afilio                692\n",
       "bing                  484\n",
       "voxus                 432\n",
       "rakuten               310\n",
       "indexa                154\n",
       "buscape               141\n",
       "manifest              126\n",
       "Facebook               77\n",
       "datacrush              60\n",
       "blog                   37\n",
       "afiliado               34\n",
       "yotpo                  25\n",
       "mercadopago            18\n",
       "FacebookSocial          8\n",
       "MARKETING SOCIAL        7\n",
       "onsite                  3\n",
       "Google Social           1\n",
       "socialmedia             1\n",
       "Name: campaign_source, dtype: int64"
      ]
     },
     "execution_count": 6,
     "metadata": {},
     "output_type": "execute_result"
    }
   ],
   "source": [
    "df_campaign['campaign_source'].value_counts()"
   ]
  },
  {
   "cell_type": "markdown",
   "metadata": {},
   "source": [
    "##                     Google"
   ]
  },
  {
   "cell_type": "code",
   "execution_count": 7,
   "metadata": {},
   "outputs": [],
   "source": [
    "df_google_persons = df_campaign.loc[df_campaign['campaign_source'] == 'google']\n",
    "person_google = df_google_persons['person']\n",
    "df_google = df.loc[df['person'].isin(person_google), :]\n",
    "df_google = df.loc[df['event'] != 'ad campaign hit', :]\n"
   ]
  },
  {
   "cell_type": "code",
   "execution_count": 8,
   "metadata": {},
   "outputs": [
    {
     "data": {
      "text/html": [
       "<div>\n",
       "<style scoped>\n",
       "    .dataframe tbody tr th:only-of-type {\n",
       "        vertical-align: middle;\n",
       "    }\n",
       "\n",
       "    .dataframe tbody tr th {\n",
       "        vertical-align: top;\n",
       "    }\n",
       "\n",
       "    .dataframe thead th {\n",
       "        text-align: right;\n",
       "    }\n",
       "</style>\n",
       "<table border=\"1\" class=\"dataframe\">\n",
       "  <thead>\n",
       "    <tr style=\"text-align: right;\">\n",
       "      <th></th>\n",
       "      <th>timestamp</th>\n",
       "      <th>event</th>\n",
       "      <th>person</th>\n",
       "      <th>url</th>\n",
       "      <th>sku</th>\n",
       "      <th>model</th>\n",
       "      <th>condition</th>\n",
       "      <th>storage</th>\n",
       "      <th>color</th>\n",
       "      <th>skus</th>\n",
       "      <th>search_term</th>\n",
       "      <th>staticpage</th>\n",
       "      <th>campaign_source</th>\n",
       "      <th>search_engine</th>\n",
       "      <th>channel</th>\n",
       "      <th>new_vs_returning</th>\n",
       "      <th>city</th>\n",
       "      <th>region</th>\n",
       "      <th>country</th>\n",
       "      <th>device_type</th>\n",
       "      <th>screen_resolution</th>\n",
       "      <th>operating_system_version</th>\n",
       "      <th>browser_version</th>\n",
       "    </tr>\n",
       "  </thead>\n",
       "  <tbody>\n",
       "    <tr>\n",
       "      <th>count</th>\n",
       "      <td>928461</td>\n",
       "      <td>928461</td>\n",
       "      <td>928461</td>\n",
       "      <td>0.0</td>\n",
       "      <td>563838.0</td>\n",
       "      <td>564284</td>\n",
       "      <td>563836</td>\n",
       "      <td>563836</td>\n",
       "      <td>563836</td>\n",
       "      <td>221699</td>\n",
       "      <td>48967</td>\n",
       "      <td>3598</td>\n",
       "      <td>0.0</td>\n",
       "      <td>50957</td>\n",
       "      <td>87378</td>\n",
       "      <td>87378</td>\n",
       "      <td>87378</td>\n",
       "      <td>87378</td>\n",
       "      <td>87378</td>\n",
       "      <td>87378</td>\n",
       "      <td>87378</td>\n",
       "      <td>87378</td>\n",
       "      <td>87378</td>\n",
       "    </tr>\n",
       "    <tr>\n",
       "      <th>unique</th>\n",
       "      <td>778132</td>\n",
       "      <td>10</td>\n",
       "      <td>27624</td>\n",
       "      <td>0.0</td>\n",
       "      <td>3885.0</td>\n",
       "      <td>202</td>\n",
       "      <td>5</td>\n",
       "      <td>8</td>\n",
       "      <td>63</td>\n",
       "      <td>35310</td>\n",
       "      <td>5851</td>\n",
       "      <td>14</td>\n",
       "      <td>0.0</td>\n",
       "      <td>4</td>\n",
       "      <td>7</td>\n",
       "      <td>2</td>\n",
       "      <td>1939</td>\n",
       "      <td>93</td>\n",
       "      <td>46</td>\n",
       "      <td>4</td>\n",
       "      <td>282</td>\n",
       "      <td>121</td>\n",
       "      <td>343</td>\n",
       "    </tr>\n",
       "    <tr>\n",
       "      <th>top</th>\n",
       "      <td>2018-06-11 17:09:47</td>\n",
       "      <td>viewed product</td>\n",
       "      <td>6b07be7b</td>\n",
       "      <td>NaN</td>\n",
       "      <td>2830.0</td>\n",
       "      <td>iPhone 6</td>\n",
       "      <td>Bom</td>\n",
       "      <td>16GB</td>\n",
       "      <td>Preto</td>\n",
       "      <td>2820,6706,6720,2750,6649,7251,6663,12604,7224,...</td>\n",
       "      <td>Iphone</td>\n",
       "      <td>CustomerService</td>\n",
       "      <td>NaN</td>\n",
       "      <td>Google</td>\n",
       "      <td>Paid</td>\n",
       "      <td>Returning</td>\n",
       "      <td>Unknown</td>\n",
       "      <td>Sao Paulo</td>\n",
       "      <td>Brazil</td>\n",
       "      <td>Smartphone</td>\n",
       "      <td>360x640</td>\n",
       "      <td>Windows 7</td>\n",
       "      <td>Chrome 66.0</td>\n",
       "    </tr>\n",
       "    <tr>\n",
       "      <th>freq</th>\n",
       "      <td>9</td>\n",
       "      <td>528931</td>\n",
       "      <td>2711</td>\n",
       "      <td>NaN</td>\n",
       "      <td>4311.0</td>\n",
       "      <td>50916</td>\n",
       "      <td>243014</td>\n",
       "      <td>190833</td>\n",
       "      <td>132960</td>\n",
       "      <td>594</td>\n",
       "      <td>1207</td>\n",
       "      <td>1528</td>\n",
       "      <td>NaN</td>\n",
       "      <td>50240</td>\n",
       "      <td>44193</td>\n",
       "      <td>60480</td>\n",
       "      <td>15819</td>\n",
       "      <td>24996</td>\n",
       "      <td>84308</td>\n",
       "      <td>44239</td>\n",
       "      <td>30009</td>\n",
       "      <td>19675</td>\n",
       "      <td>22611</td>\n",
       "    </tr>\n",
       "  </tbody>\n",
       "</table>\n",
       "</div>"
      ],
      "text/plain": [
       "                  timestamp           event    person  url       sku     model condition storage   color                                               skus search_term       staticpage  campaign_source search_engine channel new_vs_returning     city     region country device_type screen_resolution operating_system_version browser_version\n",
       "count                928461          928461    928461  0.0  563838.0    564284    563836  563836  563836                                             221699       48967             3598              0.0         50957   87378            87378    87378      87378   87378       87378             87378                    87378           87378\n",
       "unique               778132              10     27624  0.0    3885.0       202         5       8      63                                              35310        5851               14              0.0             4       7                2     1939         93      46           4               282                      121             343\n",
       "top     2018-06-11 17:09:47  viewed product  6b07be7b  NaN    2830.0  iPhone 6       Bom    16GB   Preto  2820,6706,6720,2750,6649,7251,6663,12604,7224,...      Iphone  CustomerService              NaN        Google    Paid        Returning  Unknown  Sao Paulo  Brazil  Smartphone           360x640               Windows 7      Chrome 66.0\n",
       "freq                      9          528931      2711  NaN    4311.0     50916    243014  190833  132960                                                594        1207             1528              NaN         50240   44193            60480    15819      24996   84308       44239             30009                    19675           22611"
      ]
     },
     "execution_count": 8,
     "metadata": {},
     "output_type": "execute_result"
    }
   ],
   "source": [
    "\n",
    "df_google.describe()"
   ]
  },
  {
   "cell_type": "code",
   "execution_count": 9,
   "metadata": {},
   "outputs": [
    {
     "data": {
      "text/plain": [
       "viewed product       528931\n",
       "brand listing         98635\n",
       "visited site          87378\n",
       "generic listing       67534\n",
       "searched products     56073\n",
       "search engine hit     50957\n",
       "checkout              33735\n",
       "staticpage             3598\n",
       "conversion             1172\n",
       "lead                    448\n",
       "Name: event, dtype: int64"
      ]
     },
     "execution_count": 9,
     "metadata": {},
     "output_type": "execute_result"
    }
   ],
   "source": [
    "event_counts = df_google['event'].value_counts()\n",
    "event_counts"
   ]
  },
  {
   "cell_type": "code",
   "execution_count": null,
   "metadata": {},
   "outputs": [],
   "source": []
  },
  {
   "cell_type": "code",
   "execution_count": 10,
   "metadata": {},
   "outputs": [
    {
     "data": {
      "text/plain": [
       "Text(0,0.5,'Event Name')"
      ]
     },
     "execution_count": 10,
     "metadata": {},
     "output_type": "execute_result"
    },
    {
     "data": {
      "image/png": "[encoded data removed]",
      "text/plain": [
       "<Figure size 640x480 with 1 Axes>"
      ]
     },
     "metadata": {},
     "output_type": "display_data"
    }
   ],
   "source": [
    "g = sns.barplot(x=event_counts.values, y=event_counts.index, orient='h')\n",
    "g.set_title(\"Page Events on Google Campaign\", fontsize=15)\n",
    "g.set_xlabel(\"Quantity Of Events\", fontsize=12)\n",
    "g.set_ylabel(\"Event Name\", fontsize=12)\n"
   ]
  },
  {
   "cell_type": "code",
   "execution_count": 11,
   "metadata": {},
   "outputs": [],
   "source": [
    "checkout_vs_conversion = event_counts.drop(labels=['viewed product','staticpage','lead', 'brand listing', 'visited site','generic listing','searched products', 'search engine hit'])"
   ]
  },
  {
   "cell_type": "code",
   "execution_count": 12,
   "metadata": {
    "scrolled": false
   },
   "outputs": [
    {
     "data": {
      "text/plain": [
       "Text(0,0.5,'Event Name')"
      ]
     },
     "execution_count": 12,
     "metadata": {},
     "output_type": "execute_result"
    },
    {
     "data": {
      "image/png": "[encoded data removed]",
      "text/plain": [
       "<Figure size 640x480 with 1 Axes>"
      ]
     },
     "metadata": {},
     "output_type": "display_data"
    }
   ],
   "source": [
    "g = sns.barplot(x=checkout_vs_conversion.index, y=checkout_vs_conversion.values, orient='v')\n",
    "g.set_title(\"Page Events on Google Campaign\", fontsize=15)\n",
    "g.set_xlabel(\"Quantity Of Events\", fontsize=12)\n",
    "g.set_ylabel(\"Event Name\", fontsize=12)"
   ]
  },
  {
   "cell_type": "markdown",
   "metadata": {},
   "source": [
    "-Personas que compraron"
   ]
  },
  {
   "cell_type": "code",
   "execution_count": 13,
   "metadata": {},
   "outputs": [
    {
     "data": {
      "text/html": [
       "<div>\n",
       "<style scoped>\n",
       "    .dataframe tbody tr th:only-of-type {\n",
       "        vertical-align: middle;\n",
       "    }\n",
       "\n",
       "    .dataframe tbody tr th {\n",
       "        vertical-align: top;\n",
       "    }\n",
       "\n",
       "    .dataframe thead th {\n",
       "        text-align: right;\n",
       "    }\n",
       "</style>\n",
       "<table border=\"1\" class=\"dataframe\">\n",
       "  <thead>\n",
       "    <tr style=\"text-align: right;\">\n",
       "      <th></th>\n",
       "      <th>timestamp</th>\n",
       "      <th>event</th>\n",
       "      <th>person</th>\n",
       "      <th>url</th>\n",
       "      <th>sku</th>\n",
       "      <th>model</th>\n",
       "      <th>condition</th>\n",
       "      <th>storage</th>\n",
       "      <th>color</th>\n",
       "      <th>skus</th>\n",
       "      <th>search_term</th>\n",
       "      <th>staticpage</th>\n",
       "      <th>campaign_source</th>\n",
       "      <th>search_engine</th>\n",
       "      <th>channel</th>\n",
       "      <th>new_vs_returning</th>\n",
       "      <th>city</th>\n",
       "      <th>region</th>\n",
       "      <th>country</th>\n",
       "      <th>device_type</th>\n",
       "      <th>screen_resolution</th>\n",
       "      <th>operating_system_version</th>\n",
       "      <th>browser_version</th>\n",
       "    </tr>\n",
       "  </thead>\n",
       "  <tbody>\n",
       "    <tr>\n",
       "      <th>115</th>\n",
       "      <td>2018-01-18 00:19:28</td>\n",
       "      <td>generic listing</td>\n",
       "      <td>00204059</td>\n",
       "      <td>NaN</td>\n",
       "      <td>NaN</td>\n",
       "      <td>NaN</td>\n",
       "      <td>NaN</td>\n",
       "      <td>NaN</td>\n",
       "      <td>NaN</td>\n",
       "      <td>3889,3853,3961,7071,7083,7028,1429,4033,12674,...</td>\n",
       "      <td>NaN</td>\n",
       "      <td>NaN</td>\n",
       "      <td>NaN</td>\n",
       "      <td>NaN</td>\n",
       "      <td>NaN</td>\n",
       "      <td>NaN</td>\n",
       "      <td>NaN</td>\n",
       "      <td>NaN</td>\n",
       "      <td>NaN</td>\n",
       "      <td>NaN</td>\n",
       "      <td>NaN</td>\n",
       "      <td>NaN</td>\n",
       "      <td>NaN</td>\n",
       "    </tr>\n",
       "    <tr>\n",
       "      <th>116</th>\n",
       "      <td>2018-01-18 00:19:39</td>\n",
       "      <td>visited site</td>\n",
       "      <td>00204059</td>\n",
       "      <td>NaN</td>\n",
       "      <td>NaN</td>\n",
       "      <td>NaN</td>\n",
       "      <td>NaN</td>\n",
       "      <td>NaN</td>\n",
       "      <td>NaN</td>\n",
       "      <td>NaN</td>\n",
       "      <td>NaN</td>\n",
       "      <td>NaN</td>\n",
       "      <td>NaN</td>\n",
       "      <td>NaN</td>\n",
       "      <td>Direct</td>\n",
       "      <td>New</td>\n",
       "      <td>Unknown</td>\n",
       "      <td>Unknown</td>\n",
       "      <td>Unknown</td>\n",
       "      <td>Computer</td>\n",
       "      <td>1024x600</td>\n",
       "      <td>Windows 7</td>\n",
       "      <td>Chrome 63.0</td>\n",
       "    </tr>\n",
       "    <tr>\n",
       "      <th>117</th>\n",
       "      <td>2018-01-31 16:54:28</td>\n",
       "      <td>generic listing</td>\n",
       "      <td>00204059</td>\n",
       "      <td>NaN</td>\n",
       "      <td>NaN</td>\n",
       "      <td>NaN</td>\n",
       "      <td>NaN</td>\n",
       "      <td>NaN</td>\n",
       "      <td>NaN</td>\n",
       "      <td>3853,12730,4033,12674,6959,4056,11022,13670,33...</td>\n",
       "      <td>NaN</td>\n",
       "      <td>NaN</td>\n",
       "      <td>NaN</td>\n",
       "      <td>NaN</td>\n",
       "      <td>NaN</td>\n",
       "      <td>NaN</td>\n",
       "      <td>NaN</td>\n",
       "      <td>NaN</td>\n",
       "      <td>NaN</td>\n",
       "      <td>NaN</td>\n",
       "      <td>NaN</td>\n",
       "      <td>NaN</td>\n",
       "      <td>NaN</td>\n",
       "    </tr>\n",
       "    <tr>\n",
       "      <th>118</th>\n",
       "      <td>2018-01-31 16:54:29</td>\n",
       "      <td>visited site</td>\n",
       "      <td>00204059</td>\n",
       "      <td>NaN</td>\n",
       "      <td>NaN</td>\n",
       "      <td>NaN</td>\n",
       "      <td>NaN</td>\n",
       "      <td>NaN</td>\n",
       "      <td>NaN</td>\n",
       "      <td>NaN</td>\n",
       "      <td>NaN</td>\n",
       "      <td>NaN</td>\n",
       "      <td>NaN</td>\n",
       "      <td>NaN</td>\n",
       "      <td>Social</td>\n",
       "      <td>Returning</td>\n",
       "      <td>Unknown</td>\n",
       "      <td>Unknown</td>\n",
       "      <td>Unknown</td>\n",
       "      <td>Computer</td>\n",
       "      <td>1024x600</td>\n",
       "      <td>Windows 7</td>\n",
       "      <td>Chrome 63.0</td>\n",
       "    </tr>\n",
       "    <tr>\n",
       "      <th>120</th>\n",
       "      <td>2018-01-31 16:54:39</td>\n",
       "      <td>brand listing</td>\n",
       "      <td>00204059</td>\n",
       "      <td>NaN</td>\n",
       "      <td>NaN</td>\n",
       "      <td>NaN</td>\n",
       "      <td>NaN</td>\n",
       "      <td>NaN</td>\n",
       "      <td>NaN</td>\n",
       "      <td>2691,2692,2694,2830,2693,2699,178,171,1302,283...</td>\n",
       "      <td>NaN</td>\n",
       "      <td>NaN</td>\n",
       "      <td>NaN</td>\n",
       "      <td>NaN</td>\n",
       "      <td>NaN</td>\n",
       "      <td>NaN</td>\n",
       "      <td>NaN</td>\n",
       "      <td>NaN</td>\n",
       "      <td>NaN</td>\n",
       "      <td>NaN</td>\n",
       "      <td>NaN</td>\n",
       "      <td>NaN</td>\n",
       "      <td>NaN</td>\n",
       "    </tr>\n",
       "  </tbody>\n",
       "</table>\n",
       "</div>"
      ],
      "text/plain": [
       "               timestamp            event    person  url  sku model condition storage color                                               skus search_term staticpage campaign_source search_engine channel new_vs_returning     city   region  country device_type screen_resolution operating_system_version browser_version\n",
       "115  2018-01-18 00:19:28  generic listing  00204059  NaN  NaN   NaN       NaN     NaN   NaN  3889,3853,3961,7071,7083,7028,1429,4033,12674,...         NaN        NaN             NaN           NaN     NaN              NaN      NaN      NaN      NaN         NaN               NaN                      NaN             NaN\n",
       "116  2018-01-18 00:19:39     visited site  00204059  NaN  NaN   NaN       NaN     NaN   NaN                                                NaN         NaN        NaN             NaN           NaN  Direct              New  Unknown  Unknown  Unknown    Computer          1024x600               Windows 7      Chrome 63.0\n",
       "117  2018-01-31 16:54:28  generic listing  00204059  NaN  NaN   NaN       NaN     NaN   NaN  3853,12730,4033,12674,6959,4056,11022,13670,33...         NaN        NaN             NaN           NaN     NaN              NaN      NaN      NaN      NaN         NaN               NaN                      NaN             NaN\n",
       "118  2018-01-31 16:54:29     visited site  00204059  NaN  NaN   NaN       NaN     NaN   NaN                                                NaN         NaN        NaN             NaN           NaN  Social        Returning  Unknown  Unknown  Unknown    Computer          1024x600               Windows 7      Chrome 63.0\n",
       "120  2018-01-31 16:54:39    brand listing  00204059  NaN  NaN   NaN       NaN     NaN   NaN  2691,2692,2694,2830,2693,2699,178,171,1302,283...         NaN        NaN             NaN           NaN     NaN              NaN      NaN      NaN      NaN         NaN               NaN                      NaN             NaN"
      ]
     },
     "execution_count": 13,
     "metadata": {},
     "output_type": "execute_result"
    }
   ],
   "source": [
    "persons_google_conversion = (df_google.loc[df['event'] == 'conversion'])['person']\n",
    "df_google_conversion = df.loc[df['person'].isin(persons_google_conversion)]\n",
    "df_google_conversion = df_google_conversion.loc[df_google_conversion['event'] != 'ad campaign hit', :]\n",
    "df_google_conversion.head(5)"
   ]
  },
  {
   "cell_type": "code",
   "execution_count": 14,
   "metadata": {},
   "outputs": [],
   "source": [
    "event_counts_google = df_google_conversion['event'].value_counts()"
   ]
  },
  {
   "cell_type": "code",
   "execution_count": 15,
   "metadata": {},
   "outputs": [
    {
     "data": {
      "text/html": [
       "<div>\n",
       "<style scoped>\n",
       "    .dataframe tbody tr th:only-of-type {\n",
       "        vertical-align: middle;\n",
       "    }\n",
       "\n",
       "    .dataframe tbody tr th {\n",
       "        vertical-align: top;\n",
       "    }\n",
       "\n",
       "    .dataframe thead th {\n",
       "        text-align: right;\n",
       "    }\n",
       "</style>\n",
       "<table border=\"1\" class=\"dataframe\">\n",
       "  <thead>\n",
       "    <tr style=\"text-align: right;\">\n",
       "      <th></th>\n",
       "      <th>timestamp</th>\n",
       "      <th>event</th>\n",
       "      <th>person</th>\n",
       "      <th>url</th>\n",
       "      <th>sku</th>\n",
       "      <th>model</th>\n",
       "      <th>condition</th>\n",
       "      <th>storage</th>\n",
       "      <th>color</th>\n",
       "      <th>skus</th>\n",
       "      <th>search_term</th>\n",
       "      <th>staticpage</th>\n",
       "      <th>campaign_source</th>\n",
       "      <th>search_engine</th>\n",
       "      <th>channel</th>\n",
       "      <th>new_vs_returning</th>\n",
       "      <th>city</th>\n",
       "      <th>region</th>\n",
       "      <th>country</th>\n",
       "      <th>device_type</th>\n",
       "      <th>screen_resolution</th>\n",
       "      <th>operating_system_version</th>\n",
       "      <th>browser_version</th>\n",
       "    </tr>\n",
       "  </thead>\n",
       "  <tbody>\n",
       "    <tr>\n",
       "      <th>count</th>\n",
       "      <td>118903</td>\n",
       "      <td>118903</td>\n",
       "      <td>118903</td>\n",
       "      <td>0.0</td>\n",
       "      <td>65246.0</td>\n",
       "      <td>65365</td>\n",
       "      <td>65246</td>\n",
       "      <td>65246</td>\n",
       "      <td>65246</td>\n",
       "      <td>34332</td>\n",
       "      <td>6796</td>\n",
       "      <td>1353</td>\n",
       "      <td>0.0</td>\n",
       "      <td>5080</td>\n",
       "      <td>12654</td>\n",
       "      <td>12654</td>\n",
       "      <td>12654</td>\n",
       "      <td>12654</td>\n",
       "      <td>12654</td>\n",
       "      <td>12654</td>\n",
       "      <td>12654</td>\n",
       "      <td>12654</td>\n",
       "      <td>12654</td>\n",
       "    </tr>\n",
       "    <tr>\n",
       "      <th>unique</th>\n",
       "      <td>109066</td>\n",
       "      <td>10</td>\n",
       "      <td>716</td>\n",
       "      <td>0.0</td>\n",
       "      <td>2470.0</td>\n",
       "      <td>187</td>\n",
       "      <td>5</td>\n",
       "      <td>8</td>\n",
       "      <td>61</td>\n",
       "      <td>10718</td>\n",
       "      <td>1426</td>\n",
       "      <td>12</td>\n",
       "      <td>0.0</td>\n",
       "      <td>3</td>\n",
       "      <td>7</td>\n",
       "      <td>2</td>\n",
       "      <td>491</td>\n",
       "      <td>40</td>\n",
       "      <td>8</td>\n",
       "      <td>4</td>\n",
       "      <td>55</td>\n",
       "      <td>44</td>\n",
       "      <td>115</td>\n",
       "    </tr>\n",
       "    <tr>\n",
       "      <th>top</th>\n",
       "      <td>2018-05-08 12:33:30</td>\n",
       "      <td>viewed product</td>\n",
       "      <td>6b07be7b</td>\n",
       "      <td>NaN</td>\n",
       "      <td>2830.0</td>\n",
       "      <td>iPhone 5s</td>\n",
       "      <td>Bom</td>\n",
       "      <td>16GB</td>\n",
       "      <td>Preto</td>\n",
       "      <td>3371,6357,6371,2777,3191,6791,2718,2725,6399,3...</td>\n",
       "      <td>32gb</td>\n",
       "      <td>CustomerService</td>\n",
       "      <td>NaN</td>\n",
       "      <td>Google</td>\n",
       "      <td>Direct</td>\n",
       "      <td>Returning</td>\n",
       "      <td>Unknown</td>\n",
       "      <td>Sao Paulo</td>\n",
       "      <td>Brazil</td>\n",
       "      <td>Computer</td>\n",
       "      <td>360x640</td>\n",
       "      <td>Windows 7</td>\n",
       "      <td>Chrome 66.0</td>\n",
       "    </tr>\n",
       "    <tr>\n",
       "      <th>freq</th>\n",
       "      <td>8</td>\n",
       "      <td>60919</td>\n",
       "      <td>2711</td>\n",
       "      <td>NaN</td>\n",
       "      <td>397.0</td>\n",
       "      <td>4810</td>\n",
       "      <td>27493</td>\n",
       "      <td>25616</td>\n",
       "      <td>17982</td>\n",
       "      <td>77</td>\n",
       "      <td>162</td>\n",
       "      <td>901</td>\n",
       "      <td>NaN</td>\n",
       "      <td>4974</td>\n",
       "      <td>4583</td>\n",
       "      <td>12023</td>\n",
       "      <td>2423</td>\n",
       "      <td>3734</td>\n",
       "      <td>12208</td>\n",
       "      <td>7161</td>\n",
       "      <td>4107</td>\n",
       "      <td>3486</td>\n",
       "      <td>2383</td>\n",
       "    </tr>\n",
       "  </tbody>\n",
       "</table>\n",
       "</div>"
      ],
      "text/plain": [
       "                  timestamp           event    person  url      sku      model condition storage  color                                               skus search_term       staticpage  campaign_source search_engine channel new_vs_returning     city     region country device_type screen_resolution operating_system_version browser_version\n",
       "count                118903          118903    118903  0.0  65246.0      65365     65246   65246  65246                                              34332        6796             1353              0.0          5080   12654            12654    12654      12654   12654       12654             12654                    12654           12654\n",
       "unique               109066              10       716  0.0   2470.0        187         5       8     61                                              10718        1426               12              0.0             3       7                2      491         40       8           4                55                       44             115\n",
       "top     2018-05-08 12:33:30  viewed product  6b07be7b  NaN   2830.0  iPhone 5s       Bom    16GB  Preto  3371,6357,6371,2777,3191,6791,2718,2725,6399,3...        32gb  CustomerService              NaN        Google  Direct        Returning  Unknown  Sao Paulo  Brazil    Computer           360x640               Windows 7      Chrome 66.0\n",
       "freq                      8           60919      2711  NaN    397.0       4810     27493   25616  17982                                                 77         162              901              NaN          4974    4583            12023     2423       3734   12208        7161              4107                     3486            2383"
      ]
     },
     "execution_count": 15,
     "metadata": {},
     "output_type": "execute_result"
    }
   ],
   "source": [
    "df_google_conversion.describe()"
   ]
  },
  {
   "cell_type": "code",
   "execution_count": null,
   "metadata": {},
   "outputs": [],
   "source": []
  },
  {
   "cell_type": "code",
   "execution_count": 16,
   "metadata": {},
   "outputs": [
    {
     "data": {
      "text/plain": [
       "Text(0,0.5,'Event Name')"
      ]
     },
     "execution_count": 16,
     "metadata": {},
     "output_type": "execute_result"
    },
    {
     "data": {
      "image/png": "[encoded data removed]",
      "text/plain": [
       "<Figure size 640x480 with 1 Axes>"
      ]
     },
     "metadata": {},
     "output_type": "display_data"
    }
   ],
   "source": [
    "g = sns.barplot(x=event_counts.values, y=event_counts.index, orient='h')\n",
    "g.set_title(\"Page Events on Google Campaign\", fontsize=15)\n",
    "g.set_xlabel(\"Quantity Of Events\", fontsize=12)\n",
    "g.set_ylabel(\"Event Name\", fontsize=12)"
   ]
  },
  {
   "cell_type": "code",
   "execution_count": 17,
   "metadata": {
    "scrolled": true
   },
   "outputs": [],
   "source": [
    "df_google_conversion['sum']=1"
   ]
  },
  {
   "cell_type": "code",
   "execution_count": 18,
   "metadata": {},
   "outputs": [],
   "source": [
    "event_sum = df_google_conversion.groupby('person').agg({'sum':'sum'})"
   ]
  },
  {
   "cell_type": "code",
   "execution_count": 19,
   "metadata": {},
   "outputs": [
    {
     "data": {
      "text/html": [
       "<div>\n",
       "<style scoped>\n",
       "    .dataframe tbody tr th:only-of-type {\n",
       "        vertical-align: middle;\n",
       "    }\n",
       "\n",
       "    .dataframe tbody tr th {\n",
       "        vertical-align: top;\n",
       "    }\n",
       "\n",
       "    .dataframe thead th {\n",
       "        text-align: right;\n",
       "    }\n",
       "</style>\n",
       "<table border=\"1\" class=\"dataframe\">\n",
       "  <thead>\n",
       "    <tr style=\"text-align: right;\">\n",
       "      <th></th>\n",
       "      <th>sum</th>\n",
       "    </tr>\n",
       "  </thead>\n",
       "  <tbody>\n",
       "    <tr>\n",
       "      <th>count</th>\n",
       "      <td>716.000000</td>\n",
       "    </tr>\n",
       "    <tr>\n",
       "      <th>mean</th>\n",
       "      <td>166.065642</td>\n",
       "    </tr>\n",
       "    <tr>\n",
       "      <th>std</th>\n",
       "      <td>228.854459</td>\n",
       "    </tr>\n",
       "    <tr>\n",
       "      <th>min</th>\n",
       "      <td>2.000000</td>\n",
       "    </tr>\n",
       "    <tr>\n",
       "      <th>25%</th>\n",
       "      <td>27.000000</td>\n",
       "    </tr>\n",
       "    <tr>\n",
       "      <th>50%</th>\n",
       "      <td>95.000000</td>\n",
       "    </tr>\n",
       "    <tr>\n",
       "      <th>75%</th>\n",
       "      <td>225.250000</td>\n",
       "    </tr>\n",
       "    <tr>\n",
       "      <th>max</th>\n",
       "      <td>2711.000000</td>\n",
       "    </tr>\n",
       "  </tbody>\n",
       "</table>\n",
       "</div>"
      ],
      "text/plain": [
       "               sum\n",
       "count   716.000000\n",
       "mean    166.065642\n",
       "std     228.854459\n",
       "min       2.000000\n",
       "25%      27.000000\n",
       "50%      95.000000\n",
       "75%     225.250000\n",
       "max    2711.000000"
      ]
     },
     "execution_count": 19,
     "metadata": {},
     "output_type": "execute_result"
    }
   ],
   "source": [
    "event_sum.describe()"
   ]
  },
  {
   "cell_type": "code",
   "execution_count": 20,
   "metadata": {},
   "outputs": [],
   "source": [
    "checkout_vs_conversion = event_counts_google.drop(labels=['viewed product','staticpage','lead', 'brand listing', 'visited site','generic listing','searched products', 'search engine hit'])"
   ]
  },
  {
   "cell_type": "code",
   "execution_count": 21,
   "metadata": {},
   "outputs": [
    {
     "data": {
      "text/plain": [
       "Text(0,0.5,'Event Name')"
      ]
     },
     "execution_count": 21,
     "metadata": {},
     "output_type": "execute_result"
    },
    {
     "data": {
      "image/png": "[encoded data removed]",
      "text/plain": [
       "<Figure size 640x480 with 1 Axes>"
      ]
     },
     "metadata": {},
     "output_type": "display_data"
    }
   ],
   "source": [
    "g = sns.barplot(x=checkout_vs_conversion.index, y=checkout_vs_conversion.values, orient='v')\n",
    "g.set_title(\"Page Events on Google Campaign\", fontsize=15)\n",
    "g.set_xlabel(\"Quantity Of Events\", fontsize=12)\n",
    "g.set_ylabel(\"Event Name\", fontsize=12)"
   ]
  },
  {
   "cell_type": "markdown",
   "metadata": {},
   "source": [
    "## Smartphone"
   ]
  },
  {
   "cell_type": "code",
   "execution_count": 22,
   "metadata": {},
   "outputs": [
    {
     "data": {
      "text/plain": [
       "timestamp                   2018-06-04 19:33:46\n",
       "event                              visited site\n",
       "person                                 5ecf68e8\n",
       "url                                         NaN\n",
       "sku                                         NaN\n",
       "model                                       NaN\n",
       "condition                                   NaN\n",
       "storage                                     NaN\n",
       "color                                       NaN\n",
       "skus                                        NaN\n",
       "search_term                                 NaN\n",
       "staticpage                                  NaN\n",
       "campaign_source                             NaN\n",
       "search_engine                               NaN\n",
       "channel                                    Paid\n",
       "new_vs_returning                            New\n",
       "city                                Sao Goncalo\n",
       "region                           Rio de Janeiro\n",
       "country                                  Brazil\n",
       "device_type                          Smartphone\n",
       "screen_resolution                     1920x1080\n",
       "operating_system_version              Android 5\n",
       "browser_version                Chrome Mobile 39\n",
       "Name: 360715, dtype: object"
      ]
     },
     "execution_count": 22,
     "metadata": {},
     "output_type": "execute_result"
    }
   ],
   "source": [
    "s_smartphone = (df.loc[df['device_type'] == 'Smartphone'])['screen_resolution']\n",
    "df.iloc[360715]"
   ]
  },
  {
   "cell_type": "code",
   "execution_count": null,
   "metadata": {},
   "outputs": [],
   "source": []
  },
  {
   "cell_type": "code",
   "execution_count": null,
   "metadata": {},
   "outputs": [],
   "source": []
  },
  {
   "cell_type": "markdown",
   "metadata": {},
   "source": [
    "## lead"
   ]
  },
  {
   "cell_type": "code",
   "execution_count": 23,
   "metadata": {},
   "outputs": [
    {
     "data": {
      "text/html": [
       "<div>\n",
       "<style scoped>\n",
       "    .dataframe tbody tr th:only-of-type {\n",
       "        vertical-align: middle;\n",
       "    }\n",
       "\n",
       "    .dataframe tbody tr th {\n",
       "        vertical-align: top;\n",
       "    }\n",
       "\n",
       "    .dataframe thead th {\n",
       "        text-align: right;\n",
       "    }\n",
       "</style>\n",
       "<table border=\"1\" class=\"dataframe\">\n",
       "  <thead>\n",
       "    <tr style=\"text-align: right;\">\n",
       "      <th></th>\n",
       "      <th>timestamp</th>\n",
       "      <th>event</th>\n",
       "      <th>person</th>\n",
       "      <th>url</th>\n",
       "      <th>sku</th>\n",
       "      <th>model</th>\n",
       "      <th>condition</th>\n",
       "      <th>storage</th>\n",
       "      <th>color</th>\n",
       "      <th>skus</th>\n",
       "      <th>search_term</th>\n",
       "      <th>staticpage</th>\n",
       "      <th>campaign_source</th>\n",
       "      <th>search_engine</th>\n",
       "      <th>channel</th>\n",
       "      <th>new_vs_returning</th>\n",
       "      <th>city</th>\n",
       "      <th>region</th>\n",
       "      <th>country</th>\n",
       "      <th>device_type</th>\n",
       "      <th>screen_resolution</th>\n",
       "      <th>operating_system_version</th>\n",
       "      <th>browser_version</th>\n",
       "    </tr>\n",
       "  </thead>\n",
       "  <tbody>\n",
       "    <tr>\n",
       "      <th>count</th>\n",
       "      <td>63887</td>\n",
       "      <td>63887</td>\n",
       "      <td>63887</td>\n",
       "      <td>3881</td>\n",
       "      <td>34000.0</td>\n",
       "      <td>34448</td>\n",
       "      <td>34000</td>\n",
       "      <td>34000</td>\n",
       "      <td>34000</td>\n",
       "      <td>17265</td>\n",
       "      <td>3060</td>\n",
       "      <td>410</td>\n",
       "      <td>3882</td>\n",
       "      <td>2283</td>\n",
       "      <td>5529</td>\n",
       "      <td>5529</td>\n",
       "      <td>5529</td>\n",
       "      <td>5529</td>\n",
       "      <td>5529</td>\n",
       "      <td>5529</td>\n",
       "      <td>5529</td>\n",
       "      <td>5529</td>\n",
       "      <td>5529</td>\n",
       "    </tr>\n",
       "    <tr>\n",
       "      <th>unique</th>\n",
       "      <td>56926</td>\n",
       "      <td>11</td>\n",
       "      <td>291</td>\n",
       "      <td>148</td>\n",
       "      <td>2117.0</td>\n",
       "      <td>181</td>\n",
       "      <td>5</td>\n",
       "      <td>8</td>\n",
       "      <td>61</td>\n",
       "      <td>6736</td>\n",
       "      <td>733</td>\n",
       "      <td>12</td>\n",
       "      <td>19</td>\n",
       "      <td>3</td>\n",
       "      <td>6</td>\n",
       "      <td>2</td>\n",
       "      <td>278</td>\n",
       "      <td>27</td>\n",
       "      <td>5</td>\n",
       "      <td>3</td>\n",
       "      <td>47</td>\n",
       "      <td>35</td>\n",
       "      <td>81</td>\n",
       "    </tr>\n",
       "    <tr>\n",
       "      <th>top</th>\n",
       "      <td>2018-03-21 01:11:52</td>\n",
       "      <td>viewed product</td>\n",
       "      <td>71492f2b</td>\n",
       "      <td>/</td>\n",
       "      <td>2830.0</td>\n",
       "      <td>iPhone 6</td>\n",
       "      <td>Bom</td>\n",
       "      <td>16GB</td>\n",
       "      <td>Preto</td>\n",
       "      <td>3371,6357,6371,2777,3191,6791,2718,2725,6399,3...</td>\n",
       "      <td>J7</td>\n",
       "      <td>CustomerService</td>\n",
       "      <td>google</td>\n",
       "      <td>Google</td>\n",
       "      <td>Direct</td>\n",
       "      <td>Returning</td>\n",
       "      <td>Unknown</td>\n",
       "      <td>Sao Paulo</td>\n",
       "      <td>Brazil</td>\n",
       "      <td>Computer</td>\n",
       "      <td>360x640</td>\n",
       "      <td>Windows 7</td>\n",
       "      <td>Chrome 66.0</td>\n",
       "    </tr>\n",
       "    <tr>\n",
       "      <th>freq</th>\n",
       "      <td>6</td>\n",
       "      <td>32907</td>\n",
       "      <td>2771</td>\n",
       "      <td>1362</td>\n",
       "      <td>255.0</td>\n",
       "      <td>2558</td>\n",
       "      <td>14599</td>\n",
       "      <td>12286</td>\n",
       "      <td>8984</td>\n",
       "      <td>62</td>\n",
       "      <td>109</td>\n",
       "      <td>226</td>\n",
       "      <td>2258</td>\n",
       "      <td>2221</td>\n",
       "      <td>1830</td>\n",
       "      <td>5243</td>\n",
       "      <td>1006</td>\n",
       "      <td>1152</td>\n",
       "      <td>5376</td>\n",
       "      <td>2813</td>\n",
       "      <td>1949</td>\n",
       "      <td>1329</td>\n",
       "      <td>1032</td>\n",
       "    </tr>\n",
       "  </tbody>\n",
       "</table>\n",
       "</div>"
      ],
      "text/plain": [
       "                  timestamp           event    person   url      sku     model condition storage  color                                               skus search_term       staticpage campaign_source search_engine channel new_vs_returning     city     region country device_type screen_resolution operating_system_version browser_version\n",
       "count                 63887           63887     63887  3881  34000.0     34448     34000   34000  34000                                              17265        3060              410            3882          2283    5529             5529     5529       5529    5529        5529              5529                     5529            5529\n",
       "unique                56926              11       291   148   2117.0       181         5       8     61                                               6736         733               12              19             3       6                2      278         27       5           3                47                       35              81\n",
       "top     2018-03-21 01:11:52  viewed product  71492f2b     /   2830.0  iPhone 6       Bom    16GB  Preto  3371,6357,6371,2777,3191,6791,2718,2725,6399,3...          J7  CustomerService          google        Google  Direct        Returning  Unknown  Sao Paulo  Brazil    Computer           360x640               Windows 7      Chrome 66.0\n",
       "freq                      6           32907      2771  1362    255.0      2558     14599   12286   8984                                                 62         109              226            2258          2221    1830             5243     1006       1152    5376        2813              1949                     1329            1032"
      ]
     },
     "execution_count": 23,
     "metadata": {},
     "output_type": "execute_result"
    }
   ],
   "source": [
    "lead = (df.loc[df['event'] == 'lead'])['person']\n",
    "df_lead_users = df.loc[df.person.isin(lead)]\n",
    "df_lead_users.describe()"
   ]
  },
  {
   "cell_type": "code",
   "execution_count": 24,
   "metadata": {
    "scrolled": true
   },
   "outputs": [],
   "source": [
    "event_counts = df_lead_users.event.value_counts()\n",
    "checkout_vs_conversion = event_counts.drop(labels=['ad campaign hit', 'viewed product','staticpage','lead', 'brand listing', 'visited site','generic listing','searched products', 'search engine hit'])\n"
   ]
  },
  {
   "cell_type": "code",
   "execution_count": 25,
   "metadata": {},
   "outputs": [
    {
     "data": {
      "text/plain": [
       "Text(0,0.5,'Event Name')"
      ]
     },
     "execution_count": 25,
     "metadata": {},
     "output_type": "execute_result"
    },
    {
     "data": {
      "image/png": "[encoded data removed]",
      "text/plain": [
       "<Figure size 640x480 with 1 Axes>"
      ]
     },
     "metadata": {},
     "output_type": "display_data"
    }
   ],
   "source": [
    "g = sns.barplot(x=checkout_vs_conversion.index, y=checkout_vs_conversion.values, orient='v')\n",
    "g.set_title(\"Page Events on Google Campaign\", fontsize=15)\n",
    "g.set_xlabel(\"Quantity Of Events\", fontsize=12)\n",
    "g.set_ylabel(\"Event Name\", fontsize=12)"
   ]
  },
  {
   "cell_type": "code",
   "execution_count": null,
   "metadata": {},
   "outputs": [],
   "source": []
  },
  {
   "cell_type": "code",
   "execution_count": null,
   "metadata": {},
   "outputs": [],
   "source": []
  },
  {
   "cell_type": "markdown",
   "metadata": {
    "collapsed": true
   },
   "source": [
    "## New Vs Returning"
   ]
  },
  {
   "cell_type": "code",
   "execution_count": 26,
   "metadata": {},
   "outputs": [
    {
     "data": {
      "text/plain": [
       "Returning    60479\n",
       "New          26898\n",
       "Name: new_vs_returning, dtype: int64"
      ]
     },
     "execution_count": 26,
     "metadata": {},
     "output_type": "execute_result"
    }
   ],
   "source": [
    "s_new = (df.loc[df.new_vs_returning == 'New'])['person']\n",
    "df_new_that_returned = df.loc[df.person.isin(s_new)]\n",
    "df_new_that_returned['new_vs_returning'].value_counts()"
   ]
  },
  {
   "cell_type": "markdown",
   "metadata": {},
   "source": [
    "## Search engine hit con conversion"
   ]
  },
  {
   "cell_type": "code",
   "execution_count": 27,
   "metadata": {},
   "outputs": [
    {
     "data": {
      "text/html": [
       "<div>\n",
       "<style scoped>\n",
       "    .dataframe tbody tr th:only-of-type {\n",
       "        vertical-align: middle;\n",
       "    }\n",
       "\n",
       "    .dataframe tbody tr th {\n",
       "        vertical-align: top;\n",
       "    }\n",
       "\n",
       "    .dataframe thead th {\n",
       "        text-align: right;\n",
       "    }\n",
       "</style>\n",
       "<table border=\"1\" class=\"dataframe\">\n",
       "  <thead>\n",
       "    <tr style=\"text-align: right;\">\n",
       "      <th></th>\n",
       "      <th>timestamp</th>\n",
       "      <th>event</th>\n",
       "      <th>person</th>\n",
       "      <th>url</th>\n",
       "      <th>sku</th>\n",
       "      <th>model</th>\n",
       "      <th>condition</th>\n",
       "      <th>storage</th>\n",
       "      <th>color</th>\n",
       "      <th>skus</th>\n",
       "      <th>search_term</th>\n",
       "      <th>staticpage</th>\n",
       "      <th>campaign_source</th>\n",
       "      <th>search_engine</th>\n",
       "      <th>channel</th>\n",
       "      <th>new_vs_returning</th>\n",
       "      <th>city</th>\n",
       "      <th>region</th>\n",
       "      <th>country</th>\n",
       "      <th>device_type</th>\n",
       "      <th>screen_resolution</th>\n",
       "      <th>operating_system_version</th>\n",
       "      <th>browser_version</th>\n",
       "    </tr>\n",
       "  </thead>\n",
       "  <tbody>\n",
       "    <tr>\n",
       "      <th>count</th>\n",
       "      <td>832957</td>\n",
       "      <td>832957</td>\n",
       "      <td>832957</td>\n",
       "      <td>62463</td>\n",
       "      <td>462042.0</td>\n",
       "      <td>462417</td>\n",
       "      <td>462042</td>\n",
       "      <td>462042</td>\n",
       "      <td>462042</td>\n",
       "      <td>185702</td>\n",
       "      <td>41595</td>\n",
       "      <td>3036</td>\n",
       "      <td>62497</td>\n",
       "      <td>50957</td>\n",
       "      <td>67899</td>\n",
       "      <td>67899</td>\n",
       "      <td>67899</td>\n",
       "      <td>67899</td>\n",
       "      <td>67899</td>\n",
       "      <td>67899</td>\n",
       "      <td>67899</td>\n",
       "      <td>67899</td>\n",
       "      <td>67899</td>\n",
       "    </tr>\n",
       "    <tr>\n",
       "      <th>unique</th>\n",
       "      <td>663576</td>\n",
       "      <td>11</td>\n",
       "      <td>17205</td>\n",
       "      <td>219</td>\n",
       "      <td>3745.0</td>\n",
       "      <td>202</td>\n",
       "      <td>5</td>\n",
       "      <td>8</td>\n",
       "      <td>63</td>\n",
       "      <td>31808</td>\n",
       "      <td>5093</td>\n",
       "      <td>14</td>\n",
       "      <td>22</td>\n",
       "      <td>4</td>\n",
       "      <td>7</td>\n",
       "      <td>2</td>\n",
       "      <td>1733</td>\n",
       "      <td>78</td>\n",
       "      <td>38</td>\n",
       "      <td>4</td>\n",
       "      <td>219</td>\n",
       "      <td>110</td>\n",
       "      <td>264</td>\n",
       "    </tr>\n",
       "    <tr>\n",
       "      <th>top</th>\n",
       "      <td>2018-06-14 15:43:38</td>\n",
       "      <td>viewed product</td>\n",
       "      <td>6b07be7b</td>\n",
       "      <td>/</td>\n",
       "      <td>2830.0</td>\n",
       "      <td>iPhone 6</td>\n",
       "      <td>Bom</td>\n",
       "      <td>16GB</td>\n",
       "      <td>Preto</td>\n",
       "      <td>2820,6706,6720,2750,6649,7251,6663,12604,7224,...</td>\n",
       "      <td>Iphone</td>\n",
       "      <td>CustomerService</td>\n",
       "      <td>google</td>\n",
       "      <td>Google</td>\n",
       "      <td>Paid</td>\n",
       "      <td>Returning</td>\n",
       "      <td>Unknown</td>\n",
       "      <td>Sao Paulo</td>\n",
       "      <td>Brazil</td>\n",
       "      <td>Computer</td>\n",
       "      <td>360x640</td>\n",
       "      <td>Windows 7</td>\n",
       "      <td>Chrome 66.0</td>\n",
       "    </tr>\n",
       "    <tr>\n",
       "      <th>freq</th>\n",
       "      <td>9</td>\n",
       "      <td>438604</td>\n",
       "      <td>2770</td>\n",
       "      <td>24545</td>\n",
       "      <td>3518.0</td>\n",
       "      <td>42070</td>\n",
       "      <td>195444</td>\n",
       "      <td>155702</td>\n",
       "      <td>107175</td>\n",
       "      <td>494</td>\n",
       "      <td>1002</td>\n",
       "      <td>1334</td>\n",
       "      <td>47022</td>\n",
       "      <td>50240</td>\n",
       "      <td>32785</td>\n",
       "      <td>50732</td>\n",
       "      <td>12149</td>\n",
       "      <td>19931</td>\n",
       "      <td>65551</td>\n",
       "      <td>33994</td>\n",
       "      <td>23389</td>\n",
       "      <td>15858</td>\n",
       "      <td>18025</td>\n",
       "    </tr>\n",
       "  </tbody>\n",
       "</table>\n",
       "</div>"
      ],
      "text/plain": [
       "                  timestamp           event    person    url       sku     model condition storage   color                                               skus search_term       staticpage campaign_source search_engine channel new_vs_returning     city     region country device_type screen_resolution operating_system_version browser_version\n",
       "count                832957          832957    832957  62463  462042.0    462417    462042  462042  462042                                             185702       41595             3036           62497         50957   67899            67899    67899      67899   67899       67899             67899                    67899           67899\n",
       "unique               663576              11     17205    219    3745.0       202         5       8      63                                              31808        5093               14              22             4       7                2     1733         78      38           4               219                      110             264\n",
       "top     2018-06-14 15:43:38  viewed product  6b07be7b      /    2830.0  iPhone 6       Bom    16GB   Preto  2820,6706,6720,2750,6649,7251,6663,12604,7224,...      Iphone  CustomerService          google        Google    Paid        Returning  Unknown  Sao Paulo  Brazil    Computer           360x640               Windows 7      Chrome 66.0\n",
       "freq                      9          438604      2770  24545    3518.0     42070    195444  155702  107175                                                494        1002             1334           47022         50240   32785            50732    12149      19931   65551       33994             23389                    15858           18025"
      ]
     },
     "execution_count": 27,
     "metadata": {},
     "output_type": "execute_result"
    }
   ],
   "source": [
    "s_search = (df.loc[df['event'] == 'search engine hit'])['person']\n",
    "df_search_engine_hit = df.loc[df['person'].isin(s_search)]\n",
    "df_search_engine_hit.describe()\n"
   ]
  },
  {
   "cell_type": "code",
   "execution_count": 28,
   "metadata": {},
   "outputs": [
    {
     "data": {
      "text/plain": [
       "viewed product       438604\n",
       "brand listing         82190\n",
       "visited site          67899\n",
       "ad campaign hit       62520\n",
       "generic listing       56596\n",
       "search engine hit     50957\n",
       "searched products     47342\n",
       "checkout              22545\n",
       "staticpage             3036\n",
       "conversion              893\n",
       "lead                    375\n",
       "Name: event, dtype: int64"
      ]
     },
     "execution_count": 28,
     "metadata": {},
     "output_type": "execute_result"
    }
   ],
   "source": [
    "df_search_engine_hit['event'].value_counts()"
   ]
  },
  {
   "cell_type": "code",
   "execution_count": null,
   "metadata": {},
   "outputs": [],
   "source": []
  }
 ],
 "metadata": {
  "kernelspec": {
   "display_name": "Python 3",
   "language": "python",
   "name": "python3"
  },
  "language_info": {
   "codemirror_mode": {
    "name": "ipython",
    "version": 3
   },
   "file_extension": ".py",
   "mimetype": "text/x-python",
   "name": "python",
   "nbconvert_exporter": "python",
   "pygments_lexer": "ipython3",
   "version": "3.7.0"
  }
 },
 "nbformat": 4,
 "nbformat_minor": 1
}
